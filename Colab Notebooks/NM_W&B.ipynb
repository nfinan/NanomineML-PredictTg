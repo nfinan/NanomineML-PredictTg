{
  "nbformat": 4,
  "nbformat_minor": 0,
  "metadata": {
    "colab": {
      "name": "NM W&B.ipynb",
      "provenance": [],
      "toc_visible": true,
      "authorship_tag": "ABX9TyPdzJ9kycuJ2XFfHqmv7730",
      "include_colab_link": true
    },
    "kernelspec": {
      "name": "python3",
      "display_name": "Python 3"
    },
    "language_info": {
      "name": "python"
    },
    "widgets": {
      "application/vnd.jupyter.widget-state+json": {
        "96ecafdf86bf49f0bf618c587f41e0f3": {
          "model_module": "@jupyter-widgets/controls",
          "model_name": "VBoxModel",
          "model_module_version": "1.5.0",
          "state": {
            "_view_name": "VBoxView",
            "_dom_classes": [],
            "_model_name": "VBoxModel",
            "_view_module": "@jupyter-widgets/controls",
            "_model_module_version": "1.5.0",
            "_view_count": null,
            "_view_module_version": "1.5.0",
            "box_style": "",
            "layout": "IPY_MODEL_ae4bd0608b8a4265a79b3d6f67c62742",
            "_model_module": "@jupyter-widgets/controls",
            "children": [
              "IPY_MODEL_6b2384591c714ac49369bf24c1cdf549",
              "IPY_MODEL_e28ef6af04144ab7a6f8273e596fe133"
            ]
          }
        },
        "ae4bd0608b8a4265a79b3d6f67c62742": {
          "model_module": "@jupyter-widgets/base",
          "model_name": "LayoutModel",
          "model_module_version": "1.2.0",
          "state": {
            "_view_name": "LayoutView",
            "grid_template_rows": null,
            "right": null,
            "justify_content": null,
            "_view_module": "@jupyter-widgets/base",
            "overflow": null,
            "_model_module_version": "1.2.0",
            "_view_count": null,
            "flex_flow": null,
            "width": null,
            "min_width": null,
            "border": null,
            "align_items": null,
            "bottom": null,
            "_model_module": "@jupyter-widgets/base",
            "top": null,
            "grid_column": null,
            "overflow_y": null,
            "overflow_x": null,
            "grid_auto_flow": null,
            "grid_area": null,
            "grid_template_columns": null,
            "flex": null,
            "_model_name": "LayoutModel",
            "justify_items": null,
            "grid_row": null,
            "max_height": null,
            "align_content": null,
            "visibility": null,
            "align_self": null,
            "height": null,
            "min_height": null,
            "padding": null,
            "grid_auto_rows": null,
            "grid_gap": null,
            "max_width": null,
            "order": null,
            "_view_module_version": "1.2.0",
            "grid_template_areas": null,
            "object_position": null,
            "object_fit": null,
            "grid_auto_columns": null,
            "margin": null,
            "display": null,
            "left": null
          }
        },
        "6b2384591c714ac49369bf24c1cdf549": {
          "model_module": "@jupyter-widgets/controls",
          "model_name": "LabelModel",
          "model_module_version": "1.5.0",
          "state": {
            "_view_name": "LabelView",
            "style": "IPY_MODEL_5815338cfb4b4468932d4675960d4bd3",
            "_dom_classes": [],
            "description": "",
            "_model_name": "LabelModel",
            "placeholder": "​",
            "_view_module": "@jupyter-widgets/controls",
            "_model_module_version": "1.5.0",
            "value": " 0.01MB of 0.01MB uploaded (0.00MB deduped)\r",
            "_view_count": null,
            "_view_module_version": "1.5.0",
            "description_tooltip": null,
            "_model_module": "@jupyter-widgets/controls",
            "layout": "IPY_MODEL_c80f3e70ffc741eab7a4ef016a14f7fb"
          }
        },
        "e28ef6af04144ab7a6f8273e596fe133": {
          "model_module": "@jupyter-widgets/controls",
          "model_name": "FloatProgressModel",
          "model_module_version": "1.5.0",
          "state": {
            "_view_name": "ProgressView",
            "style": "IPY_MODEL_08a0f5b574e84f5e9e4373f8d3c36f25",
            "_dom_classes": [],
            "description": "",
            "_model_name": "FloatProgressModel",
            "bar_style": "",
            "max": 1,
            "_view_module": "@jupyter-widgets/controls",
            "_model_module_version": "1.5.0",
            "value": 1,
            "_view_count": null,
            "_view_module_version": "1.5.0",
            "orientation": "horizontal",
            "min": 0,
            "description_tooltip": null,
            "_model_module": "@jupyter-widgets/controls",
            "layout": "IPY_MODEL_b2ce457f38ce423ebcbc20cfba12489d"
          }
        },
        "5815338cfb4b4468932d4675960d4bd3": {
          "model_module": "@jupyter-widgets/controls",
          "model_name": "DescriptionStyleModel",
          "model_module_version": "1.5.0",
          "state": {
            "_view_name": "StyleView",
            "_model_name": "DescriptionStyleModel",
            "description_width": "",
            "_view_module": "@jupyter-widgets/base",
            "_model_module_version": "1.5.0",
            "_view_count": null,
            "_view_module_version": "1.2.0",
            "_model_module": "@jupyter-widgets/controls"
          }
        },
        "c80f3e70ffc741eab7a4ef016a14f7fb": {
          "model_module": "@jupyter-widgets/base",
          "model_name": "LayoutModel",
          "model_module_version": "1.2.0",
          "state": {
            "_view_name": "LayoutView",
            "grid_template_rows": null,
            "right": null,
            "justify_content": null,
            "_view_module": "@jupyter-widgets/base",
            "overflow": null,
            "_model_module_version": "1.2.0",
            "_view_count": null,
            "flex_flow": null,
            "width": null,
            "min_width": null,
            "border": null,
            "align_items": null,
            "bottom": null,
            "_model_module": "@jupyter-widgets/base",
            "top": null,
            "grid_column": null,
            "overflow_y": null,
            "overflow_x": null,
            "grid_auto_flow": null,
            "grid_area": null,
            "grid_template_columns": null,
            "flex": null,
            "_model_name": "LayoutModel",
            "justify_items": null,
            "grid_row": null,
            "max_height": null,
            "align_content": null,
            "visibility": null,
            "align_self": null,
            "height": null,
            "min_height": null,
            "padding": null,
            "grid_auto_rows": null,
            "grid_gap": null,
            "max_width": null,
            "order": null,
            "_view_module_version": "1.2.0",
            "grid_template_areas": null,
            "object_position": null,
            "object_fit": null,
            "grid_auto_columns": null,
            "margin": null,
            "display": null,
            "left": null
          }
        },
        "08a0f5b574e84f5e9e4373f8d3c36f25": {
          "model_module": "@jupyter-widgets/controls",
          "model_name": "ProgressStyleModel",
          "model_module_version": "1.5.0",
          "state": {
            "_view_name": "StyleView",
            "_model_name": "ProgressStyleModel",
            "description_width": "",
            "_view_module": "@jupyter-widgets/base",
            "_model_module_version": "1.5.0",
            "_view_count": null,
            "_view_module_version": "1.2.0",
            "bar_color": null,
            "_model_module": "@jupyter-widgets/controls"
          }
        },
        "b2ce457f38ce423ebcbc20cfba12489d": {
          "model_module": "@jupyter-widgets/base",
          "model_name": "LayoutModel",
          "model_module_version": "1.2.0",
          "state": {
            "_view_name": "LayoutView",
            "grid_template_rows": null,
            "right": null,
            "justify_content": null,
            "_view_module": "@jupyter-widgets/base",
            "overflow": null,
            "_model_module_version": "1.2.0",
            "_view_count": null,
            "flex_flow": null,
            "width": null,
            "min_width": null,
            "border": null,
            "align_items": null,
            "bottom": null,
            "_model_module": "@jupyter-widgets/base",
            "top": null,
            "grid_column": null,
            "overflow_y": null,
            "overflow_x": null,
            "grid_auto_flow": null,
            "grid_area": null,
            "grid_template_columns": null,
            "flex": null,
            "_model_name": "LayoutModel",
            "justify_items": null,
            "grid_row": null,
            "max_height": null,
            "align_content": null,
            "visibility": null,
            "align_self": null,
            "height": null,
            "min_height": null,
            "padding": null,
            "grid_auto_rows": null,
            "grid_gap": null,
            "max_width": null,
            "order": null,
            "_view_module_version": "1.2.0",
            "grid_template_areas": null,
            "object_position": null,
            "object_fit": null,
            "grid_auto_columns": null,
            "margin": null,
            "display": null,
            "left": null
          }
        },
        "e9feffaac6f74767a922c6547ab7ee24": {
          "model_module": "@jupyter-widgets/controls",
          "model_name": "VBoxModel",
          "model_module_version": "1.5.0",
          "state": {
            "_view_name": "VBoxView",
            "_dom_classes": [],
            "_model_name": "VBoxModel",
            "_view_module": "@jupyter-widgets/controls",
            "_model_module_version": "1.5.0",
            "_view_count": null,
            "_view_module_version": "1.5.0",
            "box_style": "",
            "layout": "IPY_MODEL_799bf18018c742faa3c44836437c782b",
            "_model_module": "@jupyter-widgets/controls",
            "children": [
              "IPY_MODEL_3b95a3baee794bfd8a0c400cb645f923",
              "IPY_MODEL_38d439f218f64c57a8739c9448a2b5a6"
            ]
          }
        },
        "799bf18018c742faa3c44836437c782b": {
          "model_module": "@jupyter-widgets/base",
          "model_name": "LayoutModel",
          "model_module_version": "1.2.0",
          "state": {
            "_view_name": "LayoutView",
            "grid_template_rows": null,
            "right": null,
            "justify_content": null,
            "_view_module": "@jupyter-widgets/base",
            "overflow": null,
            "_model_module_version": "1.2.0",
            "_view_count": null,
            "flex_flow": null,
            "width": null,
            "min_width": null,
            "border": null,
            "align_items": null,
            "bottom": null,
            "_model_module": "@jupyter-widgets/base",
            "top": null,
            "grid_column": null,
            "overflow_y": null,
            "overflow_x": null,
            "grid_auto_flow": null,
            "grid_area": null,
            "grid_template_columns": null,
            "flex": null,
            "_model_name": "LayoutModel",
            "justify_items": null,
            "grid_row": null,
            "max_height": null,
            "align_content": null,
            "visibility": null,
            "align_self": null,
            "height": null,
            "min_height": null,
            "padding": null,
            "grid_auto_rows": null,
            "grid_gap": null,
            "max_width": null,
            "order": null,
            "_view_module_version": "1.2.0",
            "grid_template_areas": null,
            "object_position": null,
            "object_fit": null,
            "grid_auto_columns": null,
            "margin": null,
            "display": null,
            "left": null
          }
        },
        "3b95a3baee794bfd8a0c400cb645f923": {
          "model_module": "@jupyter-widgets/controls",
          "model_name": "LabelModel",
          "model_module_version": "1.5.0",
          "state": {
            "_view_name": "LabelView",
            "style": "IPY_MODEL_b48300d9b3e8474b982ff269c5d666f5",
            "_dom_classes": [],
            "description": "",
            "_model_name": "LabelModel",
            "placeholder": "​",
            "_view_module": "@jupyter-widgets/controls",
            "_model_module_version": "1.5.0",
            "value": " 0.01MB of 0.01MB uploaded (0.00MB deduped)\r",
            "_view_count": null,
            "_view_module_version": "1.5.0",
            "description_tooltip": null,
            "_model_module": "@jupyter-widgets/controls",
            "layout": "IPY_MODEL_a6697fb2372240e288137d0190950641"
          }
        },
        "38d439f218f64c57a8739c9448a2b5a6": {
          "model_module": "@jupyter-widgets/controls",
          "model_name": "FloatProgressModel",
          "model_module_version": "1.5.0",
          "state": {
            "_view_name": "ProgressView",
            "style": "IPY_MODEL_ecb548ac611143659f00bf03ee91aa26",
            "_dom_classes": [],
            "description": "",
            "_model_name": "FloatProgressModel",
            "bar_style": "",
            "max": 1,
            "_view_module": "@jupyter-widgets/controls",
            "_model_module_version": "1.5.0",
            "value": 1,
            "_view_count": null,
            "_view_module_version": "1.5.0",
            "orientation": "horizontal",
            "min": 0,
            "description_tooltip": null,
            "_model_module": "@jupyter-widgets/controls",
            "layout": "IPY_MODEL_8e3c1e3476124422ab9a25c33dd6b834"
          }
        },
        "b48300d9b3e8474b982ff269c5d666f5": {
          "model_module": "@jupyter-widgets/controls",
          "model_name": "DescriptionStyleModel",
          "model_module_version": "1.5.0",
          "state": {
            "_view_name": "StyleView",
            "_model_name": "DescriptionStyleModel",
            "description_width": "",
            "_view_module": "@jupyter-widgets/base",
            "_model_module_version": "1.5.0",
            "_view_count": null,
            "_view_module_version": "1.2.0",
            "_model_module": "@jupyter-widgets/controls"
          }
        },
        "a6697fb2372240e288137d0190950641": {
          "model_module": "@jupyter-widgets/base",
          "model_name": "LayoutModel",
          "model_module_version": "1.2.0",
          "state": {
            "_view_name": "LayoutView",
            "grid_template_rows": null,
            "right": null,
            "justify_content": null,
            "_view_module": "@jupyter-widgets/base",
            "overflow": null,
            "_model_module_version": "1.2.0",
            "_view_count": null,
            "flex_flow": null,
            "width": null,
            "min_width": null,
            "border": null,
            "align_items": null,
            "bottom": null,
            "_model_module": "@jupyter-widgets/base",
            "top": null,
            "grid_column": null,
            "overflow_y": null,
            "overflow_x": null,
            "grid_auto_flow": null,
            "grid_area": null,
            "grid_template_columns": null,
            "flex": null,
            "_model_name": "LayoutModel",
            "justify_items": null,
            "grid_row": null,
            "max_height": null,
            "align_content": null,
            "visibility": null,
            "align_self": null,
            "height": null,
            "min_height": null,
            "padding": null,
            "grid_auto_rows": null,
            "grid_gap": null,
            "max_width": null,
            "order": null,
            "_view_module_version": "1.2.0",
            "grid_template_areas": null,
            "object_position": null,
            "object_fit": null,
            "grid_auto_columns": null,
            "margin": null,
            "display": null,
            "left": null
          }
        },
        "ecb548ac611143659f00bf03ee91aa26": {
          "model_module": "@jupyter-widgets/controls",
          "model_name": "ProgressStyleModel",
          "model_module_version": "1.5.0",
          "state": {
            "_view_name": "StyleView",
            "_model_name": "ProgressStyleModel",
            "description_width": "",
            "_view_module": "@jupyter-widgets/base",
            "_model_module_version": "1.5.0",
            "_view_count": null,
            "_view_module_version": "1.2.0",
            "bar_color": null,
            "_model_module": "@jupyter-widgets/controls"
          }
        },
        "8e3c1e3476124422ab9a25c33dd6b834": {
          "model_module": "@jupyter-widgets/base",
          "model_name": "LayoutModel",
          "model_module_version": "1.2.0",
          "state": {
            "_view_name": "LayoutView",
            "grid_template_rows": null,
            "right": null,
            "justify_content": null,
            "_view_module": "@jupyter-widgets/base",
            "overflow": null,
            "_model_module_version": "1.2.0",
            "_view_count": null,
            "flex_flow": null,
            "width": null,
            "min_width": null,
            "border": null,
            "align_items": null,
            "bottom": null,
            "_model_module": "@jupyter-widgets/base",
            "top": null,
            "grid_column": null,
            "overflow_y": null,
            "overflow_x": null,
            "grid_auto_flow": null,
            "grid_area": null,
            "grid_template_columns": null,
            "flex": null,
            "_model_name": "LayoutModel",
            "justify_items": null,
            "grid_row": null,
            "max_height": null,
            "align_content": null,
            "visibility": null,
            "align_self": null,
            "height": null,
            "min_height": null,
            "padding": null,
            "grid_auto_rows": null,
            "grid_gap": null,
            "max_width": null,
            "order": null,
            "_view_module_version": "1.2.0",
            "grid_template_areas": null,
            "object_position": null,
            "object_fit": null,
            "grid_auto_columns": null,
            "margin": null,
            "display": null,
            "left": null
          }
        },
        "28f7c892815640da830b6fc281e1ed9d": {
          "model_module": "@jupyter-widgets/controls",
          "model_name": "VBoxModel",
          "model_module_version": "1.5.0",
          "state": {
            "_view_name": "VBoxView",
            "_dom_classes": [],
            "_model_name": "VBoxModel",
            "_view_module": "@jupyter-widgets/controls",
            "_model_module_version": "1.5.0",
            "_view_count": null,
            "_view_module_version": "1.5.0",
            "box_style": "",
            "layout": "IPY_MODEL_6652d19cf42348ea8d4e06f52667c168",
            "_model_module": "@jupyter-widgets/controls",
            "children": [
              "IPY_MODEL_eccd12ff81e94c5e896f08ab7f3893ee",
              "IPY_MODEL_f7858e890d7349ae8afff409aed7c11f"
            ]
          }
        },
        "6652d19cf42348ea8d4e06f52667c168": {
          "model_module": "@jupyter-widgets/base",
          "model_name": "LayoutModel",
          "model_module_version": "1.2.0",
          "state": {
            "_view_name": "LayoutView",
            "grid_template_rows": null,
            "right": null,
            "justify_content": null,
            "_view_module": "@jupyter-widgets/base",
            "overflow": null,
            "_model_module_version": "1.2.0",
            "_view_count": null,
            "flex_flow": null,
            "width": null,
            "min_width": null,
            "border": null,
            "align_items": null,
            "bottom": null,
            "_model_module": "@jupyter-widgets/base",
            "top": null,
            "grid_column": null,
            "overflow_y": null,
            "overflow_x": null,
            "grid_auto_flow": null,
            "grid_area": null,
            "grid_template_columns": null,
            "flex": null,
            "_model_name": "LayoutModel",
            "justify_items": null,
            "grid_row": null,
            "max_height": null,
            "align_content": null,
            "visibility": null,
            "align_self": null,
            "height": null,
            "min_height": null,
            "padding": null,
            "grid_auto_rows": null,
            "grid_gap": null,
            "max_width": null,
            "order": null,
            "_view_module_version": "1.2.0",
            "grid_template_areas": null,
            "object_position": null,
            "object_fit": null,
            "grid_auto_columns": null,
            "margin": null,
            "display": null,
            "left": null
          }
        },
        "eccd12ff81e94c5e896f08ab7f3893ee": {
          "model_module": "@jupyter-widgets/controls",
          "model_name": "LabelModel",
          "model_module_version": "1.5.0",
          "state": {
            "_view_name": "LabelView",
            "style": "IPY_MODEL_4abb972ef1584ea880f029903b3d896e",
            "_dom_classes": [],
            "description": "",
            "_model_name": "LabelModel",
            "placeholder": "​",
            "_view_module": "@jupyter-widgets/controls",
            "_model_module_version": "1.5.0",
            "value": " 0.01MB of 0.01MB uploaded (0.00MB deduped)\r",
            "_view_count": null,
            "_view_module_version": "1.5.0",
            "description_tooltip": null,
            "_model_module": "@jupyter-widgets/controls",
            "layout": "IPY_MODEL_540cfcb09e58455a93a3a35757d9015f"
          }
        },
        "f7858e890d7349ae8afff409aed7c11f": {
          "model_module": "@jupyter-widgets/controls",
          "model_name": "FloatProgressModel",
          "model_module_version": "1.5.0",
          "state": {
            "_view_name": "ProgressView",
            "style": "IPY_MODEL_553667aee72b4e60a2f662576e65c7c8",
            "_dom_classes": [],
            "description": "",
            "_model_name": "FloatProgressModel",
            "bar_style": "",
            "max": 1,
            "_view_module": "@jupyter-widgets/controls",
            "_model_module_version": "1.5.0",
            "value": 1,
            "_view_count": null,
            "_view_module_version": "1.5.0",
            "orientation": "horizontal",
            "min": 0,
            "description_tooltip": null,
            "_model_module": "@jupyter-widgets/controls",
            "layout": "IPY_MODEL_bda00aa65517421d8d8fdf076e0e41fe"
          }
        },
        "4abb972ef1584ea880f029903b3d896e": {
          "model_module": "@jupyter-widgets/controls",
          "model_name": "DescriptionStyleModel",
          "model_module_version": "1.5.0",
          "state": {
            "_view_name": "StyleView",
            "_model_name": "DescriptionStyleModel",
            "description_width": "",
            "_view_module": "@jupyter-widgets/base",
            "_model_module_version": "1.5.0",
            "_view_count": null,
            "_view_module_version": "1.2.0",
            "_model_module": "@jupyter-widgets/controls"
          }
        },
        "540cfcb09e58455a93a3a35757d9015f": {
          "model_module": "@jupyter-widgets/base",
          "model_name": "LayoutModel",
          "model_module_version": "1.2.0",
          "state": {
            "_view_name": "LayoutView",
            "grid_template_rows": null,
            "right": null,
            "justify_content": null,
            "_view_module": "@jupyter-widgets/base",
            "overflow": null,
            "_model_module_version": "1.2.0",
            "_view_count": null,
            "flex_flow": null,
            "width": null,
            "min_width": null,
            "border": null,
            "align_items": null,
            "bottom": null,
            "_model_module": "@jupyter-widgets/base",
            "top": null,
            "grid_column": null,
            "overflow_y": null,
            "overflow_x": null,
            "grid_auto_flow": null,
            "grid_area": null,
            "grid_template_columns": null,
            "flex": null,
            "_model_name": "LayoutModel",
            "justify_items": null,
            "grid_row": null,
            "max_height": null,
            "align_content": null,
            "visibility": null,
            "align_self": null,
            "height": null,
            "min_height": null,
            "padding": null,
            "grid_auto_rows": null,
            "grid_gap": null,
            "max_width": null,
            "order": null,
            "_view_module_version": "1.2.0",
            "grid_template_areas": null,
            "object_position": null,
            "object_fit": null,
            "grid_auto_columns": null,
            "margin": null,
            "display": null,
            "left": null
          }
        },
        "553667aee72b4e60a2f662576e65c7c8": {
          "model_module": "@jupyter-widgets/controls",
          "model_name": "ProgressStyleModel",
          "model_module_version": "1.5.0",
          "state": {
            "_view_name": "StyleView",
            "_model_name": "ProgressStyleModel",
            "description_width": "",
            "_view_module": "@jupyter-widgets/base",
            "_model_module_version": "1.5.0",
            "_view_count": null,
            "_view_module_version": "1.2.0",
            "bar_color": null,
            "_model_module": "@jupyter-widgets/controls"
          }
        },
        "bda00aa65517421d8d8fdf076e0e41fe": {
          "model_module": "@jupyter-widgets/base",
          "model_name": "LayoutModel",
          "model_module_version": "1.2.0",
          "state": {
            "_view_name": "LayoutView",
            "grid_template_rows": null,
            "right": null,
            "justify_content": null,
            "_view_module": "@jupyter-widgets/base",
            "overflow": null,
            "_model_module_version": "1.2.0",
            "_view_count": null,
            "flex_flow": null,
            "width": null,
            "min_width": null,
            "border": null,
            "align_items": null,
            "bottom": null,
            "_model_module": "@jupyter-widgets/base",
            "top": null,
            "grid_column": null,
            "overflow_y": null,
            "overflow_x": null,
            "grid_auto_flow": null,
            "grid_area": null,
            "grid_template_columns": null,
            "flex": null,
            "_model_name": "LayoutModel",
            "justify_items": null,
            "grid_row": null,
            "max_height": null,
            "align_content": null,
            "visibility": null,
            "align_self": null,
            "height": null,
            "min_height": null,
            "padding": null,
            "grid_auto_rows": null,
            "grid_gap": null,
            "max_width": null,
            "order": null,
            "_view_module_version": "1.2.0",
            "grid_template_areas": null,
            "object_position": null,
            "object_fit": null,
            "grid_auto_columns": null,
            "margin": null,
            "display": null,
            "left": null
          }
        },
        "4f1efbb387a14f059fe4a1576b4112b0": {
          "model_module": "@jupyter-widgets/controls",
          "model_name": "VBoxModel",
          "model_module_version": "1.5.0",
          "state": {
            "_view_name": "VBoxView",
            "_dom_classes": [],
            "_model_name": "VBoxModel",
            "_view_module": "@jupyter-widgets/controls",
            "_model_module_version": "1.5.0",
            "_view_count": null,
            "_view_module_version": "1.5.0",
            "box_style": "",
            "layout": "IPY_MODEL_f5b738d7a53f4fa49dccc20d0801578d",
            "_model_module": "@jupyter-widgets/controls",
            "children": [
              "IPY_MODEL_eab326fd3ce74502a26e7e7039deee74",
              "IPY_MODEL_4b01fd4f51524f648c93fe96fbd8ce87"
            ]
          }
        },
        "f5b738d7a53f4fa49dccc20d0801578d": {
          "model_module": "@jupyter-widgets/base",
          "model_name": "LayoutModel",
          "model_module_version": "1.2.0",
          "state": {
            "_view_name": "LayoutView",
            "grid_template_rows": null,
            "right": null,
            "justify_content": null,
            "_view_module": "@jupyter-widgets/base",
            "overflow": null,
            "_model_module_version": "1.2.0",
            "_view_count": null,
            "flex_flow": null,
            "width": null,
            "min_width": null,
            "border": null,
            "align_items": null,
            "bottom": null,
            "_model_module": "@jupyter-widgets/base",
            "top": null,
            "grid_column": null,
            "overflow_y": null,
            "overflow_x": null,
            "grid_auto_flow": null,
            "grid_area": null,
            "grid_template_columns": null,
            "flex": null,
            "_model_name": "LayoutModel",
            "justify_items": null,
            "grid_row": null,
            "max_height": null,
            "align_content": null,
            "visibility": null,
            "align_self": null,
            "height": null,
            "min_height": null,
            "padding": null,
            "grid_auto_rows": null,
            "grid_gap": null,
            "max_width": null,
            "order": null,
            "_view_module_version": "1.2.0",
            "grid_template_areas": null,
            "object_position": null,
            "object_fit": null,
            "grid_auto_columns": null,
            "margin": null,
            "display": null,
            "left": null
          }
        },
        "eab326fd3ce74502a26e7e7039deee74": {
          "model_module": "@jupyter-widgets/controls",
          "model_name": "LabelModel",
          "model_module_version": "1.5.0",
          "state": {
            "_view_name": "LabelView",
            "style": "IPY_MODEL_558dfb6718264648a97e9cb8224dbb19",
            "_dom_classes": [],
            "description": "",
            "_model_name": "LabelModel",
            "placeholder": "​",
            "_view_module": "@jupyter-widgets/controls",
            "_model_module_version": "1.5.0",
            "value": " 0.01MB of 0.01MB uploaded (0.00MB deduped)\r",
            "_view_count": null,
            "_view_module_version": "1.5.0",
            "description_tooltip": null,
            "_model_module": "@jupyter-widgets/controls",
            "layout": "IPY_MODEL_ce488f2b83134ea2bd8862ca856f4b41"
          }
        },
        "4b01fd4f51524f648c93fe96fbd8ce87": {
          "model_module": "@jupyter-widgets/controls",
          "model_name": "FloatProgressModel",
          "model_module_version": "1.5.0",
          "state": {
            "_view_name": "ProgressView",
            "style": "IPY_MODEL_29df76558f96403a8edaf73ff25c8e5f",
            "_dom_classes": [],
            "description": "",
            "_model_name": "FloatProgressModel",
            "bar_style": "",
            "max": 1,
            "_view_module": "@jupyter-widgets/controls",
            "_model_module_version": "1.5.0",
            "value": 1,
            "_view_count": null,
            "_view_module_version": "1.5.0",
            "orientation": "horizontal",
            "min": 0,
            "description_tooltip": null,
            "_model_module": "@jupyter-widgets/controls",
            "layout": "IPY_MODEL_6916565ce1d341a4939a9c1180ba140f"
          }
        },
        "558dfb6718264648a97e9cb8224dbb19": {
          "model_module": "@jupyter-widgets/controls",
          "model_name": "DescriptionStyleModel",
          "model_module_version": "1.5.0",
          "state": {
            "_view_name": "StyleView",
            "_model_name": "DescriptionStyleModel",
            "description_width": "",
            "_view_module": "@jupyter-widgets/base",
            "_model_module_version": "1.5.0",
            "_view_count": null,
            "_view_module_version": "1.2.0",
            "_model_module": "@jupyter-widgets/controls"
          }
        },
        "ce488f2b83134ea2bd8862ca856f4b41": {
          "model_module": "@jupyter-widgets/base",
          "model_name": "LayoutModel",
          "model_module_version": "1.2.0",
          "state": {
            "_view_name": "LayoutView",
            "grid_template_rows": null,
            "right": null,
            "justify_content": null,
            "_view_module": "@jupyter-widgets/base",
            "overflow": null,
            "_model_module_version": "1.2.0",
            "_view_count": null,
            "flex_flow": null,
            "width": null,
            "min_width": null,
            "border": null,
            "align_items": null,
            "bottom": null,
            "_model_module": "@jupyter-widgets/base",
            "top": null,
            "grid_column": null,
            "overflow_y": null,
            "overflow_x": null,
            "grid_auto_flow": null,
            "grid_area": null,
            "grid_template_columns": null,
            "flex": null,
            "_model_name": "LayoutModel",
            "justify_items": null,
            "grid_row": null,
            "max_height": null,
            "align_content": null,
            "visibility": null,
            "align_self": null,
            "height": null,
            "min_height": null,
            "padding": null,
            "grid_auto_rows": null,
            "grid_gap": null,
            "max_width": null,
            "order": null,
            "_view_module_version": "1.2.0",
            "grid_template_areas": null,
            "object_position": null,
            "object_fit": null,
            "grid_auto_columns": null,
            "margin": null,
            "display": null,
            "left": null
          }
        },
        "29df76558f96403a8edaf73ff25c8e5f": {
          "model_module": "@jupyter-widgets/controls",
          "model_name": "ProgressStyleModel",
          "model_module_version": "1.5.0",
          "state": {
            "_view_name": "StyleView",
            "_model_name": "ProgressStyleModel",
            "description_width": "",
            "_view_module": "@jupyter-widgets/base",
            "_model_module_version": "1.5.0",
            "_view_count": null,
            "_view_module_version": "1.2.0",
            "bar_color": null,
            "_model_module": "@jupyter-widgets/controls"
          }
        },
        "6916565ce1d341a4939a9c1180ba140f": {
          "model_module": "@jupyter-widgets/base",
          "model_name": "LayoutModel",
          "model_module_version": "1.2.0",
          "state": {
            "_view_name": "LayoutView",
            "grid_template_rows": null,
            "right": null,
            "justify_content": null,
            "_view_module": "@jupyter-widgets/base",
            "overflow": null,
            "_model_module_version": "1.2.0",
            "_view_count": null,
            "flex_flow": null,
            "width": null,
            "min_width": null,
            "border": null,
            "align_items": null,
            "bottom": null,
            "_model_module": "@jupyter-widgets/base",
            "top": null,
            "grid_column": null,
            "overflow_y": null,
            "overflow_x": null,
            "grid_auto_flow": null,
            "grid_area": null,
            "grid_template_columns": null,
            "flex": null,
            "_model_name": "LayoutModel",
            "justify_items": null,
            "grid_row": null,
            "max_height": null,
            "align_content": null,
            "visibility": null,
            "align_self": null,
            "height": null,
            "min_height": null,
            "padding": null,
            "grid_auto_rows": null,
            "grid_gap": null,
            "max_width": null,
            "order": null,
            "_view_module_version": "1.2.0",
            "grid_template_areas": null,
            "object_position": null,
            "object_fit": null,
            "grid_auto_columns": null,
            "margin": null,
            "display": null,
            "left": null
          }
        },
        "4c587f15ecbc487ba1015ed55af26600": {
          "model_module": "@jupyter-widgets/controls",
          "model_name": "VBoxModel",
          "model_module_version": "1.5.0",
          "state": {
            "_view_name": "VBoxView",
            "_dom_classes": [],
            "_model_name": "VBoxModel",
            "_view_module": "@jupyter-widgets/controls",
            "_model_module_version": "1.5.0",
            "_view_count": null,
            "_view_module_version": "1.5.0",
            "box_style": "",
            "layout": "IPY_MODEL_2f1ae7297c5d48549780b4dd98217fa3",
            "_model_module": "@jupyter-widgets/controls",
            "children": [
              "IPY_MODEL_5b25e317b91c4fc9b39092e03c5bfaec",
              "IPY_MODEL_a459c36db9994f548be3a12b676c70bb"
            ]
          }
        },
        "2f1ae7297c5d48549780b4dd98217fa3": {
          "model_module": "@jupyter-widgets/base",
          "model_name": "LayoutModel",
          "model_module_version": "1.2.0",
          "state": {
            "_view_name": "LayoutView",
            "grid_template_rows": null,
            "right": null,
            "justify_content": null,
            "_view_module": "@jupyter-widgets/base",
            "overflow": null,
            "_model_module_version": "1.2.0",
            "_view_count": null,
            "flex_flow": null,
            "width": null,
            "min_width": null,
            "border": null,
            "align_items": null,
            "bottom": null,
            "_model_module": "@jupyter-widgets/base",
            "top": null,
            "grid_column": null,
            "overflow_y": null,
            "overflow_x": null,
            "grid_auto_flow": null,
            "grid_area": null,
            "grid_template_columns": null,
            "flex": null,
            "_model_name": "LayoutModel",
            "justify_items": null,
            "grid_row": null,
            "max_height": null,
            "align_content": null,
            "visibility": null,
            "align_self": null,
            "height": null,
            "min_height": null,
            "padding": null,
            "grid_auto_rows": null,
            "grid_gap": null,
            "max_width": null,
            "order": null,
            "_view_module_version": "1.2.0",
            "grid_template_areas": null,
            "object_position": null,
            "object_fit": null,
            "grid_auto_columns": null,
            "margin": null,
            "display": null,
            "left": null
          }
        },
        "5b25e317b91c4fc9b39092e03c5bfaec": {
          "model_module": "@jupyter-widgets/controls",
          "model_name": "LabelModel",
          "model_module_version": "1.5.0",
          "state": {
            "_view_name": "LabelView",
            "style": "IPY_MODEL_d6ce62bf42ce48f0a3744525549281be",
            "_dom_classes": [],
            "description": "",
            "_model_name": "LabelModel",
            "placeholder": "​",
            "_view_module": "@jupyter-widgets/controls",
            "_model_module_version": "1.5.0",
            "value": " 0.01MB of 0.01MB uploaded (0.00MB deduped)\r",
            "_view_count": null,
            "_view_module_version": "1.5.0",
            "description_tooltip": null,
            "_model_module": "@jupyter-widgets/controls",
            "layout": "IPY_MODEL_a880a30e502c4a8dbc5575a190d36862"
          }
        },
        "a459c36db9994f548be3a12b676c70bb": {
          "model_module": "@jupyter-widgets/controls",
          "model_name": "FloatProgressModel",
          "model_module_version": "1.5.0",
          "state": {
            "_view_name": "ProgressView",
            "style": "IPY_MODEL_18df8638728a46acbf3ec78675ced961",
            "_dom_classes": [],
            "description": "",
            "_model_name": "FloatProgressModel",
            "bar_style": "",
            "max": 1,
            "_view_module": "@jupyter-widgets/controls",
            "_model_module_version": "1.5.0",
            "value": 1,
            "_view_count": null,
            "_view_module_version": "1.5.0",
            "orientation": "horizontal",
            "min": 0,
            "description_tooltip": null,
            "_model_module": "@jupyter-widgets/controls",
            "layout": "IPY_MODEL_27e13e7f3ac8417990f8f1e3cf705511"
          }
        },
        "d6ce62bf42ce48f0a3744525549281be": {
          "model_module": "@jupyter-widgets/controls",
          "model_name": "DescriptionStyleModel",
          "model_module_version": "1.5.0",
          "state": {
            "_view_name": "StyleView",
            "_model_name": "DescriptionStyleModel",
            "description_width": "",
            "_view_module": "@jupyter-widgets/base",
            "_model_module_version": "1.5.0",
            "_view_count": null,
            "_view_module_version": "1.2.0",
            "_model_module": "@jupyter-widgets/controls"
          }
        },
        "a880a30e502c4a8dbc5575a190d36862": {
          "model_module": "@jupyter-widgets/base",
          "model_name": "LayoutModel",
          "model_module_version": "1.2.0",
          "state": {
            "_view_name": "LayoutView",
            "grid_template_rows": null,
            "right": null,
            "justify_content": null,
            "_view_module": "@jupyter-widgets/base",
            "overflow": null,
            "_model_module_version": "1.2.0",
            "_view_count": null,
            "flex_flow": null,
            "width": null,
            "min_width": null,
            "border": null,
            "align_items": null,
            "bottom": null,
            "_model_module": "@jupyter-widgets/base",
            "top": null,
            "grid_column": null,
            "overflow_y": null,
            "overflow_x": null,
            "grid_auto_flow": null,
            "grid_area": null,
            "grid_template_columns": null,
            "flex": null,
            "_model_name": "LayoutModel",
            "justify_items": null,
            "grid_row": null,
            "max_height": null,
            "align_content": null,
            "visibility": null,
            "align_self": null,
            "height": null,
            "min_height": null,
            "padding": null,
            "grid_auto_rows": null,
            "grid_gap": null,
            "max_width": null,
            "order": null,
            "_view_module_version": "1.2.0",
            "grid_template_areas": null,
            "object_position": null,
            "object_fit": null,
            "grid_auto_columns": null,
            "margin": null,
            "display": null,
            "left": null
          }
        },
        "18df8638728a46acbf3ec78675ced961": {
          "model_module": "@jupyter-widgets/controls",
          "model_name": "ProgressStyleModel",
          "model_module_version": "1.5.0",
          "state": {
            "_view_name": "StyleView",
            "_model_name": "ProgressStyleModel",
            "description_width": "",
            "_view_module": "@jupyter-widgets/base",
            "_model_module_version": "1.5.0",
            "_view_count": null,
            "_view_module_version": "1.2.0",
            "bar_color": null,
            "_model_module": "@jupyter-widgets/controls"
          }
        },
        "27e13e7f3ac8417990f8f1e3cf705511": {
          "model_module": "@jupyter-widgets/base",
          "model_name": "LayoutModel",
          "model_module_version": "1.2.0",
          "state": {
            "_view_name": "LayoutView",
            "grid_template_rows": null,
            "right": null,
            "justify_content": null,
            "_view_module": "@jupyter-widgets/base",
            "overflow": null,
            "_model_module_version": "1.2.0",
            "_view_count": null,
            "flex_flow": null,
            "width": null,
            "min_width": null,
            "border": null,
            "align_items": null,
            "bottom": null,
            "_model_module": "@jupyter-widgets/base",
            "top": null,
            "grid_column": null,
            "overflow_y": null,
            "overflow_x": null,
            "grid_auto_flow": null,
            "grid_area": null,
            "grid_template_columns": null,
            "flex": null,
            "_model_name": "LayoutModel",
            "justify_items": null,
            "grid_row": null,
            "max_height": null,
            "align_content": null,
            "visibility": null,
            "align_self": null,
            "height": null,
            "min_height": null,
            "padding": null,
            "grid_auto_rows": null,
            "grid_gap": null,
            "max_width": null,
            "order": null,
            "_view_module_version": "1.2.0",
            "grid_template_areas": null,
            "object_position": null,
            "object_fit": null,
            "grid_auto_columns": null,
            "margin": null,
            "display": null,
            "left": null
          }
        },
        "79c0916a1f404c6797c4b4cfa35f1529": {
          "model_module": "@jupyter-widgets/controls",
          "model_name": "VBoxModel",
          "model_module_version": "1.5.0",
          "state": {
            "_view_name": "VBoxView",
            "_dom_classes": [],
            "_model_name": "VBoxModel",
            "_view_module": "@jupyter-widgets/controls",
            "_model_module_version": "1.5.0",
            "_view_count": null,
            "_view_module_version": "1.5.0",
            "box_style": "",
            "layout": "IPY_MODEL_864914a2ad1045f6a0a5e1540140bf5f",
            "_model_module": "@jupyter-widgets/controls",
            "children": [
              "IPY_MODEL_a563bd0425d247ce895c125ca8a5ce9a",
              "IPY_MODEL_b32a5d00e989436bbbbf38dfd1d3310d"
            ]
          }
        },
        "864914a2ad1045f6a0a5e1540140bf5f": {
          "model_module": "@jupyter-widgets/base",
          "model_name": "LayoutModel",
          "model_module_version": "1.2.0",
          "state": {
            "_view_name": "LayoutView",
            "grid_template_rows": null,
            "right": null,
            "justify_content": null,
            "_view_module": "@jupyter-widgets/base",
            "overflow": null,
            "_model_module_version": "1.2.0",
            "_view_count": null,
            "flex_flow": null,
            "width": null,
            "min_width": null,
            "border": null,
            "align_items": null,
            "bottom": null,
            "_model_module": "@jupyter-widgets/base",
            "top": null,
            "grid_column": null,
            "overflow_y": null,
            "overflow_x": null,
            "grid_auto_flow": null,
            "grid_area": null,
            "grid_template_columns": null,
            "flex": null,
            "_model_name": "LayoutModel",
            "justify_items": null,
            "grid_row": null,
            "max_height": null,
            "align_content": null,
            "visibility": null,
            "align_self": null,
            "height": null,
            "min_height": null,
            "padding": null,
            "grid_auto_rows": null,
            "grid_gap": null,
            "max_width": null,
            "order": null,
            "_view_module_version": "1.2.0",
            "grid_template_areas": null,
            "object_position": null,
            "object_fit": null,
            "grid_auto_columns": null,
            "margin": null,
            "display": null,
            "left": null
          }
        },
        "a563bd0425d247ce895c125ca8a5ce9a": {
          "model_module": "@jupyter-widgets/controls",
          "model_name": "LabelModel",
          "model_module_version": "1.5.0",
          "state": {
            "_view_name": "LabelView",
            "style": "IPY_MODEL_9f443fc5b0fa4c8e98ef6e2d898fd295",
            "_dom_classes": [],
            "description": "",
            "_model_name": "LabelModel",
            "placeholder": "​",
            "_view_module": "@jupyter-widgets/controls",
            "_model_module_version": "1.5.0",
            "value": " 0.01MB of 0.01MB uploaded (0.00MB deduped)\r",
            "_view_count": null,
            "_view_module_version": "1.5.0",
            "description_tooltip": null,
            "_model_module": "@jupyter-widgets/controls",
            "layout": "IPY_MODEL_22360cdac7c7447c98fcf576f08273b1"
          }
        },
        "b32a5d00e989436bbbbf38dfd1d3310d": {
          "model_module": "@jupyter-widgets/controls",
          "model_name": "FloatProgressModel",
          "model_module_version": "1.5.0",
          "state": {
            "_view_name": "ProgressView",
            "style": "IPY_MODEL_4f664c7955884d299dda7b33416cd4e9",
            "_dom_classes": [],
            "description": "",
            "_model_name": "FloatProgressModel",
            "bar_style": "",
            "max": 1,
            "_view_module": "@jupyter-widgets/controls",
            "_model_module_version": "1.5.0",
            "value": 1,
            "_view_count": null,
            "_view_module_version": "1.5.0",
            "orientation": "horizontal",
            "min": 0,
            "description_tooltip": null,
            "_model_module": "@jupyter-widgets/controls",
            "layout": "IPY_MODEL_b09c056e622341fb80d281ce1ed2912f"
          }
        },
        "9f443fc5b0fa4c8e98ef6e2d898fd295": {
          "model_module": "@jupyter-widgets/controls",
          "model_name": "DescriptionStyleModel",
          "model_module_version": "1.5.0",
          "state": {
            "_view_name": "StyleView",
            "_model_name": "DescriptionStyleModel",
            "description_width": "",
            "_view_module": "@jupyter-widgets/base",
            "_model_module_version": "1.5.0",
            "_view_count": null,
            "_view_module_version": "1.2.0",
            "_model_module": "@jupyter-widgets/controls"
          }
        },
        "22360cdac7c7447c98fcf576f08273b1": {
          "model_module": "@jupyter-widgets/base",
          "model_name": "LayoutModel",
          "model_module_version": "1.2.0",
          "state": {
            "_view_name": "LayoutView",
            "grid_template_rows": null,
            "right": null,
            "justify_content": null,
            "_view_module": "@jupyter-widgets/base",
            "overflow": null,
            "_model_module_version": "1.2.0",
            "_view_count": null,
            "flex_flow": null,
            "width": null,
            "min_width": null,
            "border": null,
            "align_items": null,
            "bottom": null,
            "_model_module": "@jupyter-widgets/base",
            "top": null,
            "grid_column": null,
            "overflow_y": null,
            "overflow_x": null,
            "grid_auto_flow": null,
            "grid_area": null,
            "grid_template_columns": null,
            "flex": null,
            "_model_name": "LayoutModel",
            "justify_items": null,
            "grid_row": null,
            "max_height": null,
            "align_content": null,
            "visibility": null,
            "align_self": null,
            "height": null,
            "min_height": null,
            "padding": null,
            "grid_auto_rows": null,
            "grid_gap": null,
            "max_width": null,
            "order": null,
            "_view_module_version": "1.2.0",
            "grid_template_areas": null,
            "object_position": null,
            "object_fit": null,
            "grid_auto_columns": null,
            "margin": null,
            "display": null,
            "left": null
          }
        },
        "4f664c7955884d299dda7b33416cd4e9": {
          "model_module": "@jupyter-widgets/controls",
          "model_name": "ProgressStyleModel",
          "model_module_version": "1.5.0",
          "state": {
            "_view_name": "StyleView",
            "_model_name": "ProgressStyleModel",
            "description_width": "",
            "_view_module": "@jupyter-widgets/base",
            "_model_module_version": "1.5.0",
            "_view_count": null,
            "_view_module_version": "1.2.0",
            "bar_color": null,
            "_model_module": "@jupyter-widgets/controls"
          }
        },
        "b09c056e622341fb80d281ce1ed2912f": {
          "model_module": "@jupyter-widgets/base",
          "model_name": "LayoutModel",
          "model_module_version": "1.2.0",
          "state": {
            "_view_name": "LayoutView",
            "grid_template_rows": null,
            "right": null,
            "justify_content": null,
            "_view_module": "@jupyter-widgets/base",
            "overflow": null,
            "_model_module_version": "1.2.0",
            "_view_count": null,
            "flex_flow": null,
            "width": null,
            "min_width": null,
            "border": null,
            "align_items": null,
            "bottom": null,
            "_model_module": "@jupyter-widgets/base",
            "top": null,
            "grid_column": null,
            "overflow_y": null,
            "overflow_x": null,
            "grid_auto_flow": null,
            "grid_area": null,
            "grid_template_columns": null,
            "flex": null,
            "_model_name": "LayoutModel",
            "justify_items": null,
            "grid_row": null,
            "max_height": null,
            "align_content": null,
            "visibility": null,
            "align_self": null,
            "height": null,
            "min_height": null,
            "padding": null,
            "grid_auto_rows": null,
            "grid_gap": null,
            "max_width": null,
            "order": null,
            "_view_module_version": "1.2.0",
            "grid_template_areas": null,
            "object_position": null,
            "object_fit": null,
            "grid_auto_columns": null,
            "margin": null,
            "display": null,
            "left": null
          }
        },
        "d95837685615465eb068b2e27206ee78": {
          "model_module": "@jupyter-widgets/controls",
          "model_name": "VBoxModel",
          "model_module_version": "1.5.0",
          "state": {
            "_view_name": "VBoxView",
            "_dom_classes": [],
            "_model_name": "VBoxModel",
            "_view_module": "@jupyter-widgets/controls",
            "_model_module_version": "1.5.0",
            "_view_count": null,
            "_view_module_version": "1.5.0",
            "box_style": "",
            "layout": "IPY_MODEL_4605b80a1d544097a89635667e085f81",
            "_model_module": "@jupyter-widgets/controls",
            "children": [
              "IPY_MODEL_3a83cd4468a24da7a5dc0afeef2b157e",
              "IPY_MODEL_f78bae9b57614a6083cb75cdc2d26173"
            ]
          }
        },
        "4605b80a1d544097a89635667e085f81": {
          "model_module": "@jupyter-widgets/base",
          "model_name": "LayoutModel",
          "model_module_version": "1.2.0",
          "state": {
            "_view_name": "LayoutView",
            "grid_template_rows": null,
            "right": null,
            "justify_content": null,
            "_view_module": "@jupyter-widgets/base",
            "overflow": null,
            "_model_module_version": "1.2.0",
            "_view_count": null,
            "flex_flow": null,
            "width": null,
            "min_width": null,
            "border": null,
            "align_items": null,
            "bottom": null,
            "_model_module": "@jupyter-widgets/base",
            "top": null,
            "grid_column": null,
            "overflow_y": null,
            "overflow_x": null,
            "grid_auto_flow": null,
            "grid_area": null,
            "grid_template_columns": null,
            "flex": null,
            "_model_name": "LayoutModel",
            "justify_items": null,
            "grid_row": null,
            "max_height": null,
            "align_content": null,
            "visibility": null,
            "align_self": null,
            "height": null,
            "min_height": null,
            "padding": null,
            "grid_auto_rows": null,
            "grid_gap": null,
            "max_width": null,
            "order": null,
            "_view_module_version": "1.2.0",
            "grid_template_areas": null,
            "object_position": null,
            "object_fit": null,
            "grid_auto_columns": null,
            "margin": null,
            "display": null,
            "left": null
          }
        },
        "3a83cd4468a24da7a5dc0afeef2b157e": {
          "model_module": "@jupyter-widgets/controls",
          "model_name": "LabelModel",
          "model_module_version": "1.5.0",
          "state": {
            "_view_name": "LabelView",
            "style": "IPY_MODEL_a79cecb412364ebe9aea5953728bc215",
            "_dom_classes": [],
            "description": "",
            "_model_name": "LabelModel",
            "placeholder": "​",
            "_view_module": "@jupyter-widgets/controls",
            "_model_module_version": "1.5.0",
            "value": " 0.01MB of 0.01MB uploaded (0.00MB deduped)\r",
            "_view_count": null,
            "_view_module_version": "1.5.0",
            "description_tooltip": null,
            "_model_module": "@jupyter-widgets/controls",
            "layout": "IPY_MODEL_079be5b7175f40f99e043dcf82964d7d"
          }
        },
        "f78bae9b57614a6083cb75cdc2d26173": {
          "model_module": "@jupyter-widgets/controls",
          "model_name": "FloatProgressModel",
          "model_module_version": "1.5.0",
          "state": {
            "_view_name": "ProgressView",
            "style": "IPY_MODEL_6f93043401994b7a9787a6089cdc175e",
            "_dom_classes": [],
            "description": "",
            "_model_name": "FloatProgressModel",
            "bar_style": "",
            "max": 1,
            "_view_module": "@jupyter-widgets/controls",
            "_model_module_version": "1.5.0",
            "value": 1,
            "_view_count": null,
            "_view_module_version": "1.5.0",
            "orientation": "horizontal",
            "min": 0,
            "description_tooltip": null,
            "_model_module": "@jupyter-widgets/controls",
            "layout": "IPY_MODEL_ec6c58103ea74734b522ac5f95565386"
          }
        },
        "a79cecb412364ebe9aea5953728bc215": {
          "model_module": "@jupyter-widgets/controls",
          "model_name": "DescriptionStyleModel",
          "model_module_version": "1.5.0",
          "state": {
            "_view_name": "StyleView",
            "_model_name": "DescriptionStyleModel",
            "description_width": "",
            "_view_module": "@jupyter-widgets/base",
            "_model_module_version": "1.5.0",
            "_view_count": null,
            "_view_module_version": "1.2.0",
            "_model_module": "@jupyter-widgets/controls"
          }
        },
        "079be5b7175f40f99e043dcf82964d7d": {
          "model_module": "@jupyter-widgets/base",
          "model_name": "LayoutModel",
          "model_module_version": "1.2.0",
          "state": {
            "_view_name": "LayoutView",
            "grid_template_rows": null,
            "right": null,
            "justify_content": null,
            "_view_module": "@jupyter-widgets/base",
            "overflow": null,
            "_model_module_version": "1.2.0",
            "_view_count": null,
            "flex_flow": null,
            "width": null,
            "min_width": null,
            "border": null,
            "align_items": null,
            "bottom": null,
            "_model_module": "@jupyter-widgets/base",
            "top": null,
            "grid_column": null,
            "overflow_y": null,
            "overflow_x": null,
            "grid_auto_flow": null,
            "grid_area": null,
            "grid_template_columns": null,
            "flex": null,
            "_model_name": "LayoutModel",
            "justify_items": null,
            "grid_row": null,
            "max_height": null,
            "align_content": null,
            "visibility": null,
            "align_self": null,
            "height": null,
            "min_height": null,
            "padding": null,
            "grid_auto_rows": null,
            "grid_gap": null,
            "max_width": null,
            "order": null,
            "_view_module_version": "1.2.0",
            "grid_template_areas": null,
            "object_position": null,
            "object_fit": null,
            "grid_auto_columns": null,
            "margin": null,
            "display": null,
            "left": null
          }
        },
        "6f93043401994b7a9787a6089cdc175e": {
          "model_module": "@jupyter-widgets/controls",
          "model_name": "ProgressStyleModel",
          "model_module_version": "1.5.0",
          "state": {
            "_view_name": "StyleView",
            "_model_name": "ProgressStyleModel",
            "description_width": "",
            "_view_module": "@jupyter-widgets/base",
            "_model_module_version": "1.5.0",
            "_view_count": null,
            "_view_module_version": "1.2.0",
            "bar_color": null,
            "_model_module": "@jupyter-widgets/controls"
          }
        },
        "ec6c58103ea74734b522ac5f95565386": {
          "model_module": "@jupyter-widgets/base",
          "model_name": "LayoutModel",
          "model_module_version": "1.2.0",
          "state": {
            "_view_name": "LayoutView",
            "grid_template_rows": null,
            "right": null,
            "justify_content": null,
            "_view_module": "@jupyter-widgets/base",
            "overflow": null,
            "_model_module_version": "1.2.0",
            "_view_count": null,
            "flex_flow": null,
            "width": null,
            "min_width": null,
            "border": null,
            "align_items": null,
            "bottom": null,
            "_model_module": "@jupyter-widgets/base",
            "top": null,
            "grid_column": null,
            "overflow_y": null,
            "overflow_x": null,
            "grid_auto_flow": null,
            "grid_area": null,
            "grid_template_columns": null,
            "flex": null,
            "_model_name": "LayoutModel",
            "justify_items": null,
            "grid_row": null,
            "max_height": null,
            "align_content": null,
            "visibility": null,
            "align_self": null,
            "height": null,
            "min_height": null,
            "padding": null,
            "grid_auto_rows": null,
            "grid_gap": null,
            "max_width": null,
            "order": null,
            "_view_module_version": "1.2.0",
            "grid_template_areas": null,
            "object_position": null,
            "object_fit": null,
            "grid_auto_columns": null,
            "margin": null,
            "display": null,
            "left": null
          }
        },
        "ecb14f7f56ec4a26b085ea8498427ce9": {
          "model_module": "@jupyter-widgets/controls",
          "model_name": "VBoxModel",
          "model_module_version": "1.5.0",
          "state": {
            "_view_name": "VBoxView",
            "_dom_classes": [],
            "_model_name": "VBoxModel",
            "_view_module": "@jupyter-widgets/controls",
            "_model_module_version": "1.5.0",
            "_view_count": null,
            "_view_module_version": "1.5.0",
            "box_style": "",
            "layout": "IPY_MODEL_1c85ffef0300499781d7fcc0c8abe268",
            "_model_module": "@jupyter-widgets/controls",
            "children": [
              "IPY_MODEL_794d5512b7bb4260b897097572799c76",
              "IPY_MODEL_366e586843044a529dc8d1f2de2cdeb4"
            ]
          }
        },
        "1c85ffef0300499781d7fcc0c8abe268": {
          "model_module": "@jupyter-widgets/base",
          "model_name": "LayoutModel",
          "model_module_version": "1.2.0",
          "state": {
            "_view_name": "LayoutView",
            "grid_template_rows": null,
            "right": null,
            "justify_content": null,
            "_view_module": "@jupyter-widgets/base",
            "overflow": null,
            "_model_module_version": "1.2.0",
            "_view_count": null,
            "flex_flow": null,
            "width": null,
            "min_width": null,
            "border": null,
            "align_items": null,
            "bottom": null,
            "_model_module": "@jupyter-widgets/base",
            "top": null,
            "grid_column": null,
            "overflow_y": null,
            "overflow_x": null,
            "grid_auto_flow": null,
            "grid_area": null,
            "grid_template_columns": null,
            "flex": null,
            "_model_name": "LayoutModel",
            "justify_items": null,
            "grid_row": null,
            "max_height": null,
            "align_content": null,
            "visibility": null,
            "align_self": null,
            "height": null,
            "min_height": null,
            "padding": null,
            "grid_auto_rows": null,
            "grid_gap": null,
            "max_width": null,
            "order": null,
            "_view_module_version": "1.2.0",
            "grid_template_areas": null,
            "object_position": null,
            "object_fit": null,
            "grid_auto_columns": null,
            "margin": null,
            "display": null,
            "left": null
          }
        },
        "794d5512b7bb4260b897097572799c76": {
          "model_module": "@jupyter-widgets/controls",
          "model_name": "LabelModel",
          "model_module_version": "1.5.0",
          "state": {
            "_view_name": "LabelView",
            "style": "IPY_MODEL_5d8a407951c04b0fb269d5f11f9a7e82",
            "_dom_classes": [],
            "description": "",
            "_model_name": "LabelModel",
            "placeholder": "​",
            "_view_module": "@jupyter-widgets/controls",
            "_model_module_version": "1.5.0",
            "value": " 0.01MB of 0.01MB uploaded (0.00MB deduped)\r",
            "_view_count": null,
            "_view_module_version": "1.5.0",
            "description_tooltip": null,
            "_model_module": "@jupyter-widgets/controls",
            "layout": "IPY_MODEL_392fabcfe07042c3b1d39585fa2af33a"
          }
        },
        "366e586843044a529dc8d1f2de2cdeb4": {
          "model_module": "@jupyter-widgets/controls",
          "model_name": "FloatProgressModel",
          "model_module_version": "1.5.0",
          "state": {
            "_view_name": "ProgressView",
            "style": "IPY_MODEL_36279686e3cb437f91ceb07bb11bf9e1",
            "_dom_classes": [],
            "description": "",
            "_model_name": "FloatProgressModel",
            "bar_style": "",
            "max": 1,
            "_view_module": "@jupyter-widgets/controls",
            "_model_module_version": "1.5.0",
            "value": 1,
            "_view_count": null,
            "_view_module_version": "1.5.0",
            "orientation": "horizontal",
            "min": 0,
            "description_tooltip": null,
            "_model_module": "@jupyter-widgets/controls",
            "layout": "IPY_MODEL_fa391019f4654f63861f81eeb4cdfc7e"
          }
        },
        "5d8a407951c04b0fb269d5f11f9a7e82": {
          "model_module": "@jupyter-widgets/controls",
          "model_name": "DescriptionStyleModel",
          "model_module_version": "1.5.0",
          "state": {
            "_view_name": "StyleView",
            "_model_name": "DescriptionStyleModel",
            "description_width": "",
            "_view_module": "@jupyter-widgets/base",
            "_model_module_version": "1.5.0",
            "_view_count": null,
            "_view_module_version": "1.2.0",
            "_model_module": "@jupyter-widgets/controls"
          }
        },
        "392fabcfe07042c3b1d39585fa2af33a": {
          "model_module": "@jupyter-widgets/base",
          "model_name": "LayoutModel",
          "model_module_version": "1.2.0",
          "state": {
            "_view_name": "LayoutView",
            "grid_template_rows": null,
            "right": null,
            "justify_content": null,
            "_view_module": "@jupyter-widgets/base",
            "overflow": null,
            "_model_module_version": "1.2.0",
            "_view_count": null,
            "flex_flow": null,
            "width": null,
            "min_width": null,
            "border": null,
            "align_items": null,
            "bottom": null,
            "_model_module": "@jupyter-widgets/base",
            "top": null,
            "grid_column": null,
            "overflow_y": null,
            "overflow_x": null,
            "grid_auto_flow": null,
            "grid_area": null,
            "grid_template_columns": null,
            "flex": null,
            "_model_name": "LayoutModel",
            "justify_items": null,
            "grid_row": null,
            "max_height": null,
            "align_content": null,
            "visibility": null,
            "align_self": null,
            "height": null,
            "min_height": null,
            "padding": null,
            "grid_auto_rows": null,
            "grid_gap": null,
            "max_width": null,
            "order": null,
            "_view_module_version": "1.2.0",
            "grid_template_areas": null,
            "object_position": null,
            "object_fit": null,
            "grid_auto_columns": null,
            "margin": null,
            "display": null,
            "left": null
          }
        },
        "36279686e3cb437f91ceb07bb11bf9e1": {
          "model_module": "@jupyter-widgets/controls",
          "model_name": "ProgressStyleModel",
          "model_module_version": "1.5.0",
          "state": {
            "_view_name": "StyleView",
            "_model_name": "ProgressStyleModel",
            "description_width": "",
            "_view_module": "@jupyter-widgets/base",
            "_model_module_version": "1.5.0",
            "_view_count": null,
            "_view_module_version": "1.2.0",
            "bar_color": null,
            "_model_module": "@jupyter-widgets/controls"
          }
        },
        "fa391019f4654f63861f81eeb4cdfc7e": {
          "model_module": "@jupyter-widgets/base",
          "model_name": "LayoutModel",
          "model_module_version": "1.2.0",
          "state": {
            "_view_name": "LayoutView",
            "grid_template_rows": null,
            "right": null,
            "justify_content": null,
            "_view_module": "@jupyter-widgets/base",
            "overflow": null,
            "_model_module_version": "1.2.0",
            "_view_count": null,
            "flex_flow": null,
            "width": null,
            "min_width": null,
            "border": null,
            "align_items": null,
            "bottom": null,
            "_model_module": "@jupyter-widgets/base",
            "top": null,
            "grid_column": null,
            "overflow_y": null,
            "overflow_x": null,
            "grid_auto_flow": null,
            "grid_area": null,
            "grid_template_columns": null,
            "flex": null,
            "_model_name": "LayoutModel",
            "justify_items": null,
            "grid_row": null,
            "max_height": null,
            "align_content": null,
            "visibility": null,
            "align_self": null,
            "height": null,
            "min_height": null,
            "padding": null,
            "grid_auto_rows": null,
            "grid_gap": null,
            "max_width": null,
            "order": null,
            "_view_module_version": "1.2.0",
            "grid_template_areas": null,
            "object_position": null,
            "object_fit": null,
            "grid_auto_columns": null,
            "margin": null,
            "display": null,
            "left": null
          }
        },
        "65c1ef7107be47d7ba43cbbd4ba71255": {
          "model_module": "@jupyter-widgets/controls",
          "model_name": "VBoxModel",
          "model_module_version": "1.5.0",
          "state": {
            "_view_name": "VBoxView",
            "_dom_classes": [],
            "_model_name": "VBoxModel",
            "_view_module": "@jupyter-widgets/controls",
            "_model_module_version": "1.5.0",
            "_view_count": null,
            "_view_module_version": "1.5.0",
            "box_style": "",
            "layout": "IPY_MODEL_f75849e958354970a2aa676758e8f238",
            "_model_module": "@jupyter-widgets/controls",
            "children": [
              "IPY_MODEL_40cf63b06ff545cdaaa8bcba10bd7a18",
              "IPY_MODEL_8549f38d31b74865bf39cd49ca68c9b9"
            ]
          }
        },
        "f75849e958354970a2aa676758e8f238": {
          "model_module": "@jupyter-widgets/base",
          "model_name": "LayoutModel",
          "model_module_version": "1.2.0",
          "state": {
            "_view_name": "LayoutView",
            "grid_template_rows": null,
            "right": null,
            "justify_content": null,
            "_view_module": "@jupyter-widgets/base",
            "overflow": null,
            "_model_module_version": "1.2.0",
            "_view_count": null,
            "flex_flow": null,
            "width": null,
            "min_width": null,
            "border": null,
            "align_items": null,
            "bottom": null,
            "_model_module": "@jupyter-widgets/base",
            "top": null,
            "grid_column": null,
            "overflow_y": null,
            "overflow_x": null,
            "grid_auto_flow": null,
            "grid_area": null,
            "grid_template_columns": null,
            "flex": null,
            "_model_name": "LayoutModel",
            "justify_items": null,
            "grid_row": null,
            "max_height": null,
            "align_content": null,
            "visibility": null,
            "align_self": null,
            "height": null,
            "min_height": null,
            "padding": null,
            "grid_auto_rows": null,
            "grid_gap": null,
            "max_width": null,
            "order": null,
            "_view_module_version": "1.2.0",
            "grid_template_areas": null,
            "object_position": null,
            "object_fit": null,
            "grid_auto_columns": null,
            "margin": null,
            "display": null,
            "left": null
          }
        },
        "40cf63b06ff545cdaaa8bcba10bd7a18": {
          "model_module": "@jupyter-widgets/controls",
          "model_name": "LabelModel",
          "model_module_version": "1.5.0",
          "state": {
            "_view_name": "LabelView",
            "style": "IPY_MODEL_fc418b1ba7c84f6b8f8494276259c832",
            "_dom_classes": [],
            "description": "",
            "_model_name": "LabelModel",
            "placeholder": "​",
            "_view_module": "@jupyter-widgets/controls",
            "_model_module_version": "1.5.0",
            "value": " 0.01MB of 0.01MB uploaded (0.00MB deduped)\r",
            "_view_count": null,
            "_view_module_version": "1.5.0",
            "description_tooltip": null,
            "_model_module": "@jupyter-widgets/controls",
            "layout": "IPY_MODEL_eef1ee157f4c4d0dad1e5aefd36b2be5"
          }
        },
        "8549f38d31b74865bf39cd49ca68c9b9": {
          "model_module": "@jupyter-widgets/controls",
          "model_name": "FloatProgressModel",
          "model_module_version": "1.5.0",
          "state": {
            "_view_name": "ProgressView",
            "style": "IPY_MODEL_8b412b95a80a4df59a678d097a6e0429",
            "_dom_classes": [],
            "description": "",
            "_model_name": "FloatProgressModel",
            "bar_style": "",
            "max": 1,
            "_view_module": "@jupyter-widgets/controls",
            "_model_module_version": "1.5.0",
            "value": 1,
            "_view_count": null,
            "_view_module_version": "1.5.0",
            "orientation": "horizontal",
            "min": 0,
            "description_tooltip": null,
            "_model_module": "@jupyter-widgets/controls",
            "layout": "IPY_MODEL_2aad62577510493bbbb29d5f10159652"
          }
        },
        "fc418b1ba7c84f6b8f8494276259c832": {
          "model_module": "@jupyter-widgets/controls",
          "model_name": "DescriptionStyleModel",
          "model_module_version": "1.5.0",
          "state": {
            "_view_name": "StyleView",
            "_model_name": "DescriptionStyleModel",
            "description_width": "",
            "_view_module": "@jupyter-widgets/base",
            "_model_module_version": "1.5.0",
            "_view_count": null,
            "_view_module_version": "1.2.0",
            "_model_module": "@jupyter-widgets/controls"
          }
        },
        "eef1ee157f4c4d0dad1e5aefd36b2be5": {
          "model_module": "@jupyter-widgets/base",
          "model_name": "LayoutModel",
          "model_module_version": "1.2.0",
          "state": {
            "_view_name": "LayoutView",
            "grid_template_rows": null,
            "right": null,
            "justify_content": null,
            "_view_module": "@jupyter-widgets/base",
            "overflow": null,
            "_model_module_version": "1.2.0",
            "_view_count": null,
            "flex_flow": null,
            "width": null,
            "min_width": null,
            "border": null,
            "align_items": null,
            "bottom": null,
            "_model_module": "@jupyter-widgets/base",
            "top": null,
            "grid_column": null,
            "overflow_y": null,
            "overflow_x": null,
            "grid_auto_flow": null,
            "grid_area": null,
            "grid_template_columns": null,
            "flex": null,
            "_model_name": "LayoutModel",
            "justify_items": null,
            "grid_row": null,
            "max_height": null,
            "align_content": null,
            "visibility": null,
            "align_self": null,
            "height": null,
            "min_height": null,
            "padding": null,
            "grid_auto_rows": null,
            "grid_gap": null,
            "max_width": null,
            "order": null,
            "_view_module_version": "1.2.0",
            "grid_template_areas": null,
            "object_position": null,
            "object_fit": null,
            "grid_auto_columns": null,
            "margin": null,
            "display": null,
            "left": null
          }
        },
        "8b412b95a80a4df59a678d097a6e0429": {
          "model_module": "@jupyter-widgets/controls",
          "model_name": "ProgressStyleModel",
          "model_module_version": "1.5.0",
          "state": {
            "_view_name": "StyleView",
            "_model_name": "ProgressStyleModel",
            "description_width": "",
            "_view_module": "@jupyter-widgets/base",
            "_model_module_version": "1.5.0",
            "_view_count": null,
            "_view_module_version": "1.2.0",
            "bar_color": null,
            "_model_module": "@jupyter-widgets/controls"
          }
        },
        "2aad62577510493bbbb29d5f10159652": {
          "model_module": "@jupyter-widgets/base",
          "model_name": "LayoutModel",
          "model_module_version": "1.2.0",
          "state": {
            "_view_name": "LayoutView",
            "grid_template_rows": null,
            "right": null,
            "justify_content": null,
            "_view_module": "@jupyter-widgets/base",
            "overflow": null,
            "_model_module_version": "1.2.0",
            "_view_count": null,
            "flex_flow": null,
            "width": null,
            "min_width": null,
            "border": null,
            "align_items": null,
            "bottom": null,
            "_model_module": "@jupyter-widgets/base",
            "top": null,
            "grid_column": null,
            "overflow_y": null,
            "overflow_x": null,
            "grid_auto_flow": null,
            "grid_area": null,
            "grid_template_columns": null,
            "flex": null,
            "_model_name": "LayoutModel",
            "justify_items": null,
            "grid_row": null,
            "max_height": null,
            "align_content": null,
            "visibility": null,
            "align_self": null,
            "height": null,
            "min_height": null,
            "padding": null,
            "grid_auto_rows": null,
            "grid_gap": null,
            "max_width": null,
            "order": null,
            "_view_module_version": "1.2.0",
            "grid_template_areas": null,
            "object_position": null,
            "object_fit": null,
            "grid_auto_columns": null,
            "margin": null,
            "display": null,
            "left": null
          }
        },
        "748322621f3c40b1b751963243697a1d": {
          "model_module": "@jupyter-widgets/controls",
          "model_name": "VBoxModel",
          "model_module_version": "1.5.0",
          "state": {
            "_view_name": "VBoxView",
            "_dom_classes": [],
            "_model_name": "VBoxModel",
            "_view_module": "@jupyter-widgets/controls",
            "_model_module_version": "1.5.0",
            "_view_count": null,
            "_view_module_version": "1.5.0",
            "box_style": "",
            "layout": "IPY_MODEL_04866ad6b01d43008cff6c75231412be",
            "_model_module": "@jupyter-widgets/controls",
            "children": [
              "IPY_MODEL_a40e675caec74368974cc9a69ccd99ec",
              "IPY_MODEL_11c0fc671fdd431ca8338dc6ba2072f7"
            ]
          }
        },
        "04866ad6b01d43008cff6c75231412be": {
          "model_module": "@jupyter-widgets/base",
          "model_name": "LayoutModel",
          "model_module_version": "1.2.0",
          "state": {
            "_view_name": "LayoutView",
            "grid_template_rows": null,
            "right": null,
            "justify_content": null,
            "_view_module": "@jupyter-widgets/base",
            "overflow": null,
            "_model_module_version": "1.2.0",
            "_view_count": null,
            "flex_flow": null,
            "width": null,
            "min_width": null,
            "border": null,
            "align_items": null,
            "bottom": null,
            "_model_module": "@jupyter-widgets/base",
            "top": null,
            "grid_column": null,
            "overflow_y": null,
            "overflow_x": null,
            "grid_auto_flow": null,
            "grid_area": null,
            "grid_template_columns": null,
            "flex": null,
            "_model_name": "LayoutModel",
            "justify_items": null,
            "grid_row": null,
            "max_height": null,
            "align_content": null,
            "visibility": null,
            "align_self": null,
            "height": null,
            "min_height": null,
            "padding": null,
            "grid_auto_rows": null,
            "grid_gap": null,
            "max_width": null,
            "order": null,
            "_view_module_version": "1.2.0",
            "grid_template_areas": null,
            "object_position": null,
            "object_fit": null,
            "grid_auto_columns": null,
            "margin": null,
            "display": null,
            "left": null
          }
        },
        "a40e675caec74368974cc9a69ccd99ec": {
          "model_module": "@jupyter-widgets/controls",
          "model_name": "LabelModel",
          "model_module_version": "1.5.0",
          "state": {
            "_view_name": "LabelView",
            "style": "IPY_MODEL_b91ea453670048779146c36fcf6f458b",
            "_dom_classes": [],
            "description": "",
            "_model_name": "LabelModel",
            "placeholder": "​",
            "_view_module": "@jupyter-widgets/controls",
            "_model_module_version": "1.5.0",
            "value": " 0.01MB of 0.01MB uploaded (0.00MB deduped)\r",
            "_view_count": null,
            "_view_module_version": "1.5.0",
            "description_tooltip": null,
            "_model_module": "@jupyter-widgets/controls",
            "layout": "IPY_MODEL_4b92208ff70043209145432a75ea8049"
          }
        },
        "11c0fc671fdd431ca8338dc6ba2072f7": {
          "model_module": "@jupyter-widgets/controls",
          "model_name": "FloatProgressModel",
          "model_module_version": "1.5.0",
          "state": {
            "_view_name": "ProgressView",
            "style": "IPY_MODEL_a9a62c4a42e3448dbeef80b4b63cd295",
            "_dom_classes": [],
            "description": "",
            "_model_name": "FloatProgressModel",
            "bar_style": "",
            "max": 1,
            "_view_module": "@jupyter-widgets/controls",
            "_model_module_version": "1.5.0",
            "value": 1,
            "_view_count": null,
            "_view_module_version": "1.5.0",
            "orientation": "horizontal",
            "min": 0,
            "description_tooltip": null,
            "_model_module": "@jupyter-widgets/controls",
            "layout": "IPY_MODEL_df4f48716f674892b4d0aaf643650a6f"
          }
        },
        "b91ea453670048779146c36fcf6f458b": {
          "model_module": "@jupyter-widgets/controls",
          "model_name": "DescriptionStyleModel",
          "model_module_version": "1.5.0",
          "state": {
            "_view_name": "StyleView",
            "_model_name": "DescriptionStyleModel",
            "description_width": "",
            "_view_module": "@jupyter-widgets/base",
            "_model_module_version": "1.5.0",
            "_view_count": null,
            "_view_module_version": "1.2.0",
            "_model_module": "@jupyter-widgets/controls"
          }
        },
        "4b92208ff70043209145432a75ea8049": {
          "model_module": "@jupyter-widgets/base",
          "model_name": "LayoutModel",
          "model_module_version": "1.2.0",
          "state": {
            "_view_name": "LayoutView",
            "grid_template_rows": null,
            "right": null,
            "justify_content": null,
            "_view_module": "@jupyter-widgets/base",
            "overflow": null,
            "_model_module_version": "1.2.0",
            "_view_count": null,
            "flex_flow": null,
            "width": null,
            "min_width": null,
            "border": null,
            "align_items": null,
            "bottom": null,
            "_model_module": "@jupyter-widgets/base",
            "top": null,
            "grid_column": null,
            "overflow_y": null,
            "overflow_x": null,
            "grid_auto_flow": null,
            "grid_area": null,
            "grid_template_columns": null,
            "flex": null,
            "_model_name": "LayoutModel",
            "justify_items": null,
            "grid_row": null,
            "max_height": null,
            "align_content": null,
            "visibility": null,
            "align_self": null,
            "height": null,
            "min_height": null,
            "padding": null,
            "grid_auto_rows": null,
            "grid_gap": null,
            "max_width": null,
            "order": null,
            "_view_module_version": "1.2.0",
            "grid_template_areas": null,
            "object_position": null,
            "object_fit": null,
            "grid_auto_columns": null,
            "margin": null,
            "display": null,
            "left": null
          }
        },
        "a9a62c4a42e3448dbeef80b4b63cd295": {
          "model_module": "@jupyter-widgets/controls",
          "model_name": "ProgressStyleModel",
          "model_module_version": "1.5.0",
          "state": {
            "_view_name": "StyleView",
            "_model_name": "ProgressStyleModel",
            "description_width": "",
            "_view_module": "@jupyter-widgets/base",
            "_model_module_version": "1.5.0",
            "_view_count": null,
            "_view_module_version": "1.2.0",
            "bar_color": null,
            "_model_module": "@jupyter-widgets/controls"
          }
        },
        "df4f48716f674892b4d0aaf643650a6f": {
          "model_module": "@jupyter-widgets/base",
          "model_name": "LayoutModel",
          "model_module_version": "1.2.0",
          "state": {
            "_view_name": "LayoutView",
            "grid_template_rows": null,
            "right": null,
            "justify_content": null,
            "_view_module": "@jupyter-widgets/base",
            "overflow": null,
            "_model_module_version": "1.2.0",
            "_view_count": null,
            "flex_flow": null,
            "width": null,
            "min_width": null,
            "border": null,
            "align_items": null,
            "bottom": null,
            "_model_module": "@jupyter-widgets/base",
            "top": null,
            "grid_column": null,
            "overflow_y": null,
            "overflow_x": null,
            "grid_auto_flow": null,
            "grid_area": null,
            "grid_template_columns": null,
            "flex": null,
            "_model_name": "LayoutModel",
            "justify_items": null,
            "grid_row": null,
            "max_height": null,
            "align_content": null,
            "visibility": null,
            "align_self": null,
            "height": null,
            "min_height": null,
            "padding": null,
            "grid_auto_rows": null,
            "grid_gap": null,
            "max_width": null,
            "order": null,
            "_view_module_version": "1.2.0",
            "grid_template_areas": null,
            "object_position": null,
            "object_fit": null,
            "grid_auto_columns": null,
            "margin": null,
            "display": null,
            "left": null
          }
        }
      }
    }
  },
  "cells": [
    {
      "cell_type": "markdown",
      "metadata": {
        "id": "view-in-github",
        "colab_type": "text"
      },
      "source": [
        "<a href=\"https://colab.research.google.com/github/nfinan/NanomineML-PredictTg/blob/main/Colab%20Notebooks/NM_W%26B.ipynb\" target=\"_parent\"><img src=\"https://colab.research.google.com/assets/colab-badge.svg\" alt=\"Open In Colab\"/></a>"
      ]
    },
    {
      "cell_type": "code",
      "metadata": {
        "id": "bvO2ygo682tZ"
      },
      "source": [
        "# import json\n",
        "import requests\n",
        "import pandas as pd"
      ],
      "execution_count": null,
      "outputs": []
    },
    {
      "cell_type": "markdown",
      "metadata": {
        "id": "vVWTwXAcM6j2"
      },
      "source": [
        "Test\n",
        "![MaterialsMine](https://i.imgur.com/tOdqBxM.png)\n",
        "<img src=\"https://i.imgur.com/tOdqBxM.png\" width=\"400\" alt=\"Nanomine\" />\n",
        "\n",
        "<div><img /></div>"
      ]
    },
    {
      "cell_type": "markdown",
      "metadata": {
        "id": "X_oPwQt3BRry"
      },
      "source": [
        "###Simplified SPARQL submission object"
      ]
    },
    {
      "cell_type": "code",
      "metadata": {
        "id": "Xyzcjjvq_2DL"
      },
      "source": [
        "class nm_rdf_query:\n",
        "\n",
        "    def __init__(self, query, url='https://materialsmine.org/wi/sparql'):\n",
        "        self.query = query\n",
        "        self.url = url\n",
        "\n",
        "    def submit(self):\n",
        "        query = self.query\n",
        "        url = self.url\n",
        "        r = requests.get(url, params = {'format': 'json', 'query': query})\n",
        "\n",
        "        data = r.json()\n",
        "        data_df = pd.json_normalize(data, sep='_')\n",
        "\n",
        "        results = data_df.results_bindings[0]\n",
        "        results_df = pd.json_normalize(results, sep='_')\n",
        "\n",
        "        self.results_df = results_df # Return\n",
        "\n",
        "    def filter_thermosets(self):\n",
        "        results_df = self.results_df\n",
        "        initial_input = {\n",
        "        \"values\": [\n",
        "                    {\"category\": \"Thermoplastic\", \"matrixtype\": \"Polystyrene\"},\n",
        "                    {\"category\": \"Thermoplastic\", \"matrixtype\": \"Poly(methyl methacrylate)\"},\n",
        "                    {\"category\": \"Thermoplastic\", \"matrixtype\": \"Nylon 6(3)T\"},\n",
        "                    {\"category\": \"Thermoplastic\", \"matrixtype\": \"Polybenzimidazole\"},\n",
        "                    {\"category\": \"Thermoplastic\", \"matrixtype\": \"Poly(vinyl alcohol)\"},\n",
        "                    {\"category\": \"Thermoplastic\", \"matrixtype\": \"Poly(vinyl butyral)\"},\n",
        "                    {\"category\": \"Thermoplastic\", \"matrixtype\": \"Poly(vinyl chloride)\"},\n",
        "                    {\"category\": \"Thermoplastic\", \"matrixtype\": \"Poly(vinylidene fluoride)\"},\n",
        "                    {\"category\": \"Thermoplastic\", \"matrixtype\": \"Poly(ethylene terephthalate)\"},\n",
        "                    {\"category\": \"Thermoplastic\", \"matrixtype\": \"Polypropylene\"},\n",
        "                    {\"category\": \"Thermoplastic\", \"matrixtype\": \"Polyurethane\"},\n",
        "                    {\"category\": \"Thermoplastic\", \"matrixtype\": \"Poly(ethyl methacrylate)\"},\n",
        "                    {\"category\": \"Thermoplastic\", \"matrixtype\": \"Poly(2-vinyl pyridine)\"},\n",
        "                    {\"category\": \"Thermoplastic\", \"matrixtype\": \"Poly(acrylonitrile)\"},\n",
        "                    {\"category\": \"Thermoplastic\", \"matrixtype\": \"Poly(styrene-co-acrylonitrile)\"},\n",
        "                    {\"category\": \"Thermoplastic\", \"matrixtype\": \"Poly(bisphenol A carbonate)\"},\n",
        "                    {\"category\": \"Thermoplastic\", \"matrixtype\": \"Poly(ethylene-vinyl acetate)\"},\n",
        "                    {\"category\": \"Thermoplastic\", \"matrixtype\": \"Polyamide-imide\"},\n",
        "                    {\"category\": \"Thermoplastic\", \"matrixtype\": \"Polyimide\"},\n",
        "                    {\"category\": \"Thermoplastic\", \"matrixtype\": \"Polylactic acid\"},\n",
        "                    {\"category\": \"Thermoplastic\", \"matrixtype\": \"Polyphenylsulfone\"},\n",
        "                    {\"category\": \"Thermoset\", \"matrixtype\": \"DGEBA Epoxy Resin\"},\n",
        "                    {\"category\": \"Thermoset\", \"matrixtype\": \"DGEBF Epoxy Resin\"},\n",
        "                    {\"category\": \"Thermoset\", \"matrixtype\": \"Cycloaliphatic Epoxy Resin\"},\n",
        "                    {\"category\": \"Thermoset\", \"matrixtype\": \"Bisphenol E cyanate ester resin\"},\n",
        "                    {\"category\": \"Thermoset\", \"matrixtype\": \"Bisphenol-A-epoxy vinyl ester resin\"},\n",
        "                    {\"category\": \"Elastomer\", \"matrixtype\": \"Poly(dimethyl siloxane)\"}\n",
        "                ]\n",
        "        }\n",
        "\n",
        "        values = initial_input['values']\n",
        "\n",
        "        # We shall create a thermoset and elastomer blacklist\n",
        "        filter = []\n",
        "        for dictionary in values:\n",
        "            if (dictionary['category'].casefold() == \"Thermoset\".casefold() or dictionary['category'].casefold() == \"Elastomer\".casefold()):\n",
        "                filter.append(dictionary['matrixtype'])\n",
        "\n",
        "        # display(\"Filter:\",filter)\n",
        "\n",
        "        # Now we apply the filter\n",
        "\n",
        "        mask = ~results_df.matrix_value.str.casefold().isin([x.casefold() for x in filter]) # Here we make a mask (true when not in filter (case insensitive))\n",
        "\n",
        "        filtered_data = results_df[mask] # Here we apply the mask to the data\n",
        "\n",
        "        self.filtered_data = filtered_data # Return\n",
        "\n",
        "    def standard_filtered_query(self):\n",
        "        self.submit()\n",
        "        self.unfiltered = self.results_df\n",
        "        self.filter_thermosets()\n",
        "        self.results_df = self.filtered_data\n",
        "        return self.filtered_data\n"
      ],
      "execution_count": null,
      "outputs": []
    },
    {
      "cell_type": "markdown",
      "metadata": {
        "id": "Jpf9bG8hBhs9"
      },
      "source": [
        "###QUERIES"
      ]
    },
    {
      "cell_type": "markdown",
      "metadata": {
        "id": "t-psnS8k5iE7"
      },
      "source": [
        "QUERY 1: Silica dTg"
      ]
    },
    {
      "cell_type": "code",
      "metadata": {
        "id": "T2IDT-wzz1y9"
      },
      "source": [
        "query1 = \"\"\"\n",
        "PREFIX nm: <http://nanomine.org/ns/>\n",
        "PREFIX sio: <http://semanticscience.org/resource/>\n",
        "PREFIX rdfs: <http://www.w3.org/2000/01/rdf-schema#>\n",
        "\n",
        "SELECT DISTINCT ?VolFrac ?Tg ?controlTg ?deltaTg (LCASE(?SurfaceTreatmentType) AS ?PST) (LCASE(?MatrixType) AS ?matrix) ?sample ?doi WHERE {\n",
        "  ?sample a nm:PolymerNanocomposite;\n",
        "          sio:hasComponentPart ?FillerPart ,\n",
        "                               ?MatrixPart .\n",
        "  \n",
        "  ?doi sio:hasPart ?sample .\n",
        "\n",
        "  ?FillerPart sio:hasRole [ a nm:Filler ] ;\n",
        "              a [ rdfs:label \"Silicon dioxide\" ] ;\n",
        "              sio:hasAttribute [ a nm:VolumeFraction ;\n",
        "                                 sio:hasValue ?VolFrac ] .\n",
        "  \n",
        "  ?MatrixPart sio:hasRole [ a nm:Matrix ] ;\n",
        "              a [ rdfs:label ?MatrixType ] .\n",
        "  \n",
        "  ?sample sio:hasAttribute [ a nm:GlassTransitionTemperature ;\n",
        "                             sio:hasValue ?Tg ;\n",
        "                             sio:hasUnit [ rdfs:label \"Celsius\" ] ] .\n",
        "  \n",
        "\n",
        "  ?controlsample sio:hasRole [ a sio:ControlRole ;\n",
        "                               sio:inRelationTo ?sample ] ;\n",
        "                 sio:hasAttribute [ a nm:GlassTransitionTemperature ;\n",
        "                                    sio:hasValue ?controlTg ;\n",
        "                                    sio:hasUnit [ rdfs:label \"Celsius\" ] ] .\n",
        "  \n",
        "  BIND ( ?Tg - ?controlTg AS ?deltaTg )\n",
        "  \n",
        "  OPTIONAL {\n",
        "    ?FillerPart sio:isSurroundedBy [ sio:hasRole [ a nm:SurfaceTreatment ] ;\n",
        "                                     a [ rdfs:label ?SurfaceTreatmentType ] ] .\n",
        "  }                   \n",
        "}\n",
        "\"\"\""
      ],
      "execution_count": null,
      "outputs": []
    },
    {
      "cell_type": "markdown",
      "metadata": {
        "id": "PFfRnI3xRzvt"
      },
      "source": [
        "QUERY 2: all of NM"
      ]
    },
    {
      "cell_type": "code",
      "metadata": {
        "id": "ERUK3SBFRzvw"
      },
      "source": [
        "query2 = \"\"\"\n",
        "PREFIX nm: <http://nanomine.org/ns/>\n",
        "\n",
        "SELECT * WHERE {\n",
        "?sample a nm:PolymerNanocomposite .\n",
        "}\n",
        "\"\"\""
      ],
      "execution_count": null,
      "outputs": []
    },
    {
      "cell_type": "markdown",
      "metadata": {
        "id": "ejd1ccO5U2qK"
      },
      "source": [
        "QUERY 3: Tg values with reported uncertainty"
      ]
    },
    {
      "cell_type": "code",
      "metadata": {
        "id": "sJllURIBU5Lf"
      },
      "source": [
        "query3 = \"\"\"\n",
        "PREFIX rdfs: <http://www.w3.org/2000/01/rdf-schema#>\n",
        "PREFIX sio: <http://semanticscience.org/resource/>\n",
        "PREFIX nm: <http://nanomine.org/ns/>\n",
        "SELECT DISTINCT ?sample ?MassFraction ?Filler ?Matrix ?Tg ?uncertaintyTg  WHERE {\n",
        "  ?sample a nm:PolymerNanocomposite ;\n",
        "          sio:hasAttribute ?attr ;\n",
        "          sio:hasComponentPart [ sio:hasRole [ a nm:Matrix ] ;\n",
        "                                 a [ rdfs:label ?Matrix ] ] ,\n",
        "                               [ sio:hasRole [ a nm:Filler ] ;\n",
        "                                 a [ rdfs:label ?Filler ] ;\n",
        "                                 sio:hasAttribute [ a nm:MassFraction ;\n",
        "                                                    sio:hasValue ?MassFraction ] ] .\n",
        "  ?attr a nm:GlassTransitionTemperature ; \n",
        "        sio:hasValue ?Tg ;\n",
        "        sio:hasUnit <http://www.ontology-of-units-of-measure.org/resource/om-2/degreeCelsius> ;\n",
        "        sio:hasAttribute [ a sio:UncertaintyValue ; \n",
        "                           sio:hasValue ?uncertaintyTg ] .\n",
        "}\n",
        "\"\"\""
      ],
      "execution_count": null,
      "outputs": []
    },
    {
      "cell_type": "markdown",
      "metadata": {
        "id": "xOn4JvOy7rYy"
      },
      "source": [
        "QUERY 4: Modulus and Thermal Properties (Optional)"
      ]
    },
    {
      "cell_type": "code",
      "metadata": {
        "id": "LMi5HKGN7rYz"
      },
      "source": [
        "query4 = \"\"\"\n",
        "PREFIX nm: <http://materialsmine.org/ns/>\n",
        "PREFIX sio: <http://semanticscience.org/resource/>\n",
        "PREFIX rdfs: <http://www.w3.org/2000/01/rdf-schema#>\n",
        "\n",
        "SELECT DISTINCT (LCASE(?MatrixType) AS ?matrix) (LCASE(?FillerType) AS ?filler) ?VolFrac ?E ?Tg ?Tc ?Tm  ?sample ?doi WHERE {\n",
        "  ?sample a nm:PolymerNanocomposite;\n",
        "          sio:hasComponentPart ?FillerPart ,\n",
        "                               ?MatrixPart .\n",
        "  \n",
        "  ?doi sio:hasPart ?sample .\n",
        "\n",
        "  ?FillerPart sio:hasRole [ a nm:Filler ] ;\n",
        "              a [ rdfs:label ?FillerType ] ;\n",
        "              sio:hasAttribute [ a nm:VolumeFraction ;\n",
        "                                 sio:hasValue ?VolFrac ] .\n",
        "  \n",
        "  ?MatrixPart sio:hasRole [ a nm:Matrix ] ;\n",
        "              a [ rdfs:label ?MatrixType ] .\n",
        "  \n",
        "  ?sample sio:hasAttribute [ a nm:TensileModulus ;\n",
        "                             sio:hasValue ?E ;\n",
        "                             sio:hasUnit [ rdfs:label \"MPa\" ] ] .\n",
        "  \n",
        "  OPTIONAL { \n",
        "  ?sample sio:hasAttribute [ a nm:CrystallizationTemperature ;\n",
        "                               sio:hasValue ?Tc ;\n",
        "                               sio:hasUnit [ rdfs:label \"Celsius\" ] ] .}\n",
        "  OPTIONAL {\n",
        "    ?sample sio:hasAttribute [ a nm:MeltingTemperature ;\n",
        "                               sio:hasValue ?Tm ;\n",
        "                               sio:hasUnit [ rdfs:label \"Celsius\" ] ] . } \n",
        "  OPTIONAL {\n",
        "    ?sample sio:hasAttribute [ a nm:GlassTransitionTemperature ;\n",
        "                             sio:hasValue ?Tg ;\n",
        "                             sio:hasUnit [ rdfs:label \"Celsius\" ] ] .}\n",
        "}\n",
        "\"\"\""
      ],
      "execution_count": null,
      "outputs": []
    },
    {
      "cell_type": "markdown",
      "metadata": {
        "id": "1tnVq_JGBmJ_"
      },
      "source": [
        "###SUBMISSIONS"
      ]
    },
    {
      "cell_type": "markdown",
      "metadata": {
        "id": "TL8ON_wnBweG"
      },
      "source": [
        "SUBMISSION 1: dTg silica query (filtered)"
      ]
    },
    {
      "cell_type": "code",
      "metadata": {
        "colab": {
          "base_uri": "https://localhost:8080/",
          "height": 609
        },
        "id": "SakDf4dS8ubZ",
        "outputId": "2329a58b-e37b-4c5c-8756-7a625f0d6501"
      },
      "source": [
        "Q1 = nm_rdf_query(query1)\n",
        "Q1.standard_filtered_query()\n",
        "display(Q1.results_df)"
      ],
      "execution_count": null,
      "outputs": [
        {
          "output_type": "display_data",
          "data": {
            "text/html": [
              "<div>\n",
              "<style scoped>\n",
              "    .dataframe tbody tr th:only-of-type {\n",
              "        vertical-align: middle;\n",
              "    }\n",
              "\n",
              "    .dataframe tbody tr th {\n",
              "        vertical-align: top;\n",
              "    }\n",
              "\n",
              "    .dataframe thead th {\n",
              "        text-align: right;\n",
              "    }\n",
              "</style>\n",
              "<table border=\"1\" class=\"dataframe\">\n",
              "  <thead>\n",
              "    <tr style=\"text-align: right;\">\n",
              "      <th></th>\n",
              "      <th>VolFrac_datatype</th>\n",
              "      <th>VolFrac_type</th>\n",
              "      <th>VolFrac_value</th>\n",
              "      <th>Tg_datatype</th>\n",
              "      <th>Tg_type</th>\n",
              "      <th>Tg_value</th>\n",
              "      <th>controlTg_datatype</th>\n",
              "      <th>controlTg_type</th>\n",
              "      <th>controlTg_value</th>\n",
              "      <th>deltaTg_datatype</th>\n",
              "      <th>deltaTg_type</th>\n",
              "      <th>deltaTg_value</th>\n",
              "      <th>PST_type</th>\n",
              "      <th>PST_value</th>\n",
              "      <th>matrix_type</th>\n",
              "      <th>matrix_value</th>\n",
              "      <th>sample_type</th>\n",
              "      <th>sample_value</th>\n",
              "      <th>doi_type</th>\n",
              "      <th>doi_value</th>\n",
              "    </tr>\n",
              "  </thead>\n",
              "  <tbody>\n",
              "    <tr>\n",
              "      <th>0</th>\n",
              "      <td>http://www.w3.org/2001/XMLSchema#double</td>\n",
              "      <td>literal</td>\n",
              "      <td>0.0019682431537311456</td>\n",
              "      <td>http://www.w3.org/2001/XMLSchema#double</td>\n",
              "      <td>literal</td>\n",
              "      <td>101.809195</td>\n",
              "      <td>http://www.w3.org/2001/XMLSchema#double</td>\n",
              "      <td>literal</td>\n",
              "      <td>101.0</td>\n",
              "      <td>http://www.w3.org/2001/XMLSchema#double</td>\n",
              "      <td>literal</td>\n",
              "      <td>0.8091950000000026</td>\n",
              "      <td>literal</td>\n",
              "      <td>polystyrene</td>\n",
              "      <td>literal</td>\n",
              "      <td>polystyrene</td>\n",
              "      <td>uri</td>\n",
              "      <td>http://nanomine.org/sample/l219-s2-bansal-2006</td>\n",
              "      <td>uri</td>\n",
              "      <td>http://dx.doi.org/10.1002/polb.20926</td>\n",
              "    </tr>\n",
              "    <tr>\n",
              "      <th>1</th>\n",
              "      <td>http://www.w3.org/2001/XMLSchema#double</td>\n",
              "      <td>literal</td>\n",
              "      <td>0.007945603178241271</td>\n",
              "      <td>http://www.w3.org/2001/XMLSchema#double</td>\n",
              "      <td>literal</td>\n",
              "      <td>102.9954</td>\n",
              "      <td>http://www.w3.org/2001/XMLSchema#double</td>\n",
              "      <td>literal</td>\n",
              "      <td>101.0</td>\n",
              "      <td>http://www.w3.org/2001/XMLSchema#double</td>\n",
              "      <td>literal</td>\n",
              "      <td>1.9954000000000036</td>\n",
              "      <td>literal</td>\n",
              "      <td>polystyrene</td>\n",
              "      <td>literal</td>\n",
              "      <td>polystyrene</td>\n",
              "      <td>uri</td>\n",
              "      <td>http://nanomine.org/sample/l219-s3-bansal-2006</td>\n",
              "      <td>uri</td>\n",
              "      <td>http://dx.doi.org/10.1002/polb.20926</td>\n",
              "    </tr>\n",
              "    <tr>\n",
              "      <th>2</th>\n",
              "      <td>http://www.w3.org/2001/XMLSchema#double</td>\n",
              "      <td>literal</td>\n",
              "      <td>0.020237400272426546</td>\n",
              "      <td>http://www.w3.org/2001/XMLSchema#double</td>\n",
              "      <td>literal</td>\n",
              "      <td>105.17471</td>\n",
              "      <td>http://www.w3.org/2001/XMLSchema#double</td>\n",
              "      <td>literal</td>\n",
              "      <td>101.0</td>\n",
              "      <td>http://www.w3.org/2001/XMLSchema#double</td>\n",
              "      <td>literal</td>\n",
              "      <td>4.174710000000005</td>\n",
              "      <td>literal</td>\n",
              "      <td>polystyrene</td>\n",
              "      <td>literal</td>\n",
              "      <td>polystyrene</td>\n",
              "      <td>uri</td>\n",
              "      <td>http://nanomine.org/sample/l219-s4-bansal-2006</td>\n",
              "      <td>uri</td>\n",
              "      <td>http://dx.doi.org/10.1002/polb.20926</td>\n",
              "    </tr>\n",
              "    <tr>\n",
              "      <th>3</th>\n",
              "      <td>http://www.w3.org/2001/XMLSchema#double</td>\n",
              "      <td>literal</td>\n",
              "      <td>0.0019682431537311456</td>\n",
              "      <td>http://www.w3.org/2001/XMLSchema#double</td>\n",
              "      <td>literal</td>\n",
              "      <td>101.0</td>\n",
              "      <td>http://www.w3.org/2001/XMLSchema#double</td>\n",
              "      <td>literal</td>\n",
              "      <td>101.0</td>\n",
              "      <td>http://www.w3.org/2001/XMLSchema#double</td>\n",
              "      <td>literal</td>\n",
              "      <td>0.0</td>\n",
              "      <td>literal</td>\n",
              "      <td>polystyrene</td>\n",
              "      <td>literal</td>\n",
              "      <td>polystyrene</td>\n",
              "      <td>uri</td>\n",
              "      <td>http://nanomine.org/sample/l219-s6-bansal-2006</td>\n",
              "      <td>uri</td>\n",
              "      <td>http://dx.doi.org/10.1002/polb.20926</td>\n",
              "    </tr>\n",
              "    <tr>\n",
              "      <th>4</th>\n",
              "      <td>http://www.w3.org/2001/XMLSchema#double</td>\n",
              "      <td>literal</td>\n",
              "      <td>0.007945603178241271</td>\n",
              "      <td>http://www.w3.org/2001/XMLSchema#double</td>\n",
              "      <td>literal</td>\n",
              "      <td>101.0</td>\n",
              "      <td>http://www.w3.org/2001/XMLSchema#double</td>\n",
              "      <td>literal</td>\n",
              "      <td>101.0</td>\n",
              "      <td>http://www.w3.org/2001/XMLSchema#double</td>\n",
              "      <td>literal</td>\n",
              "      <td>0.0</td>\n",
              "      <td>literal</td>\n",
              "      <td>polystyrene</td>\n",
              "      <td>literal</td>\n",
              "      <td>polystyrene</td>\n",
              "      <td>uri</td>\n",
              "      <td>http://nanomine.org/sample/l219-s7-bansal-2006</td>\n",
              "      <td>uri</td>\n",
              "      <td>http://dx.doi.org/10.1002/polb.20926</td>\n",
              "    </tr>\n",
              "    <tr>\n",
              "      <th>...</th>\n",
              "      <td>...</td>\n",
              "      <td>...</td>\n",
              "      <td>...</td>\n",
              "      <td>...</td>\n",
              "      <td>...</td>\n",
              "      <td>...</td>\n",
              "      <td>...</td>\n",
              "      <td>...</td>\n",
              "      <td>...</td>\n",
              "      <td>...</td>\n",
              "      <td>...</td>\n",
              "      <td>...</td>\n",
              "      <td>...</td>\n",
              "      <td>...</td>\n",
              "      <td>...</td>\n",
              "      <td>...</td>\n",
              "      <td>...</td>\n",
              "      <td>...</td>\n",
              "      <td>...</td>\n",
              "      <td>...</td>\n",
              "    </tr>\n",
              "    <tr>\n",
              "      <th>167</th>\n",
              "      <td>http://www.w3.org/2001/XMLSchema#double</td>\n",
              "      <td>literal</td>\n",
              "      <td>0.022330097087378643</td>\n",
              "      <td>http://www.w3.org/2001/XMLSchema#double</td>\n",
              "      <td>literal</td>\n",
              "      <td>92.5</td>\n",
              "      <td>http://www.w3.org/2001/XMLSchema#double</td>\n",
              "      <td>literal</td>\n",
              "      <td>74.1</td>\n",
              "      <td>http://www.w3.org/2001/XMLSchema#double</td>\n",
              "      <td>literal</td>\n",
              "      <td>18.400000000000006</td>\n",
              "      <td>NaN</td>\n",
              "      <td>NaN</td>\n",
              "      <td>literal</td>\n",
              "      <td>poly(methyl methacrylate)</td>\n",
              "      <td>uri</td>\n",
              "      <td>http://nanomine.org/sample/l283-s4-salami-2012</td>\n",
              "      <td>uri</td>\n",
              "      <td>http://dx.doi.org/10.1007/s10965-011-9793-1</td>\n",
              "    </tr>\n",
              "    <tr>\n",
              "      <th>168</th>\n",
              "      <td>http://www.w3.org/2001/XMLSchema#double</td>\n",
              "      <td>literal</td>\n",
              "      <td>0.03163064833005894</td>\n",
              "      <td>http://www.w3.org/2001/XMLSchema#double</td>\n",
              "      <td>literal</td>\n",
              "      <td>92.3</td>\n",
              "      <td>http://www.w3.org/2001/XMLSchema#double</td>\n",
              "      <td>literal</td>\n",
              "      <td>76.9</td>\n",
              "      <td>http://www.w3.org/2001/XMLSchema#double</td>\n",
              "      <td>literal</td>\n",
              "      <td>15.399999999999991</td>\n",
              "      <td>NaN</td>\n",
              "      <td>NaN</td>\n",
              "      <td>literal</td>\n",
              "      <td>poly(methyl methacrylate)</td>\n",
              "      <td>uri</td>\n",
              "      <td>http://nanomine.org/sample/l283-s5-salami-2012</td>\n",
              "      <td>uri</td>\n",
              "      <td>http://dx.doi.org/10.1007/s10965-011-9793-1</td>\n",
              "    </tr>\n",
              "    <tr>\n",
              "      <th>169</th>\n",
              "      <td>http://www.w3.org/2001/XMLSchema#double</td>\n",
              "      <td>literal</td>\n",
              "      <td>0.03163064833005894</td>\n",
              "      <td>http://www.w3.org/2001/XMLSchema#double</td>\n",
              "      <td>literal</td>\n",
              "      <td>92.3</td>\n",
              "      <td>http://www.w3.org/2001/XMLSchema#double</td>\n",
              "      <td>literal</td>\n",
              "      <td>74.1</td>\n",
              "      <td>http://www.w3.org/2001/XMLSchema#double</td>\n",
              "      <td>literal</td>\n",
              "      <td>18.200000000000003</td>\n",
              "      <td>NaN</td>\n",
              "      <td>NaN</td>\n",
              "      <td>literal</td>\n",
              "      <td>poly(methyl methacrylate)</td>\n",
              "      <td>uri</td>\n",
              "      <td>http://nanomine.org/sample/l283-s5-salami-2012</td>\n",
              "      <td>uri</td>\n",
              "      <td>http://dx.doi.org/10.1007/s10965-011-9793-1</td>\n",
              "    </tr>\n",
              "    <tr>\n",
              "      <th>170</th>\n",
              "      <td>http://www.w3.org/2001/XMLSchema#double</td>\n",
              "      <td>literal</td>\n",
              "      <td>0.03163064833005894</td>\n",
              "      <td>http://www.w3.org/2001/XMLSchema#double</td>\n",
              "      <td>literal</td>\n",
              "      <td>94.4</td>\n",
              "      <td>http://www.w3.org/2001/XMLSchema#double</td>\n",
              "      <td>literal</td>\n",
              "      <td>74.1</td>\n",
              "      <td>http://www.w3.org/2001/XMLSchema#double</td>\n",
              "      <td>literal</td>\n",
              "      <td>20.30000000000001</td>\n",
              "      <td>NaN</td>\n",
              "      <td>NaN</td>\n",
              "      <td>literal</td>\n",
              "      <td>poly(methyl methacrylate)</td>\n",
              "      <td>uri</td>\n",
              "      <td>http://nanomine.org/sample/l283-s5-salami-2012</td>\n",
              "      <td>uri</td>\n",
              "      <td>http://dx.doi.org/10.1007/s10965-011-9793-1</td>\n",
              "    </tr>\n",
              "    <tr>\n",
              "      <th>171</th>\n",
              "      <td>http://www.w3.org/2001/XMLSchema#double</td>\n",
              "      <td>literal</td>\n",
              "      <td>0.03163064833005894</td>\n",
              "      <td>http://www.w3.org/2001/XMLSchema#double</td>\n",
              "      <td>literal</td>\n",
              "      <td>94.4</td>\n",
              "      <td>http://www.w3.org/2001/XMLSchema#double</td>\n",
              "      <td>literal</td>\n",
              "      <td>76.9</td>\n",
              "      <td>http://www.w3.org/2001/XMLSchema#double</td>\n",
              "      <td>literal</td>\n",
              "      <td>17.5</td>\n",
              "      <td>NaN</td>\n",
              "      <td>NaN</td>\n",
              "      <td>literal</td>\n",
              "      <td>poly(methyl methacrylate)</td>\n",
              "      <td>uri</td>\n",
              "      <td>http://nanomine.org/sample/l283-s5-salami-2012</td>\n",
              "      <td>uri</td>\n",
              "      <td>http://dx.doi.org/10.1007/s10965-011-9793-1</td>\n",
              "    </tr>\n",
              "  </tbody>\n",
              "</table>\n",
              "<p>145 rows × 20 columns</p>\n",
              "</div>"
            ],
            "text/plain": [
              "                            VolFrac_datatype  ...                                    doi_value\n",
              "0    http://www.w3.org/2001/XMLSchema#double  ...         http://dx.doi.org/10.1002/polb.20926\n",
              "1    http://www.w3.org/2001/XMLSchema#double  ...         http://dx.doi.org/10.1002/polb.20926\n",
              "2    http://www.w3.org/2001/XMLSchema#double  ...         http://dx.doi.org/10.1002/polb.20926\n",
              "3    http://www.w3.org/2001/XMLSchema#double  ...         http://dx.doi.org/10.1002/polb.20926\n",
              "4    http://www.w3.org/2001/XMLSchema#double  ...         http://dx.doi.org/10.1002/polb.20926\n",
              "..                                       ...  ...                                          ...\n",
              "167  http://www.w3.org/2001/XMLSchema#double  ...  http://dx.doi.org/10.1007/s10965-011-9793-1\n",
              "168  http://www.w3.org/2001/XMLSchema#double  ...  http://dx.doi.org/10.1007/s10965-011-9793-1\n",
              "169  http://www.w3.org/2001/XMLSchema#double  ...  http://dx.doi.org/10.1007/s10965-011-9793-1\n",
              "170  http://www.w3.org/2001/XMLSchema#double  ...  http://dx.doi.org/10.1007/s10965-011-9793-1\n",
              "171  http://www.w3.org/2001/XMLSchema#double  ...  http://dx.doi.org/10.1007/s10965-011-9793-1\n",
              "\n",
              "[145 rows x 20 columns]"
            ]
          },
          "metadata": {
            "tags": []
          }
        }
      ]
    },
    {
      "cell_type": "markdown",
      "metadata": {
        "id": "eR1GRTeBB5NX"
      },
      "source": [
        "SUBMISSION 2: All of NanoMine"
      ]
    },
    {
      "cell_type": "code",
      "metadata": {
        "colab": {
          "base_uri": "https://localhost:8080/",
          "height": 415
        },
        "id": "68w09FrOCEUj",
        "outputId": "ee91e523-e87f-4cdf-a488-cbbf56ed0938"
      },
      "source": [
        "Q2 = nm_rdf_query(query2)\n",
        "Q2.submit()\n",
        "display(Q2.results_df)"
      ],
      "execution_count": null,
      "outputs": [
        {
          "output_type": "display_data",
          "data": {
            "text/html": [
              "<div>\n",
              "<style scoped>\n",
              "    .dataframe tbody tr th:only-of-type {\n",
              "        vertical-align: middle;\n",
              "    }\n",
              "\n",
              "    .dataframe tbody tr th {\n",
              "        vertical-align: top;\n",
              "    }\n",
              "\n",
              "    .dataframe thead th {\n",
              "        text-align: right;\n",
              "    }\n",
              "</style>\n",
              "<table border=\"1\" class=\"dataframe\">\n",
              "  <thead>\n",
              "    <tr style=\"text-align: right;\">\n",
              "      <th></th>\n",
              "      <th>sample_type</th>\n",
              "      <th>sample_value</th>\n",
              "    </tr>\n",
              "  </thead>\n",
              "  <tbody>\n",
              "    <tr>\n",
              "      <th>0</th>\n",
              "      <td>uri</td>\n",
              "      <td>http://nanomine.org/sample/e108-s1-huang-2016</td>\n",
              "    </tr>\n",
              "    <tr>\n",
              "      <th>1</th>\n",
              "      <td>uri</td>\n",
              "      <td>http://nanomine.org/sample/e108-s2-huang-2016</td>\n",
              "    </tr>\n",
              "    <tr>\n",
              "      <th>2</th>\n",
              "      <td>uri</td>\n",
              "      <td>http://nanomine.org/sample/e108-s3-huang-2016</td>\n",
              "    </tr>\n",
              "    <tr>\n",
              "      <th>3</th>\n",
              "      <td>uri</td>\n",
              "      <td>http://nanomine.org/sample/e108-s5-huang-2016</td>\n",
              "    </tr>\n",
              "    <tr>\n",
              "      <th>4</th>\n",
              "      <td>uri</td>\n",
              "      <td>http://nanomine.org/sample/e108-s7-huang-2016</td>\n",
              "    </tr>\n",
              "    <tr>\n",
              "      <th>...</th>\n",
              "      <td>...</td>\n",
              "      <td>...</td>\n",
              "    </tr>\n",
              "    <tr>\n",
              "      <th>1981</th>\n",
              "      <td>uri</td>\n",
              "      <td>http://nanomine.org/sample/l390-s5-mortezaei-2011</td>\n",
              "    </tr>\n",
              "    <tr>\n",
              "      <th>1982</th>\n",
              "      <td>uri</td>\n",
              "      <td>http://nanomine.org/sample/l391-s1-mortezaei-2011</td>\n",
              "    </tr>\n",
              "    <tr>\n",
              "      <th>1983</th>\n",
              "      <td>uri</td>\n",
              "      <td>http://nanomine.org/sample/l391-s2-mortezaei-2011</td>\n",
              "    </tr>\n",
              "    <tr>\n",
              "      <th>1984</th>\n",
              "      <td>uri</td>\n",
              "      <td>http://nanomine.org/sample/l391-s3-mortezaei-2011</td>\n",
              "    </tr>\n",
              "    <tr>\n",
              "      <th>1985</th>\n",
              "      <td>uri</td>\n",
              "      <td>http://nanomine.org/sample/l391-s4-mortezaei-2011</td>\n",
              "    </tr>\n",
              "  </tbody>\n",
              "</table>\n",
              "<p>1986 rows × 2 columns</p>\n",
              "</div>"
            ],
            "text/plain": [
              "     sample_type                                       sample_value\n",
              "0            uri      http://nanomine.org/sample/e108-s1-huang-2016\n",
              "1            uri      http://nanomine.org/sample/e108-s2-huang-2016\n",
              "2            uri      http://nanomine.org/sample/e108-s3-huang-2016\n",
              "3            uri      http://nanomine.org/sample/e108-s5-huang-2016\n",
              "4            uri      http://nanomine.org/sample/e108-s7-huang-2016\n",
              "...          ...                                                ...\n",
              "1981         uri  http://nanomine.org/sample/l390-s5-mortezaei-2011\n",
              "1982         uri  http://nanomine.org/sample/l391-s1-mortezaei-2011\n",
              "1983         uri  http://nanomine.org/sample/l391-s2-mortezaei-2011\n",
              "1984         uri  http://nanomine.org/sample/l391-s3-mortezaei-2011\n",
              "1985         uri  http://nanomine.org/sample/l391-s4-mortezaei-2011\n",
              "\n",
              "[1986 rows x 2 columns]"
            ]
          },
          "metadata": {
            "tags": []
          }
        }
      ]
    },
    {
      "cell_type": "markdown",
      "metadata": {
        "id": "dAZsp-mnVLcR"
      },
      "source": [
        "SUBMISSION 3: Tg values with reported uncertainty"
      ]
    },
    {
      "cell_type": "code",
      "metadata": {
        "colab": {
          "base_uri": "https://localhost:8080/",
          "height": 1000
        },
        "id": "Ri1xk10zVNij",
        "outputId": "32aa15b7-9647-4bd8-beba-78b6cf5884ab"
      },
      "source": [
        "Q3 = nm_rdf_query(query3)\n",
        "Q3.submit()\n",
        "display(Q3.results_df)"
      ],
      "execution_count": null,
      "outputs": [
        {
          "output_type": "display_data",
          "data": {
            "text/html": [
              "<div>\n",
              "<style scoped>\n",
              "    .dataframe tbody tr th:only-of-type {\n",
              "        vertical-align: middle;\n",
              "    }\n",
              "\n",
              "    .dataframe tbody tr th {\n",
              "        vertical-align: top;\n",
              "    }\n",
              "\n",
              "    .dataframe thead th {\n",
              "        text-align: right;\n",
              "    }\n",
              "</style>\n",
              "<table border=\"1\" class=\"dataframe\">\n",
              "  <thead>\n",
              "    <tr style=\"text-align: right;\">\n",
              "      <th></th>\n",
              "      <th>sample_type</th>\n",
              "      <th>sample_value</th>\n",
              "      <th>MassFraction_datatype</th>\n",
              "      <th>MassFraction_type</th>\n",
              "      <th>MassFraction_value</th>\n",
              "      <th>Filler_type</th>\n",
              "      <th>Filler_value</th>\n",
              "      <th>Matrix_type</th>\n",
              "      <th>Matrix_value</th>\n",
              "      <th>Tg_datatype</th>\n",
              "      <th>Tg_type</th>\n",
              "      <th>Tg_value</th>\n",
              "      <th>uncertaintyTg_datatype</th>\n",
              "      <th>uncertaintyTg_type</th>\n",
              "      <th>uncertaintyTg_value</th>\n",
              "    </tr>\n",
              "  </thead>\n",
              "  <tbody>\n",
              "    <tr>\n",
              "      <th>0</th>\n",
              "      <td>uri</td>\n",
              "      <td>http://nanomine.org/sample/l212-s3-ghanbari-2012</td>\n",
              "      <td>http://www.w3.org/2001/XMLSchema#double</td>\n",
              "      <td>literal</td>\n",
              "      <td>0.04</td>\n",
              "      <td>literal</td>\n",
              "      <td>Montmorillonite</td>\n",
              "      <td>literal</td>\n",
              "      <td>Poly(ethylene terephthalate)</td>\n",
              "      <td>http://www.w3.org/2001/XMLSchema#double</td>\n",
              "      <td>literal</td>\n",
              "      <td>75.1</td>\n",
              "      <td>http://www.w3.org/2001/XMLSchema#double</td>\n",
              "      <td>literal</td>\n",
              "      <td>0.3</td>\n",
              "    </tr>\n",
              "    <tr>\n",
              "      <th>1</th>\n",
              "      <td>uri</td>\n",
              "      <td>http://nanomine.org/sample/l212-s4-ghanbari-2012</td>\n",
              "      <td>http://www.w3.org/2001/XMLSchema#double</td>\n",
              "      <td>literal</td>\n",
              "      <td>0.04</td>\n",
              "      <td>literal</td>\n",
              "      <td>Montmorillonite</td>\n",
              "      <td>literal</td>\n",
              "      <td>Poly(ethylene terephthalate)</td>\n",
              "      <td>http://www.w3.org/2001/XMLSchema#double</td>\n",
              "      <td>literal</td>\n",
              "      <td>76.2</td>\n",
              "      <td>http://www.w3.org/2001/XMLSchema#double</td>\n",
              "      <td>literal</td>\n",
              "      <td>0.1</td>\n",
              "    </tr>\n",
              "    <tr>\n",
              "      <th>2</th>\n",
              "      <td>uri</td>\n",
              "      <td>http://nanomine.org/sample/l212-s5-ghanbari-2012</td>\n",
              "      <td>http://www.w3.org/2001/XMLSchema#double</td>\n",
              "      <td>literal</td>\n",
              "      <td>0.04</td>\n",
              "      <td>literal</td>\n",
              "      <td>Montmorillonite</td>\n",
              "      <td>literal</td>\n",
              "      <td>Poly(ethylene terephthalate)</td>\n",
              "      <td>http://www.w3.org/2001/XMLSchema#double</td>\n",
              "      <td>literal</td>\n",
              "      <td>77.1</td>\n",
              "      <td>http://www.w3.org/2001/XMLSchema#double</td>\n",
              "      <td>literal</td>\n",
              "      <td>0.4</td>\n",
              "    </tr>\n",
              "    <tr>\n",
              "      <th>3</th>\n",
              "      <td>uri</td>\n",
              "      <td>http://nanomine.org/sample/l212-s6-ghanbari-2012</td>\n",
              "      <td>http://www.w3.org/2001/XMLSchema#double</td>\n",
              "      <td>literal</td>\n",
              "      <td>0.04</td>\n",
              "      <td>literal</td>\n",
              "      <td>Montmorillonite</td>\n",
              "      <td>literal</td>\n",
              "      <td>Poly(ethylene terephthalate)</td>\n",
              "      <td>http://www.w3.org/2001/XMLSchema#double</td>\n",
              "      <td>literal</td>\n",
              "      <td>76.0</td>\n",
              "      <td>http://www.w3.org/2001/XMLSchema#double</td>\n",
              "      <td>literal</td>\n",
              "      <td>0.1</td>\n",
              "    </tr>\n",
              "    <tr>\n",
              "      <th>4</th>\n",
              "      <td>uri</td>\n",
              "      <td>http://nanomine.org/sample/l174-s3-ramanathan-...</td>\n",
              "      <td>http://www.w3.org/2001/XMLSchema#double</td>\n",
              "      <td>literal</td>\n",
              "      <td>0.01</td>\n",
              "      <td>literal</td>\n",
              "      <td>Graphite</td>\n",
              "      <td>literal</td>\n",
              "      <td>Poly(methyl methacrylate)</td>\n",
              "      <td>http://www.w3.org/2001/XMLSchema#double</td>\n",
              "      <td>literal</td>\n",
              "      <td>112.0</td>\n",
              "      <td>http://www.w3.org/2001/XMLSchema#double</td>\n",
              "      <td>literal</td>\n",
              "      <td>2.2</td>\n",
              "    </tr>\n",
              "    <tr>\n",
              "      <th>5</th>\n",
              "      <td>uri</td>\n",
              "      <td>http://nanomine.org/sample/l179-s2-ramanathan-...</td>\n",
              "      <td>http://www.w3.org/2001/XMLSchema#double</td>\n",
              "      <td>literal</td>\n",
              "      <td>0.01</td>\n",
              "      <td>literal</td>\n",
              "      <td>Graphite</td>\n",
              "      <td>literal</td>\n",
              "      <td>Poly(methyl methacrylate)</td>\n",
              "      <td>http://www.w3.org/2001/XMLSchema#double</td>\n",
              "      <td>literal</td>\n",
              "      <td>137.990552095732</td>\n",
              "      <td>http://www.w3.org/2001/XMLSchema#double</td>\n",
              "      <td>literal</td>\n",
              "      <td>3.978501</td>\n",
              "    </tr>\n",
              "    <tr>\n",
              "      <th>6</th>\n",
              "      <td>uri</td>\n",
              "      <td>http://nanomine.org/sample/l179-s3-ramanathan-...</td>\n",
              "      <td>http://www.w3.org/2001/XMLSchema#double</td>\n",
              "      <td>literal</td>\n",
              "      <td>0.02</td>\n",
              "      <td>literal</td>\n",
              "      <td>Graphite</td>\n",
              "      <td>literal</td>\n",
              "      <td>Poly(methyl methacrylate)</td>\n",
              "      <td>http://www.w3.org/2001/XMLSchema#double</td>\n",
              "      <td>literal</td>\n",
              "      <td>133.943191816033</td>\n",
              "      <td>http://www.w3.org/2001/XMLSchema#double</td>\n",
              "      <td>literal</td>\n",
              "      <td>3.389111</td>\n",
              "    </tr>\n",
              "    <tr>\n",
              "      <th>7</th>\n",
              "      <td>uri</td>\n",
              "      <td>http://nanomine.org/sample/l179-s4-ramanathan-...</td>\n",
              "      <td>http://www.w3.org/2001/XMLSchema#double</td>\n",
              "      <td>literal</td>\n",
              "      <td>0.05</td>\n",
              "      <td>literal</td>\n",
              "      <td>Graphite</td>\n",
              "      <td>literal</td>\n",
              "      <td>Poly(methyl methacrylate)</td>\n",
              "      <td>http://www.w3.org/2001/XMLSchema#double</td>\n",
              "      <td>literal</td>\n",
              "      <td>129.003168469416</td>\n",
              "      <td>http://www.w3.org/2001/XMLSchema#double</td>\n",
              "      <td>literal</td>\n",
              "      <td>0.294695</td>\n",
              "    </tr>\n",
              "    <tr>\n",
              "      <th>8</th>\n",
              "      <td>uri</td>\n",
              "      <td>http://nanomine.org/sample/l179-s5-ramanathan-...</td>\n",
              "      <td>http://www.w3.org/2001/XMLSchema#double</td>\n",
              "      <td>literal</td>\n",
              "      <td>0.01</td>\n",
              "      <td>literal</td>\n",
              "      <td>Graphite</td>\n",
              "      <td>literal</td>\n",
              "      <td>Poly(methyl methacrylate)</td>\n",
              "      <td>http://www.w3.org/2001/XMLSchema#double</td>\n",
              "      <td>literal</td>\n",
              "      <td>112.935578288796</td>\n",
              "      <td>http://www.w3.org/2001/XMLSchema#double</td>\n",
              "      <td>literal</td>\n",
              "      <td>2.136613</td>\n",
              "    </tr>\n",
              "    <tr>\n",
              "      <th>9</th>\n",
              "      <td>uri</td>\n",
              "      <td>http://nanomine.org/sample/l174-s2-ramanathan-...</td>\n",
              "      <td>http://www.w3.org/2001/XMLSchema#double</td>\n",
              "      <td>literal</td>\n",
              "      <td>0.01</td>\n",
              "      <td>literal</td>\n",
              "      <td>Single-wall carbon nanotubes</td>\n",
              "      <td>literal</td>\n",
              "      <td>Poly(methyl methacrylate)</td>\n",
              "      <td>http://www.w3.org/2001/XMLSchema#double</td>\n",
              "      <td>literal</td>\n",
              "      <td>104.8</td>\n",
              "      <td>http://www.w3.org/2001/XMLSchema#double</td>\n",
              "      <td>literal</td>\n",
              "      <td>2.1</td>\n",
              "    </tr>\n",
              "    <tr>\n",
              "      <th>10</th>\n",
              "      <td>uri</td>\n",
              "      <td>http://nanomine.org/sample/l174-s24-ramanathan...</td>\n",
              "      <td>http://www.w3.org/2001/XMLSchema#double</td>\n",
              "      <td>literal</td>\n",
              "      <td>0.001</td>\n",
              "      <td>literal</td>\n",
              "      <td>Single-wall carbon nanotubes</td>\n",
              "      <td>literal</td>\n",
              "      <td>Poly(methyl methacrylate)</td>\n",
              "      <td>http://www.w3.org/2001/XMLSchema#double</td>\n",
              "      <td>literal</td>\n",
              "      <td>104.9</td>\n",
              "      <td>http://www.w3.org/2001/XMLSchema#double</td>\n",
              "      <td>literal</td>\n",
              "      <td>1.2</td>\n",
              "    </tr>\n",
              "    <tr>\n",
              "      <th>11</th>\n",
              "      <td>uri</td>\n",
              "      <td>http://nanomine.org/sample/l174-s4-ramanathan-...</td>\n",
              "      <td>http://www.w3.org/2001/XMLSchema#double</td>\n",
              "      <td>literal</td>\n",
              "      <td>0.01</td>\n",
              "      <td>literal</td>\n",
              "      <td>Graphene</td>\n",
              "      <td>literal</td>\n",
              "      <td>Poly(methyl methacrylate)</td>\n",
              "      <td>http://www.w3.org/2001/XMLSchema#double</td>\n",
              "      <td>literal</td>\n",
              "      <td>133.0</td>\n",
              "      <td>http://www.w3.org/2001/XMLSchema#double</td>\n",
              "      <td>literal</td>\n",
              "      <td>3.2</td>\n",
              "    </tr>\n",
              "    <tr>\n",
              "      <th>12</th>\n",
              "      <td>uri</td>\n",
              "      <td>http://nanomine.org/sample/l174-s5-ramanathan-...</td>\n",
              "      <td>http://www.w3.org/2001/XMLSchema#double</td>\n",
              "      <td>literal</td>\n",
              "      <td>0.001</td>\n",
              "      <td>literal</td>\n",
              "      <td>Graphene</td>\n",
              "      <td>literal</td>\n",
              "      <td>Poly(acrylonitrile)</td>\n",
              "      <td>http://www.w3.org/2001/XMLSchema#double</td>\n",
              "      <td>literal</td>\n",
              "      <td>119.8</td>\n",
              "      <td>http://www.w3.org/2001/XMLSchema#double</td>\n",
              "      <td>literal</td>\n",
              "      <td>8.3</td>\n",
              "    </tr>\n",
              "    <tr>\n",
              "      <th>13</th>\n",
              "      <td>uri</td>\n",
              "      <td>http://nanomine.org/sample/l174-s6-ramanathan-...</td>\n",
              "      <td>http://www.w3.org/2001/XMLSchema#double</td>\n",
              "      <td>literal</td>\n",
              "      <td>0.01</td>\n",
              "      <td>literal</td>\n",
              "      <td>Graphene</td>\n",
              "      <td>literal</td>\n",
              "      <td>Poly(acrylonitrile)</td>\n",
              "      <td>http://www.w3.org/2001/XMLSchema#double</td>\n",
              "      <td>literal</td>\n",
              "      <td>153.1</td>\n",
              "      <td>http://www.w3.org/2001/XMLSchema#double</td>\n",
              "      <td>literal</td>\n",
              "      <td>1.1</td>\n",
              "    </tr>\n",
              "    <tr>\n",
              "      <th>14</th>\n",
              "      <td>uri</td>\n",
              "      <td>http://nanomine.org/sample/l174-s7-ramanathan-...</td>\n",
              "      <td>http://www.w3.org/2001/XMLSchema#double</td>\n",
              "      <td>literal</td>\n",
              "      <td>0.001</td>\n",
              "      <td>literal</td>\n",
              "      <td>Graphene</td>\n",
              "      <td>literal</td>\n",
              "      <td>Poly(acrylic acid)</td>\n",
              "      <td>http://www.w3.org/2001/XMLSchema#double</td>\n",
              "      <td>literal</td>\n",
              "      <td>108.9</td>\n",
              "      <td>http://www.w3.org/2001/XMLSchema#double</td>\n",
              "      <td>literal</td>\n",
              "      <td>0.3</td>\n",
              "    </tr>\n",
              "    <tr>\n",
              "      <th>15</th>\n",
              "      <td>uri</td>\n",
              "      <td>http://nanomine.org/sample/l174-s8-ramanathan-...</td>\n",
              "      <td>http://www.w3.org/2001/XMLSchema#double</td>\n",
              "      <td>literal</td>\n",
              "      <td>0.01</td>\n",
              "      <td>literal</td>\n",
              "      <td>Graphene</td>\n",
              "      <td>literal</td>\n",
              "      <td>Poly(acrylic acid)</td>\n",
              "      <td>http://www.w3.org/2001/XMLSchema#double</td>\n",
              "      <td>literal</td>\n",
              "      <td>120.6</td>\n",
              "      <td>http://www.w3.org/2001/XMLSchema#double</td>\n",
              "      <td>literal</td>\n",
              "      <td>1.2</td>\n",
              "    </tr>\n",
              "    <tr>\n",
              "      <th>16</th>\n",
              "      <td>uri</td>\n",
              "      <td>http://nanomine.org/sample/l174-s9-ramanathan-...</td>\n",
              "      <td>http://www.w3.org/2001/XMLSchema#double</td>\n",
              "      <td>literal</td>\n",
              "      <td>1.0E-4</td>\n",
              "      <td>literal</td>\n",
              "      <td>Graphene</td>\n",
              "      <td>literal</td>\n",
              "      <td>Poly(methyl methacrylate)</td>\n",
              "      <td>http://www.w3.org/2001/XMLSchema#double</td>\n",
              "      <td>literal</td>\n",
              "      <td>117.9</td>\n",
              "      <td>http://www.w3.org/2001/XMLSchema#double</td>\n",
              "      <td>literal</td>\n",
              "      <td>1.2</td>\n",
              "    </tr>\n",
              "    <tr>\n",
              "      <th>17</th>\n",
              "      <td>uri</td>\n",
              "      <td>http://nanomine.org/sample/l174-s10-ramanathan...</td>\n",
              "      <td>http://www.w3.org/2001/XMLSchema#double</td>\n",
              "      <td>literal</td>\n",
              "      <td>5.0E-4</td>\n",
              "      <td>literal</td>\n",
              "      <td>Graphene</td>\n",
              "      <td>literal</td>\n",
              "      <td>Poly(methyl methacrylate)</td>\n",
              "      <td>http://www.w3.org/2001/XMLSchema#double</td>\n",
              "      <td>literal</td>\n",
              "      <td>133.0</td>\n",
              "      <td>http://www.w3.org/2001/XMLSchema#double</td>\n",
              "      <td>literal</td>\n",
              "      <td>1.7</td>\n",
              "    </tr>\n",
              "    <tr>\n",
              "      <th>18</th>\n",
              "      <td>uri</td>\n",
              "      <td>http://nanomine.org/sample/l174-s11-ramanathan...</td>\n",
              "      <td>http://www.w3.org/2001/XMLSchema#double</td>\n",
              "      <td>literal</td>\n",
              "      <td>0.0025</td>\n",
              "      <td>literal</td>\n",
              "      <td>Graphene</td>\n",
              "      <td>literal</td>\n",
              "      <td>Poly(methyl methacrylate)</td>\n",
              "      <td>http://www.w3.org/2001/XMLSchema#double</td>\n",
              "      <td>literal</td>\n",
              "      <td>130.8</td>\n",
              "      <td>http://www.w3.org/2001/XMLSchema#double</td>\n",
              "      <td>literal</td>\n",
              "      <td>1.8</td>\n",
              "    </tr>\n",
              "    <tr>\n",
              "      <th>19</th>\n",
              "      <td>uri</td>\n",
              "      <td>http://nanomine.org/sample/l179-s6-ramanathan-...</td>\n",
              "      <td>http://www.w3.org/2001/XMLSchema#double</td>\n",
              "      <td>literal</td>\n",
              "      <td>0.02</td>\n",
              "      <td>literal</td>\n",
              "      <td>Graphite</td>\n",
              "      <td>literal</td>\n",
              "      <td>Poly(methyl methacrylate)</td>\n",
              "      <td>http://www.w3.org/2001/XMLSchema#double</td>\n",
              "      <td>literal</td>\n",
              "      <td>121.973622923387</td>\n",
              "      <td>http://www.w3.org/2001/XMLSchema#double</td>\n",
              "      <td>literal</td>\n",
              "      <td>3.536464</td>\n",
              "    </tr>\n",
              "    <tr>\n",
              "      <th>20</th>\n",
              "      <td>uri</td>\n",
              "      <td>http://nanomine.org/sample/l179-s7-ramanathan-...</td>\n",
              "      <td>http://www.w3.org/2001/XMLSchema#double</td>\n",
              "      <td>literal</td>\n",
              "      <td>0.05</td>\n",
              "      <td>literal</td>\n",
              "      <td>Graphite</td>\n",
              "      <td>literal</td>\n",
              "      <td>Poly(methyl methacrylate)</td>\n",
              "      <td>http://www.w3.org/2001/XMLSchema#double</td>\n",
              "      <td>literal</td>\n",
              "      <td>98.0141574804055</td>\n",
              "      <td>http://www.w3.org/2001/XMLSchema#double</td>\n",
              "      <td>literal</td>\n",
              "      <td>4.19955</td>\n",
              "    </tr>\n",
              "    <tr>\n",
              "      <th>21</th>\n",
              "      <td>uri</td>\n",
              "      <td>http://nanomine.org/sample/l179-s8-ramanathan-...</td>\n",
              "      <td>http://www.w3.org/2001/XMLSchema#double</td>\n",
              "      <td>literal</td>\n",
              "      <td>0.01</td>\n",
              "      <td>literal</td>\n",
              "      <td>Graphite</td>\n",
              "      <td>literal</td>\n",
              "      <td>Poly(methyl methacrylate)</td>\n",
              "      <td>http://www.w3.org/2001/XMLSchema#double</td>\n",
              "      <td>literal</td>\n",
              "      <td>119.731887683222</td>\n",
              "      <td>http://www.w3.org/2001/XMLSchema#double</td>\n",
              "      <td>literal</td>\n",
              "      <td>2.320804</td>\n",
              "    </tr>\n",
              "    <tr>\n",
              "      <th>22</th>\n",
              "      <td>uri</td>\n",
              "      <td>http://nanomine.org/sample/l179-s9-ramanathan-...</td>\n",
              "      <td>http://www.w3.org/2001/XMLSchema#double</td>\n",
              "      <td>literal</td>\n",
              "      <td>0.02</td>\n",
              "      <td>literal</td>\n",
              "      <td>Graphite</td>\n",
              "      <td>literal</td>\n",
              "      <td>Poly(methyl methacrylate)</td>\n",
              "      <td>http://www.w3.org/2001/XMLSchema#double</td>\n",
              "      <td>literal</td>\n",
              "      <td>127.755533320682</td>\n",
              "      <td>http://www.w3.org/2001/XMLSchema#double</td>\n",
              "      <td>literal</td>\n",
              "      <td>2.541854</td>\n",
              "    </tr>\n",
              "    <tr>\n",
              "      <th>23</th>\n",
              "      <td>uri</td>\n",
              "      <td>http://nanomine.org/sample/l179-s10-ramanathan...</td>\n",
              "      <td>http://www.w3.org/2001/XMLSchema#double</td>\n",
              "      <td>literal</td>\n",
              "      <td>0.05</td>\n",
              "      <td>literal</td>\n",
              "      <td>Graphite</td>\n",
              "      <td>literal</td>\n",
              "      <td>Poly(methyl methacrylate)</td>\n",
              "      <td>http://www.w3.org/2001/XMLSchema#double</td>\n",
              "      <td>literal</td>\n",
              "      <td>135.799449111851</td>\n",
              "      <td>http://www.w3.org/2001/XMLSchema#double</td>\n",
              "      <td>literal</td>\n",
              "      <td>3.094406</td>\n",
              "    </tr>\n",
              "    <tr>\n",
              "      <th>24</th>\n",
              "      <td>uri</td>\n",
              "      <td>http://nanomine.org/sample/l284-s2-valles-2013</td>\n",
              "      <td>http://www.w3.org/2001/XMLSchema#double</td>\n",
              "      <td>literal</td>\n",
              "      <td>0.005</td>\n",
              "      <td>literal</td>\n",
              "      <td>Graphene oxide</td>\n",
              "      <td>literal</td>\n",
              "      <td>Poly(methyl methacrylate)</td>\n",
              "      <td>http://www.w3.org/2001/XMLSchema#double</td>\n",
              "      <td>literal</td>\n",
              "      <td>138.3021077</td>\n",
              "      <td>http://www.w3.org/2001/XMLSchema#double</td>\n",
              "      <td>literal</td>\n",
              "      <td>0.948477752</td>\n",
              "    </tr>\n",
              "    <tr>\n",
              "      <th>25</th>\n",
              "      <td>uri</td>\n",
              "      <td>http://nanomine.org/sample/l284-s4-valles-2013</td>\n",
              "      <td>http://www.w3.org/2001/XMLSchema#double</td>\n",
              "      <td>literal</td>\n",
              "      <td>0.02</td>\n",
              "      <td>literal</td>\n",
              "      <td>Graphene oxide</td>\n",
              "      <td>literal</td>\n",
              "      <td>Poly(methyl methacrylate)</td>\n",
              "      <td>http://www.w3.org/2001/XMLSchema#double</td>\n",
              "      <td>literal</td>\n",
              "      <td>139.0046838</td>\n",
              "      <td>http://www.w3.org/2001/XMLSchema#double</td>\n",
              "      <td>literal</td>\n",
              "      <td>1.299765808</td>\n",
              "    </tr>\n",
              "    <tr>\n",
              "      <th>26</th>\n",
              "      <td>uri</td>\n",
              "      <td>http://nanomine.org/sample/l284-s5-valles-2013</td>\n",
              "      <td>http://www.w3.org/2001/XMLSchema#double</td>\n",
              "      <td>literal</td>\n",
              "      <td>0.05</td>\n",
              "      <td>literal</td>\n",
              "      <td>Graphene oxide</td>\n",
              "      <td>literal</td>\n",
              "      <td>Poly(methyl methacrylate)</td>\n",
              "      <td>http://www.w3.org/2001/XMLSchema#double</td>\n",
              "      <td>literal</td>\n",
              "      <td>136.0538642</td>\n",
              "      <td>http://www.w3.org/2001/XMLSchema#double</td>\n",
              "      <td>literal</td>\n",
              "      <td>4.004683841</td>\n",
              "    </tr>\n",
              "    <tr>\n",
              "      <th>27</th>\n",
              "      <td>uri</td>\n",
              "      <td>http://nanomine.org/sample/l217-s2-ash-2002</td>\n",
              "      <td>http://www.w3.org/2001/XMLSchema#double</td>\n",
              "      <td>literal</td>\n",
              "      <td>0.02</td>\n",
              "      <td>literal</td>\n",
              "      <td>Aluminium oxide</td>\n",
              "      <td>literal</td>\n",
              "      <td>Poly(methyl methacrylate)</td>\n",
              "      <td>http://www.w3.org/2001/XMLSchema#double</td>\n",
              "      <td>literal</td>\n",
              "      <td>102.0</td>\n",
              "      <td>http://www.w3.org/2001/XMLSchema#double</td>\n",
              "      <td>literal</td>\n",
              "      <td>1.0</td>\n",
              "    </tr>\n",
              "    <tr>\n",
              "      <th>28</th>\n",
              "      <td>uri</td>\n",
              "      <td>http://nanomine.org/sample/l217-s2-ash-2002</td>\n",
              "      <td>http://www.w3.org/2001/XMLSchema#double</td>\n",
              "      <td>literal</td>\n",
              "      <td>0.02</td>\n",
              "      <td>literal</td>\n",
              "      <td>Aluminium oxide</td>\n",
              "      <td>literal</td>\n",
              "      <td>Poly(methyl methacrylate)</td>\n",
              "      <td>http://www.w3.org/2001/XMLSchema#double</td>\n",
              "      <td>literal</td>\n",
              "      <td>97.0</td>\n",
              "      <td>http://www.w3.org/2001/XMLSchema#double</td>\n",
              "      <td>literal</td>\n",
              "      <td>3.0</td>\n",
              "    </tr>\n",
              "    <tr>\n",
              "      <th>29</th>\n",
              "      <td>uri</td>\n",
              "      <td>http://nanomine.org/sample/l217-s3-ash-2002</td>\n",
              "      <td>http://www.w3.org/2001/XMLSchema#double</td>\n",
              "      <td>literal</td>\n",
              "      <td>0.05</td>\n",
              "      <td>literal</td>\n",
              "      <td>Aluminium oxide</td>\n",
              "      <td>literal</td>\n",
              "      <td>Poly(methyl methacrylate)</td>\n",
              "      <td>http://www.w3.org/2001/XMLSchema#double</td>\n",
              "      <td>literal</td>\n",
              "      <td>103.0</td>\n",
              "      <td>http://www.w3.org/2001/XMLSchema#double</td>\n",
              "      <td>literal</td>\n",
              "      <td>2.0</td>\n",
              "    </tr>\n",
              "    <tr>\n",
              "      <th>30</th>\n",
              "      <td>uri</td>\n",
              "      <td>http://nanomine.org/sample/l217-s3-ash-2002</td>\n",
              "      <td>http://www.w3.org/2001/XMLSchema#double</td>\n",
              "      <td>literal</td>\n",
              "      <td>0.05</td>\n",
              "      <td>literal</td>\n",
              "      <td>Aluminium oxide</td>\n",
              "      <td>literal</td>\n",
              "      <td>Poly(methyl methacrylate)</td>\n",
              "      <td>http://www.w3.org/2001/XMLSchema#double</td>\n",
              "      <td>literal</td>\n",
              "      <td>93.0</td>\n",
              "      <td>http://www.w3.org/2001/XMLSchema#double</td>\n",
              "      <td>literal</td>\n",
              "      <td>1.0</td>\n",
              "    </tr>\n",
              "    <tr>\n",
              "      <th>31</th>\n",
              "      <td>uri</td>\n",
              "      <td>http://nanomine.org/sample/l217-s4-ash-2002</td>\n",
              "      <td>http://www.w3.org/2001/XMLSchema#double</td>\n",
              "      <td>literal</td>\n",
              "      <td>0.05</td>\n",
              "      <td>literal</td>\n",
              "      <td>Aluminium oxide</td>\n",
              "      <td>literal</td>\n",
              "      <td>Poly(methyl methacrylate)</td>\n",
              "      <td>http://www.w3.org/2001/XMLSchema#double</td>\n",
              "      <td>literal</td>\n",
              "      <td>93.0</td>\n",
              "      <td>http://www.w3.org/2001/XMLSchema#double</td>\n",
              "      <td>literal</td>\n",
              "      <td>1.0</td>\n",
              "    </tr>\n",
              "    <tr>\n",
              "      <th>32</th>\n",
              "      <td>uri</td>\n",
              "      <td>http://nanomine.org/sample/l217-s4-ash-2002</td>\n",
              "      <td>http://www.w3.org/2001/XMLSchema#double</td>\n",
              "      <td>literal</td>\n",
              "      <td>0.05</td>\n",
              "      <td>literal</td>\n",
              "      <td>Aluminium oxide</td>\n",
              "      <td>literal</td>\n",
              "      <td>Poly(methyl methacrylate)</td>\n",
              "      <td>http://www.w3.org/2001/XMLSchema#double</td>\n",
              "      <td>literal</td>\n",
              "      <td>100.0</td>\n",
              "      <td>http://www.w3.org/2001/XMLSchema#double</td>\n",
              "      <td>literal</td>\n",
              "      <td>1.0</td>\n",
              "    </tr>\n",
              "    <tr>\n",
              "      <th>33</th>\n",
              "      <td>uri</td>\n",
              "      <td>http://nanomine.org/sample/l217-s5-ash-2002</td>\n",
              "      <td>http://www.w3.org/2001/XMLSchema#double</td>\n",
              "      <td>literal</td>\n",
              "      <td>0.1</td>\n",
              "      <td>literal</td>\n",
              "      <td>Aluminium oxide</td>\n",
              "      <td>literal</td>\n",
              "      <td>Poly(methyl methacrylate)</td>\n",
              "      <td>http://www.w3.org/2001/XMLSchema#double</td>\n",
              "      <td>literal</td>\n",
              "      <td>100.0</td>\n",
              "      <td>http://www.w3.org/2001/XMLSchema#double</td>\n",
              "      <td>literal</td>\n",
              "      <td>2.0</td>\n",
              "    </tr>\n",
              "    <tr>\n",
              "      <th>34</th>\n",
              "      <td>uri</td>\n",
              "      <td>http://nanomine.org/sample/l217-s5-ash-2002</td>\n",
              "      <td>http://www.w3.org/2001/XMLSchema#double</td>\n",
              "      <td>literal</td>\n",
              "      <td>0.1</td>\n",
              "      <td>literal</td>\n",
              "      <td>Aluminium oxide</td>\n",
              "      <td>literal</td>\n",
              "      <td>Poly(methyl methacrylate)</td>\n",
              "      <td>http://www.w3.org/2001/XMLSchema#double</td>\n",
              "      <td>literal</td>\n",
              "      <td>112.0</td>\n",
              "      <td>http://www.w3.org/2001/XMLSchema#double</td>\n",
              "      <td>literal</td>\n",
              "      <td>1.0</td>\n",
              "    </tr>\n",
              "    <tr>\n",
              "      <th>35</th>\n",
              "      <td>uri</td>\n",
              "      <td>http://nanomine.org/sample/l217-s6-ash-2002</td>\n",
              "      <td>http://www.w3.org/2001/XMLSchema#double</td>\n",
              "      <td>literal</td>\n",
              "      <td>0.05</td>\n",
              "      <td>literal</td>\n",
              "      <td>Aluminium oxide</td>\n",
              "      <td>literal</td>\n",
              "      <td>Poly(methyl methacrylate)</td>\n",
              "      <td>http://www.w3.org/2001/XMLSchema#double</td>\n",
              "      <td>literal</td>\n",
              "      <td>120.0</td>\n",
              "      <td>http://www.w3.org/2001/XMLSchema#double</td>\n",
              "      <td>literal</td>\n",
              "      <td>2.0</td>\n",
              "    </tr>\n",
              "    <tr>\n",
              "      <th>36</th>\n",
              "      <td>uri</td>\n",
              "      <td>http://nanomine.org/sample/l217-s6-ash-2002</td>\n",
              "      <td>http://www.w3.org/2001/XMLSchema#double</td>\n",
              "      <td>literal</td>\n",
              "      <td>0.05</td>\n",
              "      <td>literal</td>\n",
              "      <td>Aluminium oxide</td>\n",
              "      <td>literal</td>\n",
              "      <td>Poly(methyl methacrylate)</td>\n",
              "      <td>http://www.w3.org/2001/XMLSchema#double</td>\n",
              "      <td>literal</td>\n",
              "      <td>120.0</td>\n",
              "      <td>http://www.w3.org/2001/XMLSchema#double</td>\n",
              "      <td>literal</td>\n",
              "      <td>1.0</td>\n",
              "    </tr>\n",
              "    <tr>\n",
              "      <th>37</th>\n",
              "      <td>uri</td>\n",
              "      <td>http://nanomine.org/sample/l284-s7-valles-2013</td>\n",
              "      <td>http://www.w3.org/2001/XMLSchema#double</td>\n",
              "      <td>literal</td>\n",
              "      <td>0.005</td>\n",
              "      <td>literal</td>\n",
              "      <td>Graphene oxide</td>\n",
              "      <td>literal</td>\n",
              "      <td>Poly(methyl methacrylate)</td>\n",
              "      <td>http://www.w3.org/2001/XMLSchema#double</td>\n",
              "      <td>literal</td>\n",
              "      <td>136.2295082</td>\n",
              "      <td>http://www.w3.org/2001/XMLSchema#double</td>\n",
              "      <td>literal</td>\n",
              "      <td>0.316159251</td>\n",
              "    </tr>\n",
              "    <tr>\n",
              "      <th>38</th>\n",
              "      <td>uri</td>\n",
              "      <td>http://nanomine.org/sample/l284-s8-valles-2013</td>\n",
              "      <td>http://www.w3.org/2001/XMLSchema#double</td>\n",
              "      <td>literal</td>\n",
              "      <td>0.01</td>\n",
              "      <td>literal</td>\n",
              "      <td>Graphene oxide</td>\n",
              "      <td>literal</td>\n",
              "      <td>Poly(methyl methacrylate)</td>\n",
              "      <td>http://www.w3.org/2001/XMLSchema#double</td>\n",
              "      <td>literal</td>\n",
              "      <td>136.8618267</td>\n",
              "      <td>http://www.w3.org/2001/XMLSchema#double</td>\n",
              "      <td>literal</td>\n",
              "      <td>0.807962529</td>\n",
              "    </tr>\n",
              "    <tr>\n",
              "      <th>39</th>\n",
              "      <td>uri</td>\n",
              "      <td>http://nanomine.org/sample/l284-s9-valles-2013</td>\n",
              "      <td>http://www.w3.org/2001/XMLSchema#double</td>\n",
              "      <td>literal</td>\n",
              "      <td>0.02</td>\n",
              "      <td>literal</td>\n",
              "      <td>Graphene oxide</td>\n",
              "      <td>literal</td>\n",
              "      <td>Poly(methyl methacrylate)</td>\n",
              "      <td>http://www.w3.org/2001/XMLSchema#double</td>\n",
              "      <td>literal</td>\n",
              "      <td>135.0</td>\n",
              "      <td>http://www.w3.org/2001/XMLSchema#double</td>\n",
              "      <td>literal</td>\n",
              "      <td>0.597189696</td>\n",
              "    </tr>\n",
              "    <tr>\n",
              "      <th>40</th>\n",
              "      <td>uri</td>\n",
              "      <td>http://nanomine.org/sample/l284-s10-valles-2013</td>\n",
              "      <td>http://www.w3.org/2001/XMLSchema#double</td>\n",
              "      <td>literal</td>\n",
              "      <td>0.05</td>\n",
              "      <td>literal</td>\n",
              "      <td>Graphene oxide</td>\n",
              "      <td>literal</td>\n",
              "      <td>Poly(methyl methacrylate)</td>\n",
              "      <td>http://www.w3.org/2001/XMLSchema#double</td>\n",
              "      <td>literal</td>\n",
              "      <td>132.5058548</td>\n",
              "      <td>http://www.w3.org/2001/XMLSchema#double</td>\n",
              "      <td>literal</td>\n",
              "      <td>0.843091335</td>\n",
              "    </tr>\n",
              "    <tr>\n",
              "      <th>41</th>\n",
              "      <td>uri</td>\n",
              "      <td>http://nanomine.org/sample/l284-s11-valles-2013</td>\n",
              "      <td>http://www.w3.org/2001/XMLSchema#double</td>\n",
              "      <td>literal</td>\n",
              "      <td>0.1</td>\n",
              "      <td>literal</td>\n",
              "      <td>Graphene oxide</td>\n",
              "      <td>literal</td>\n",
              "      <td>Poly(methyl methacrylate)</td>\n",
              "      <td>http://www.w3.org/2001/XMLSchema#double</td>\n",
              "      <td>literal</td>\n",
              "      <td>125.058548</td>\n",
              "      <td>http://www.w3.org/2001/XMLSchema#double</td>\n",
              "      <td>literal</td>\n",
              "      <td>0.948477752</td>\n",
              "    </tr>\n",
              "    <tr>\n",
              "      <th>42</th>\n",
              "      <td>uri</td>\n",
              "      <td>http://nanomine.org/sample/l157-s2-zhao-2008</td>\n",
              "      <td>http://www.w3.org/2001/XMLSchema#double</td>\n",
              "      <td>literal</td>\n",
              "      <td>0.053781741439172186</td>\n",
              "      <td>literal</td>\n",
              "      <td>Aluminium oxide</td>\n",
              "      <td>literal</td>\n",
              "      <td>DGEBA Epoxy Resin</td>\n",
              "      <td>http://www.w3.org/2001/XMLSchema#double</td>\n",
              "      <td>literal</td>\n",
              "      <td>111.0</td>\n",
              "      <td>http://www.w3.org/2001/XMLSchema#double</td>\n",
              "      <td>literal</td>\n",
              "      <td>1.0</td>\n",
              "    </tr>\n",
              "    <tr>\n",
              "      <th>43</th>\n",
              "      <td>uri</td>\n",
              "      <td>http://nanomine.org/sample/l157-s3-zhao-2008</td>\n",
              "      <td>http://www.w3.org/2001/XMLSchema#double</td>\n",
              "      <td>literal</td>\n",
              "      <td>0.1005815577204252</td>\n",
              "      <td>literal</td>\n",
              "      <td>Aluminium oxide</td>\n",
              "      <td>literal</td>\n",
              "      <td>DGEBA Epoxy Resin</td>\n",
              "      <td>http://www.w3.org/2001/XMLSchema#double</td>\n",
              "      <td>literal</td>\n",
              "      <td>112.0</td>\n",
              "      <td>http://www.w3.org/2001/XMLSchema#double</td>\n",
              "      <td>literal</td>\n",
              "      <td>1.0</td>\n",
              "    </tr>\n",
              "    <tr>\n",
              "      <th>44</th>\n",
              "      <td>uri</td>\n",
              "      <td>http://nanomine.org/sample/l157-s4-zhao-2008</td>\n",
              "      <td>http://www.w3.org/2001/XMLSchema#double</td>\n",
              "      <td>literal</td>\n",
              "      <td>0.14423840218461248</td>\n",
              "      <td>literal</td>\n",
              "      <td>Aluminium oxide</td>\n",
              "      <td>literal</td>\n",
              "      <td>DGEBA Epoxy Resin</td>\n",
              "      <td>http://www.w3.org/2001/XMLSchema#double</td>\n",
              "      <td>literal</td>\n",
              "      <td>111.0</td>\n",
              "      <td>http://www.w3.org/2001/XMLSchema#double</td>\n",
              "      <td>literal</td>\n",
              "      <td>1.0</td>\n",
              "    </tr>\n",
              "    <tr>\n",
              "      <th>45</th>\n",
              "      <td>uri</td>\n",
              "      <td>http://nanomine.org/sample/l157-s5-zhao-2008</td>\n",
              "      <td>http://www.w3.org/2001/XMLSchema#double</td>\n",
              "      <td>literal</td>\n",
              "      <td>0.18505860125036483</td>\n",
              "      <td>literal</td>\n",
              "      <td>Aluminium oxide</td>\n",
              "      <td>literal</td>\n",
              "      <td>DGEBA Epoxy Resin</td>\n",
              "      <td>http://www.w3.org/2001/XMLSchema#double</td>\n",
              "      <td>literal</td>\n",
              "      <td>112.0</td>\n",
              "      <td>http://www.w3.org/2001/XMLSchema#double</td>\n",
              "      <td>literal</td>\n",
              "      <td>1.0</td>\n",
              "    </tr>\n",
              "    <tr>\n",
              "      <th>46</th>\n",
              "      <td>uri</td>\n",
              "      <td>http://nanomine.org/sample/l157-s6-zhao-2008</td>\n",
              "      <td>http://www.w3.org/2001/XMLSchema#double</td>\n",
              "      <td>literal</td>\n",
              "      <td>0.053781741439172186</td>\n",
              "      <td>literal</td>\n",
              "      <td>Aluminium oxide</td>\n",
              "      <td>literal</td>\n",
              "      <td>DGEBA Epoxy Resin</td>\n",
              "      <td>http://www.w3.org/2001/XMLSchema#double</td>\n",
              "      <td>literal</td>\n",
              "      <td>110.0</td>\n",
              "      <td>http://www.w3.org/2001/XMLSchema#double</td>\n",
              "      <td>literal</td>\n",
              "      <td>1.0</td>\n",
              "    </tr>\n",
              "    <tr>\n",
              "      <th>47</th>\n",
              "      <td>uri</td>\n",
              "      <td>http://nanomine.org/sample/l157-s7-zhao-2008</td>\n",
              "      <td>http://www.w3.org/2001/XMLSchema#double</td>\n",
              "      <td>literal</td>\n",
              "      <td>0.1005815577204252</td>\n",
              "      <td>literal</td>\n",
              "      <td>Aluminium oxide</td>\n",
              "      <td>literal</td>\n",
              "      <td>DGEBA Epoxy Resin</td>\n",
              "      <td>http://www.w3.org/2001/XMLSchema#double</td>\n",
              "      <td>literal</td>\n",
              "      <td>110.0</td>\n",
              "      <td>http://www.w3.org/2001/XMLSchema#double</td>\n",
              "      <td>literal</td>\n",
              "      <td>1.0</td>\n",
              "    </tr>\n",
              "    <tr>\n",
              "      <th>48</th>\n",
              "      <td>uri</td>\n",
              "      <td>http://nanomine.org/sample/l157-s8-zhao-2008</td>\n",
              "      <td>http://www.w3.org/2001/XMLSchema#double</td>\n",
              "      <td>literal</td>\n",
              "      <td>0.14423840218461248</td>\n",
              "      <td>literal</td>\n",
              "      <td>Aluminium oxide</td>\n",
              "      <td>literal</td>\n",
              "      <td>DGEBA Epoxy Resin</td>\n",
              "      <td>http://www.w3.org/2001/XMLSchema#double</td>\n",
              "      <td>literal</td>\n",
              "      <td>109.0</td>\n",
              "      <td>http://www.w3.org/2001/XMLSchema#double</td>\n",
              "      <td>literal</td>\n",
              "      <td>1.0</td>\n",
              "    </tr>\n",
              "    <tr>\n",
              "      <th>49</th>\n",
              "      <td>uri</td>\n",
              "      <td>http://nanomine.org/sample/l157-s9-zhao-2008</td>\n",
              "      <td>http://www.w3.org/2001/XMLSchema#double</td>\n",
              "      <td>literal</td>\n",
              "      <td>0.18505860125036483</td>\n",
              "      <td>literal</td>\n",
              "      <td>Aluminium oxide</td>\n",
              "      <td>literal</td>\n",
              "      <td>DGEBA Epoxy Resin</td>\n",
              "      <td>http://www.w3.org/2001/XMLSchema#double</td>\n",
              "      <td>literal</td>\n",
              "      <td>101.0</td>\n",
              "      <td>http://www.w3.org/2001/XMLSchema#double</td>\n",
              "      <td>literal</td>\n",
              "      <td>1.0</td>\n",
              "    </tr>\n",
              "  </tbody>\n",
              "</table>\n",
              "</div>"
            ],
            "text/plain": [
              "   sample_type  ... uncertaintyTg_value\n",
              "0          uri  ...                 0.3\n",
              "1          uri  ...                 0.1\n",
              "2          uri  ...                 0.4\n",
              "3          uri  ...                 0.1\n",
              "4          uri  ...                 2.2\n",
              "5          uri  ...            3.978501\n",
              "6          uri  ...            3.389111\n",
              "7          uri  ...            0.294695\n",
              "8          uri  ...            2.136613\n",
              "9          uri  ...                 2.1\n",
              "10         uri  ...                 1.2\n",
              "11         uri  ...                 3.2\n",
              "12         uri  ...                 8.3\n",
              "13         uri  ...                 1.1\n",
              "14         uri  ...                 0.3\n",
              "15         uri  ...                 1.2\n",
              "16         uri  ...                 1.2\n",
              "17         uri  ...                 1.7\n",
              "18         uri  ...                 1.8\n",
              "19         uri  ...            3.536464\n",
              "20         uri  ...             4.19955\n",
              "21         uri  ...            2.320804\n",
              "22         uri  ...            2.541854\n",
              "23         uri  ...            3.094406\n",
              "24         uri  ...         0.948477752\n",
              "25         uri  ...         1.299765808\n",
              "26         uri  ...         4.004683841\n",
              "27         uri  ...                 1.0\n",
              "28         uri  ...                 3.0\n",
              "29         uri  ...                 2.0\n",
              "30         uri  ...                 1.0\n",
              "31         uri  ...                 1.0\n",
              "32         uri  ...                 1.0\n",
              "33         uri  ...                 2.0\n",
              "34         uri  ...                 1.0\n",
              "35         uri  ...                 2.0\n",
              "36         uri  ...                 1.0\n",
              "37         uri  ...         0.316159251\n",
              "38         uri  ...         0.807962529\n",
              "39         uri  ...         0.597189696\n",
              "40         uri  ...         0.843091335\n",
              "41         uri  ...         0.948477752\n",
              "42         uri  ...                 1.0\n",
              "43         uri  ...                 1.0\n",
              "44         uri  ...                 1.0\n",
              "45         uri  ...                 1.0\n",
              "46         uri  ...                 1.0\n",
              "47         uri  ...                 1.0\n",
              "48         uri  ...                 1.0\n",
              "49         uri  ...                 1.0\n",
              "\n",
              "[50 rows x 15 columns]"
            ]
          },
          "metadata": {
            "tags": []
          }
        }
      ]
    },
    {
      "cell_type": "markdown",
      "metadata": {
        "id": "K526nl0uYq6I"
      },
      "source": [
        "#Hyperparemeter Sweep using W&B\n",
        "<img src=\"https://i.imgur.com/gb6B4ig.png\" width=\"400\" alt=\"Weights & Biases\" />\n",
        "\n",
        "<div><img /></div>\n"
      ]
    },
    {
      "cell_type": "markdown",
      "metadata": {
        "id": "FV7k9YuaY25w"
      },
      "source": [
        "Use submission 1 (Q1.results_df)"
      ]
    },
    {
      "cell_type": "code",
      "metadata": {
        "id": "GUFzGsz9VUjj"
      },
      "source": [
        "# Q1.results_df.contains(_value)\n",
        "# mask = Q1.results_df.columns.str.contains(\"_value\")\n",
        "# print(mask or Q1.results_df.columns.to_numpy())\n",
        "# Q1.results_df[mask.tolist()]\n",
        "\n",
        "# df = Q1.results_df.filter(regex='_value')\n",
        "# features = [\"VolFrac_value\", \"Tg_value\", \"controlTg_value\", \"PST_value\", \"matrix_value\", \"sample_value\", \"doi_value\"]\n",
        "# label = \"deltaTg_value\"\n",
        "# X = df[features]\n",
        "# y = df[label]"
      ],
      "execution_count": null,
      "outputs": []
    },
    {
      "cell_type": "code",
      "metadata": {
        "id": "XCvWHYlvsK2R"
      },
      "source": [
        "%%capture\n",
        "!pip install wandb"
      ],
      "execution_count": null,
      "outputs": []
    },
    {
      "cell_type": "code",
      "metadata": {
        "colab": {
          "base_uri": "https://localhost:8080/",
          "height": 69
        },
        "id": "GtMYLC1V9Nv-",
        "outputId": "907e7bce-9515-4c4a-a8a7-3b5d01fe3ad1"
      },
      "source": [
        "import wandb\n",
        "from wandb.keras import WandbCallback\n",
        "from sklearn.svm import SVR\n",
        "from sklearn.model_selection import train_test_split\n",
        "import numpy as np\n",
        "import pandas as pd\n",
        "import matplotlib.pyplot as plt\n",
        "from sklearn.preprocessing import MinMaxScaler\n",
        "\n",
        "wandb.login()"
      ],
      "execution_count": null,
      "outputs": [
        {
          "output_type": "display_data",
          "data": {
            "application/javascript": [
              "\n",
              "        window._wandbApiKey = new Promise((resolve, reject) => {\n",
              "            function loadScript(url) {\n",
              "            return new Promise(function(resolve, reject) {\n",
              "                let newScript = document.createElement(\"script\");\n",
              "                newScript.onerror = reject;\n",
              "                newScript.onload = resolve;\n",
              "                document.body.appendChild(newScript);\n",
              "                newScript.src = url;\n",
              "            });\n",
              "            }\n",
              "            loadScript(\"https://cdn.jsdelivr.net/npm/postmate/build/postmate.min.js\").then(() => {\n",
              "            const iframe = document.createElement('iframe')\n",
              "            iframe.style.cssText = \"width:0;height:0;border:none\"\n",
              "            document.body.appendChild(iframe)\n",
              "            const handshake = new Postmate({\n",
              "                container: iframe,\n",
              "                url: 'https://wandb.ai/authorize'\n",
              "            });\n",
              "            const timeout = setTimeout(() => reject(\"Couldn't auto authenticate\"), 5000)\n",
              "            handshake.then(function(child) {\n",
              "                child.on('authorize', data => {\n",
              "                    clearTimeout(timeout)\n",
              "                    resolve(data)\n",
              "                });\n",
              "            });\n",
              "            })\n",
              "        });\n",
              "    "
            ],
            "text/plain": [
              "<IPython.core.display.Javascript object>"
            ]
          },
          "metadata": {
            "tags": []
          }
        },
        {
          "output_type": "stream",
          "text": [
            "\u001b[34m\u001b[1mwandb\u001b[0m: Appending key for api.wandb.ai to your netrc file: /root/.netrc\n"
          ],
          "name": "stderr"
        },
        {
          "output_type": "execute_result",
          "data": {
            "text/plain": [
              "True"
            ]
          },
          "metadata": {
            "tags": []
          },
          "execution_count": 11
        }
      ]
    },
    {
      "cell_type": "code",
      "metadata": {
        "colab": {
          "base_uri": "https://localhost:8080/",
          "height": 1000
        },
        "id": "V76XyynfbFdh",
        "outputId": "05f42390-d182-489b-a844-69b3529700e4"
      },
      "source": [
        "from sklearn.preprocessing import MinMaxScaler\n",
        "df = Q1.results_df.filter(regex='_value').drop([\"sample_value\", \"doi_value\"], axis=1)\n",
        "df = pd.get_dummies(data=df, dummy_na=True, columns=[\"matrix_value\", \"PST_value\"])\n",
        "\n",
        "\n",
        "display(df)\n",
        "scaler = MinMaxScaler() \n",
        "df.loc[:,:] = scaler.fit_transform(df)\n",
        "display(df)\n",
        "df.loc[:,:] = scaler.inverse_transform(df)\n",
        "display(df)\n",
        "\n",
        "# onehot_transformer = Pipeline(steps=[\n",
        "#                                      ('onehot', pd.get_dummies())\n",
        "# ])\n",
        "\n",
        "# minmax_transformer = Pipeline(steps=[\n",
        "#         ('minmax', MinMaxScaler())])\n",
        "\n",
        "\n",
        "# preprocessor = ColumnTransformer(\n",
        "#         remainder='passthrough', #passthough features not listed\n",
        "#         transformers=[\n",
        "#             ('std', standard_transformer , ['z']),\n",
        "#             ('mm', minmax_transformer , ['x','y'])\n",
        "#         ])"
      ],
      "execution_count": null,
      "outputs": [
        {
          "output_type": "display_data",
          "data": {
            "text/html": [
              "<div>\n",
              "<style scoped>\n",
              "    .dataframe tbody tr th:only-of-type {\n",
              "        vertical-align: middle;\n",
              "    }\n",
              "\n",
              "    .dataframe tbody tr th {\n",
              "        vertical-align: top;\n",
              "    }\n",
              "\n",
              "    .dataframe thead th {\n",
              "        text-align: right;\n",
              "    }\n",
              "</style>\n",
              "<table border=\"1\" class=\"dataframe\">\n",
              "  <thead>\n",
              "    <tr style=\"text-align: right;\">\n",
              "      <th></th>\n",
              "      <th>VolFrac_value</th>\n",
              "      <th>Tg_value</th>\n",
              "      <th>controlTg_value</th>\n",
              "      <th>deltaTg_value</th>\n",
              "      <th>matrix_value_nylon 6(3)t</th>\n",
              "      <th>matrix_value_poly(ethylene terephthalate)</th>\n",
              "      <th>matrix_value_poly(methyl methacrylate)</th>\n",
              "      <th>matrix_value_poly(vinyl alcohol)</th>\n",
              "      <th>matrix_value_poly(vinyl butyral)</th>\n",
              "      <th>matrix_value_polyamide-imide</th>\n",
              "      <th>matrix_value_polybenzimidazole</th>\n",
              "      <th>matrix_value_polyimide</th>\n",
              "      <th>matrix_value_polystyrene</th>\n",
              "      <th>matrix_value_polyurethane</th>\n",
              "      <th>matrix_value_nan</th>\n",
              "      <th>PST_value_polystyrene</th>\n",
              "      <th>PST_value_nan</th>\n",
              "    </tr>\n",
              "  </thead>\n",
              "  <tbody>\n",
              "    <tr>\n",
              "      <th>0</th>\n",
              "      <td>0.0019682431537311456</td>\n",
              "      <td>101.809195</td>\n",
              "      <td>101.0</td>\n",
              "      <td>0.8091950000000026</td>\n",
              "      <td>0</td>\n",
              "      <td>0</td>\n",
              "      <td>0</td>\n",
              "      <td>0</td>\n",
              "      <td>0</td>\n",
              "      <td>0</td>\n",
              "      <td>0</td>\n",
              "      <td>0</td>\n",
              "      <td>1</td>\n",
              "      <td>0</td>\n",
              "      <td>0</td>\n",
              "      <td>1</td>\n",
              "      <td>0</td>\n",
              "    </tr>\n",
              "    <tr>\n",
              "      <th>1</th>\n",
              "      <td>0.007945603178241271</td>\n",
              "      <td>102.9954</td>\n",
              "      <td>101.0</td>\n",
              "      <td>1.9954000000000036</td>\n",
              "      <td>0</td>\n",
              "      <td>0</td>\n",
              "      <td>0</td>\n",
              "      <td>0</td>\n",
              "      <td>0</td>\n",
              "      <td>0</td>\n",
              "      <td>0</td>\n",
              "      <td>0</td>\n",
              "      <td>1</td>\n",
              "      <td>0</td>\n",
              "      <td>0</td>\n",
              "      <td>1</td>\n",
              "      <td>0</td>\n",
              "    </tr>\n",
              "    <tr>\n",
              "      <th>2</th>\n",
              "      <td>0.020237400272426546</td>\n",
              "      <td>105.17471</td>\n",
              "      <td>101.0</td>\n",
              "      <td>4.174710000000005</td>\n",
              "      <td>0</td>\n",
              "      <td>0</td>\n",
              "      <td>0</td>\n",
              "      <td>0</td>\n",
              "      <td>0</td>\n",
              "      <td>0</td>\n",
              "      <td>0</td>\n",
              "      <td>0</td>\n",
              "      <td>1</td>\n",
              "      <td>0</td>\n",
              "      <td>0</td>\n",
              "      <td>1</td>\n",
              "      <td>0</td>\n",
              "    </tr>\n",
              "    <tr>\n",
              "      <th>3</th>\n",
              "      <td>0.0019682431537311456</td>\n",
              "      <td>101.0</td>\n",
              "      <td>101.0</td>\n",
              "      <td>0.0</td>\n",
              "      <td>0</td>\n",
              "      <td>0</td>\n",
              "      <td>0</td>\n",
              "      <td>0</td>\n",
              "      <td>0</td>\n",
              "      <td>0</td>\n",
              "      <td>0</td>\n",
              "      <td>0</td>\n",
              "      <td>1</td>\n",
              "      <td>0</td>\n",
              "      <td>0</td>\n",
              "      <td>1</td>\n",
              "      <td>0</td>\n",
              "    </tr>\n",
              "    <tr>\n",
              "      <th>4</th>\n",
              "      <td>0.007945603178241271</td>\n",
              "      <td>101.0</td>\n",
              "      <td>101.0</td>\n",
              "      <td>0.0</td>\n",
              "      <td>0</td>\n",
              "      <td>0</td>\n",
              "      <td>0</td>\n",
              "      <td>0</td>\n",
              "      <td>0</td>\n",
              "      <td>0</td>\n",
              "      <td>0</td>\n",
              "      <td>0</td>\n",
              "      <td>1</td>\n",
              "      <td>0</td>\n",
              "      <td>0</td>\n",
              "      <td>1</td>\n",
              "      <td>0</td>\n",
              "    </tr>\n",
              "    <tr>\n",
              "      <th>...</th>\n",
              "      <td>...</td>\n",
              "      <td>...</td>\n",
              "      <td>...</td>\n",
              "      <td>...</td>\n",
              "      <td>...</td>\n",
              "      <td>...</td>\n",
              "      <td>...</td>\n",
              "      <td>...</td>\n",
              "      <td>...</td>\n",
              "      <td>...</td>\n",
              "      <td>...</td>\n",
              "      <td>...</td>\n",
              "      <td>...</td>\n",
              "      <td>...</td>\n",
              "      <td>...</td>\n",
              "      <td>...</td>\n",
              "      <td>...</td>\n",
              "    </tr>\n",
              "    <tr>\n",
              "      <th>167</th>\n",
              "      <td>0.022330097087378643</td>\n",
              "      <td>92.5</td>\n",
              "      <td>74.1</td>\n",
              "      <td>18.400000000000006</td>\n",
              "      <td>0</td>\n",
              "      <td>0</td>\n",
              "      <td>1</td>\n",
              "      <td>0</td>\n",
              "      <td>0</td>\n",
              "      <td>0</td>\n",
              "      <td>0</td>\n",
              "      <td>0</td>\n",
              "      <td>0</td>\n",
              "      <td>0</td>\n",
              "      <td>0</td>\n",
              "      <td>0</td>\n",
              "      <td>1</td>\n",
              "    </tr>\n",
              "    <tr>\n",
              "      <th>168</th>\n",
              "      <td>0.03163064833005894</td>\n",
              "      <td>92.3</td>\n",
              "      <td>76.9</td>\n",
              "      <td>15.399999999999991</td>\n",
              "      <td>0</td>\n",
              "      <td>0</td>\n",
              "      <td>1</td>\n",
              "      <td>0</td>\n",
              "      <td>0</td>\n",
              "      <td>0</td>\n",
              "      <td>0</td>\n",
              "      <td>0</td>\n",
              "      <td>0</td>\n",
              "      <td>0</td>\n",
              "      <td>0</td>\n",
              "      <td>0</td>\n",
              "      <td>1</td>\n",
              "    </tr>\n",
              "    <tr>\n",
              "      <th>169</th>\n",
              "      <td>0.03163064833005894</td>\n",
              "      <td>92.3</td>\n",
              "      <td>74.1</td>\n",
              "      <td>18.200000000000003</td>\n",
              "      <td>0</td>\n",
              "      <td>0</td>\n",
              "      <td>1</td>\n",
              "      <td>0</td>\n",
              "      <td>0</td>\n",
              "      <td>0</td>\n",
              "      <td>0</td>\n",
              "      <td>0</td>\n",
              "      <td>0</td>\n",
              "      <td>0</td>\n",
              "      <td>0</td>\n",
              "      <td>0</td>\n",
              "      <td>1</td>\n",
              "    </tr>\n",
              "    <tr>\n",
              "      <th>170</th>\n",
              "      <td>0.03163064833005894</td>\n",
              "      <td>94.4</td>\n",
              "      <td>74.1</td>\n",
              "      <td>20.30000000000001</td>\n",
              "      <td>0</td>\n",
              "      <td>0</td>\n",
              "      <td>1</td>\n",
              "      <td>0</td>\n",
              "      <td>0</td>\n",
              "      <td>0</td>\n",
              "      <td>0</td>\n",
              "      <td>0</td>\n",
              "      <td>0</td>\n",
              "      <td>0</td>\n",
              "      <td>0</td>\n",
              "      <td>0</td>\n",
              "      <td>1</td>\n",
              "    </tr>\n",
              "    <tr>\n",
              "      <th>171</th>\n",
              "      <td>0.03163064833005894</td>\n",
              "      <td>94.4</td>\n",
              "      <td>76.9</td>\n",
              "      <td>17.5</td>\n",
              "      <td>0</td>\n",
              "      <td>0</td>\n",
              "      <td>1</td>\n",
              "      <td>0</td>\n",
              "      <td>0</td>\n",
              "      <td>0</td>\n",
              "      <td>0</td>\n",
              "      <td>0</td>\n",
              "      <td>0</td>\n",
              "      <td>0</td>\n",
              "      <td>0</td>\n",
              "      <td>0</td>\n",
              "      <td>1</td>\n",
              "    </tr>\n",
              "  </tbody>\n",
              "</table>\n",
              "<p>145 rows × 17 columns</p>\n",
              "</div>"
            ],
            "text/plain": [
              "             VolFrac_value    Tg_value  ... PST_value_polystyrene PST_value_nan\n",
              "0    0.0019682431537311456  101.809195  ...                     1             0\n",
              "1     0.007945603178241271    102.9954  ...                     1             0\n",
              "2     0.020237400272426546   105.17471  ...                     1             0\n",
              "3    0.0019682431537311456       101.0  ...                     1             0\n",
              "4     0.007945603178241271       101.0  ...                     1             0\n",
              "..                     ...         ...  ...                   ...           ...\n",
              "167   0.022330097087378643        92.5  ...                     0             1\n",
              "168    0.03163064833005894        92.3  ...                     0             1\n",
              "169    0.03163064833005894        92.3  ...                     0             1\n",
              "170    0.03163064833005894        94.4  ...                     0             1\n",
              "171    0.03163064833005894        94.4  ...                     0             1\n",
              "\n",
              "[145 rows x 17 columns]"
            ]
          },
          "metadata": {
            "tags": []
          }
        },
        {
          "output_type": "display_data",
          "data": {
            "text/html": [
              "<div>\n",
              "<style scoped>\n",
              "    .dataframe tbody tr th:only-of-type {\n",
              "        vertical-align: middle;\n",
              "    }\n",
              "\n",
              "    .dataframe tbody tr th {\n",
              "        vertical-align: top;\n",
              "    }\n",
              "\n",
              "    .dataframe thead th {\n",
              "        text-align: right;\n",
              "    }\n",
              "</style>\n",
              "<table border=\"1\" class=\"dataframe\">\n",
              "  <thead>\n",
              "    <tr style=\"text-align: right;\">\n",
              "      <th></th>\n",
              "      <th>VolFrac_value</th>\n",
              "      <th>Tg_value</th>\n",
              "      <th>controlTg_value</th>\n",
              "      <th>deltaTg_value</th>\n",
              "      <th>matrix_value_nylon 6(3)t</th>\n",
              "      <th>matrix_value_poly(ethylene terephthalate)</th>\n",
              "      <th>matrix_value_poly(methyl methacrylate)</th>\n",
              "      <th>matrix_value_poly(vinyl alcohol)</th>\n",
              "      <th>matrix_value_poly(vinyl butyral)</th>\n",
              "      <th>matrix_value_polyamide-imide</th>\n",
              "      <th>matrix_value_polybenzimidazole</th>\n",
              "      <th>matrix_value_polyimide</th>\n",
              "      <th>matrix_value_polystyrene</th>\n",
              "      <th>matrix_value_polyurethane</th>\n",
              "      <th>matrix_value_nan</th>\n",
              "      <th>PST_value_polystyrene</th>\n",
              "      <th>PST_value_nan</th>\n",
              "    </tr>\n",
              "  </thead>\n",
              "  <tbody>\n",
              "    <tr>\n",
              "      <th>0</th>\n",
              "      <td>0.002190</td>\n",
              "      <td>0.218614</td>\n",
              "      <td>0.237978</td>\n",
              "      <td>0.374196</td>\n",
              "      <td>0.0</td>\n",
              "      <td>0.0</td>\n",
              "      <td>0.0</td>\n",
              "      <td>0.0</td>\n",
              "      <td>0.0</td>\n",
              "      <td>0.0</td>\n",
              "      <td>0.0</td>\n",
              "      <td>0.0</td>\n",
              "      <td>1.0</td>\n",
              "      <td>0.0</td>\n",
              "      <td>0.0</td>\n",
              "      <td>1.0</td>\n",
              "      <td>0.0</td>\n",
              "    </tr>\n",
              "    <tr>\n",
              "      <th>1</th>\n",
              "      <td>0.021337</td>\n",
              "      <td>0.221583</td>\n",
              "      <td>0.237978</td>\n",
              "      <td>0.392087</td>\n",
              "      <td>0.0</td>\n",
              "      <td>0.0</td>\n",
              "      <td>0.0</td>\n",
              "      <td>0.0</td>\n",
              "      <td>0.0</td>\n",
              "      <td>0.0</td>\n",
              "      <td>0.0</td>\n",
              "      <td>0.0</td>\n",
              "      <td>1.0</td>\n",
              "      <td>0.0</td>\n",
              "      <td>0.0</td>\n",
              "      <td>1.0</td>\n",
              "      <td>0.0</td>\n",
              "    </tr>\n",
              "    <tr>\n",
              "      <th>2</th>\n",
              "      <td>0.060710</td>\n",
              "      <td>0.227037</td>\n",
              "      <td>0.237978</td>\n",
              "      <td>0.424958</td>\n",
              "      <td>0.0</td>\n",
              "      <td>0.0</td>\n",
              "      <td>0.0</td>\n",
              "      <td>0.0</td>\n",
              "      <td>0.0</td>\n",
              "      <td>0.0</td>\n",
              "      <td>0.0</td>\n",
              "      <td>0.0</td>\n",
              "      <td>1.0</td>\n",
              "      <td>0.0</td>\n",
              "      <td>0.0</td>\n",
              "      <td>1.0</td>\n",
              "      <td>0.0</td>\n",
              "    </tr>\n",
              "    <tr>\n",
              "      <th>3</th>\n",
              "      <td>0.002190</td>\n",
              "      <td>0.216588</td>\n",
              "      <td>0.237978</td>\n",
              "      <td>0.361991</td>\n",
              "      <td>0.0</td>\n",
              "      <td>0.0</td>\n",
              "      <td>0.0</td>\n",
              "      <td>0.0</td>\n",
              "      <td>0.0</td>\n",
              "      <td>0.0</td>\n",
              "      <td>0.0</td>\n",
              "      <td>0.0</td>\n",
              "      <td>1.0</td>\n",
              "      <td>0.0</td>\n",
              "      <td>0.0</td>\n",
              "      <td>1.0</td>\n",
              "      <td>0.0</td>\n",
              "    </tr>\n",
              "    <tr>\n",
              "      <th>4</th>\n",
              "      <td>0.021337</td>\n",
              "      <td>0.216588</td>\n",
              "      <td>0.237978</td>\n",
              "      <td>0.361991</td>\n",
              "      <td>0.0</td>\n",
              "      <td>0.0</td>\n",
              "      <td>0.0</td>\n",
              "      <td>0.0</td>\n",
              "      <td>0.0</td>\n",
              "      <td>0.0</td>\n",
              "      <td>0.0</td>\n",
              "      <td>0.0</td>\n",
              "      <td>1.0</td>\n",
              "      <td>0.0</td>\n",
              "      <td>0.0</td>\n",
              "      <td>1.0</td>\n",
              "      <td>0.0</td>\n",
              "    </tr>\n",
              "    <tr>\n",
              "      <th>...</th>\n",
              "      <td>...</td>\n",
              "      <td>...</td>\n",
              "      <td>...</td>\n",
              "      <td>...</td>\n",
              "      <td>...</td>\n",
              "      <td>...</td>\n",
              "      <td>...</td>\n",
              "      <td>...</td>\n",
              "      <td>...</td>\n",
              "      <td>...</td>\n",
              "      <td>...</td>\n",
              "      <td>...</td>\n",
              "      <td>...</td>\n",
              "      <td>...</td>\n",
              "      <td>...</td>\n",
              "      <td>...</td>\n",
              "      <td>...</td>\n",
              "    </tr>\n",
              "    <tr>\n",
              "      <th>167</th>\n",
              "      <td>0.067413</td>\n",
              "      <td>0.195313</td>\n",
              "      <td>0.166053</td>\n",
              "      <td>0.639517</td>\n",
              "      <td>0.0</td>\n",
              "      <td>0.0</td>\n",
              "      <td>1.0</td>\n",
              "      <td>0.0</td>\n",
              "      <td>0.0</td>\n",
              "      <td>0.0</td>\n",
              "      <td>0.0</td>\n",
              "      <td>0.0</td>\n",
              "      <td>0.0</td>\n",
              "      <td>0.0</td>\n",
              "      <td>0.0</td>\n",
              "      <td>0.0</td>\n",
              "      <td>1.0</td>\n",
              "    </tr>\n",
              "    <tr>\n",
              "      <th>168</th>\n",
              "      <td>0.097205</td>\n",
              "      <td>0.194813</td>\n",
              "      <td>0.173540</td>\n",
              "      <td>0.594268</td>\n",
              "      <td>0.0</td>\n",
              "      <td>0.0</td>\n",
              "      <td>1.0</td>\n",
              "      <td>0.0</td>\n",
              "      <td>0.0</td>\n",
              "      <td>0.0</td>\n",
              "      <td>0.0</td>\n",
              "      <td>0.0</td>\n",
              "      <td>0.0</td>\n",
              "      <td>0.0</td>\n",
              "      <td>0.0</td>\n",
              "      <td>0.0</td>\n",
              "      <td>1.0</td>\n",
              "    </tr>\n",
              "    <tr>\n",
              "      <th>169</th>\n",
              "      <td>0.097205</td>\n",
              "      <td>0.194813</td>\n",
              "      <td>0.166053</td>\n",
              "      <td>0.636501</td>\n",
              "      <td>0.0</td>\n",
              "      <td>0.0</td>\n",
              "      <td>1.0</td>\n",
              "      <td>0.0</td>\n",
              "      <td>0.0</td>\n",
              "      <td>0.0</td>\n",
              "      <td>0.0</td>\n",
              "      <td>0.0</td>\n",
              "      <td>0.0</td>\n",
              "      <td>0.0</td>\n",
              "      <td>0.0</td>\n",
              "      <td>0.0</td>\n",
              "      <td>1.0</td>\n",
              "    </tr>\n",
              "    <tr>\n",
              "      <th>170</th>\n",
              "      <td>0.097205</td>\n",
              "      <td>0.200069</td>\n",
              "      <td>0.166053</td>\n",
              "      <td>0.668175</td>\n",
              "      <td>0.0</td>\n",
              "      <td>0.0</td>\n",
              "      <td>1.0</td>\n",
              "      <td>0.0</td>\n",
              "      <td>0.0</td>\n",
              "      <td>0.0</td>\n",
              "      <td>0.0</td>\n",
              "      <td>0.0</td>\n",
              "      <td>0.0</td>\n",
              "      <td>0.0</td>\n",
              "      <td>0.0</td>\n",
              "      <td>0.0</td>\n",
              "      <td>1.0</td>\n",
              "    </tr>\n",
              "    <tr>\n",
              "      <th>171</th>\n",
              "      <td>0.097205</td>\n",
              "      <td>0.200069</td>\n",
              "      <td>0.173540</td>\n",
              "      <td>0.625943</td>\n",
              "      <td>0.0</td>\n",
              "      <td>0.0</td>\n",
              "      <td>1.0</td>\n",
              "      <td>0.0</td>\n",
              "      <td>0.0</td>\n",
              "      <td>0.0</td>\n",
              "      <td>0.0</td>\n",
              "      <td>0.0</td>\n",
              "      <td>0.0</td>\n",
              "      <td>0.0</td>\n",
              "      <td>0.0</td>\n",
              "      <td>0.0</td>\n",
              "      <td>1.0</td>\n",
              "    </tr>\n",
              "  </tbody>\n",
              "</table>\n",
              "<p>145 rows × 17 columns</p>\n",
              "</div>"
            ],
            "text/plain": [
              "     VolFrac_value  Tg_value  ...  PST_value_polystyrene  PST_value_nan\n",
              "0         0.002190  0.218614  ...                    1.0            0.0\n",
              "1         0.021337  0.221583  ...                    1.0            0.0\n",
              "2         0.060710  0.227037  ...                    1.0            0.0\n",
              "3         0.002190  0.216588  ...                    1.0            0.0\n",
              "4         0.021337  0.216588  ...                    1.0            0.0\n",
              "..             ...       ...  ...                    ...            ...\n",
              "167       0.067413  0.195313  ...                    0.0            1.0\n",
              "168       0.097205  0.194813  ...                    0.0            1.0\n",
              "169       0.097205  0.194813  ...                    0.0            1.0\n",
              "170       0.097205  0.200069  ...                    0.0            1.0\n",
              "171       0.097205  0.200069  ...                    0.0            1.0\n",
              "\n",
              "[145 rows x 17 columns]"
            ]
          },
          "metadata": {
            "tags": []
          }
        },
        {
          "output_type": "display_data",
          "data": {
            "text/html": [
              "<div>\n",
              "<style scoped>\n",
              "    .dataframe tbody tr th:only-of-type {\n",
              "        vertical-align: middle;\n",
              "    }\n",
              "\n",
              "    .dataframe tbody tr th {\n",
              "        vertical-align: top;\n",
              "    }\n",
              "\n",
              "    .dataframe thead th {\n",
              "        text-align: right;\n",
              "    }\n",
              "</style>\n",
              "<table border=\"1\" class=\"dataframe\">\n",
              "  <thead>\n",
              "    <tr style=\"text-align: right;\">\n",
              "      <th></th>\n",
              "      <th>VolFrac_value</th>\n",
              "      <th>Tg_value</th>\n",
              "      <th>controlTg_value</th>\n",
              "      <th>deltaTg_value</th>\n",
              "      <th>matrix_value_nylon 6(3)t</th>\n",
              "      <th>matrix_value_poly(ethylene terephthalate)</th>\n",
              "      <th>matrix_value_poly(methyl methacrylate)</th>\n",
              "      <th>matrix_value_poly(vinyl alcohol)</th>\n",
              "      <th>matrix_value_poly(vinyl butyral)</th>\n",
              "      <th>matrix_value_polyamide-imide</th>\n",
              "      <th>matrix_value_polybenzimidazole</th>\n",
              "      <th>matrix_value_polyimide</th>\n",
              "      <th>matrix_value_polystyrene</th>\n",
              "      <th>matrix_value_polyurethane</th>\n",
              "      <th>matrix_value_nan</th>\n",
              "      <th>PST_value_polystyrene</th>\n",
              "      <th>PST_value_nan</th>\n",
              "    </tr>\n",
              "  </thead>\n",
              "  <tbody>\n",
              "    <tr>\n",
              "      <th>0</th>\n",
              "      <td>0.001968</td>\n",
              "      <td>101.809195</td>\n",
              "      <td>101.0</td>\n",
              "      <td>0.809195</td>\n",
              "      <td>0.0</td>\n",
              "      <td>0.0</td>\n",
              "      <td>0.0</td>\n",
              "      <td>0.0</td>\n",
              "      <td>0.0</td>\n",
              "      <td>0.0</td>\n",
              "      <td>0.0</td>\n",
              "      <td>0.0</td>\n",
              "      <td>1.0</td>\n",
              "      <td>0.0</td>\n",
              "      <td>0.0</td>\n",
              "      <td>1.0</td>\n",
              "      <td>0.0</td>\n",
              "    </tr>\n",
              "    <tr>\n",
              "      <th>1</th>\n",
              "      <td>0.007946</td>\n",
              "      <td>102.995400</td>\n",
              "      <td>101.0</td>\n",
              "      <td>1.995400</td>\n",
              "      <td>0.0</td>\n",
              "      <td>0.0</td>\n",
              "      <td>0.0</td>\n",
              "      <td>0.0</td>\n",
              "      <td>0.0</td>\n",
              "      <td>0.0</td>\n",
              "      <td>0.0</td>\n",
              "      <td>0.0</td>\n",
              "      <td>1.0</td>\n",
              "      <td>0.0</td>\n",
              "      <td>0.0</td>\n",
              "      <td>1.0</td>\n",
              "      <td>0.0</td>\n",
              "    </tr>\n",
              "    <tr>\n",
              "      <th>2</th>\n",
              "      <td>0.020237</td>\n",
              "      <td>105.174710</td>\n",
              "      <td>101.0</td>\n",
              "      <td>4.174710</td>\n",
              "      <td>0.0</td>\n",
              "      <td>0.0</td>\n",
              "      <td>0.0</td>\n",
              "      <td>0.0</td>\n",
              "      <td>0.0</td>\n",
              "      <td>0.0</td>\n",
              "      <td>0.0</td>\n",
              "      <td>0.0</td>\n",
              "      <td>1.0</td>\n",
              "      <td>0.0</td>\n",
              "      <td>0.0</td>\n",
              "      <td>1.0</td>\n",
              "      <td>0.0</td>\n",
              "    </tr>\n",
              "    <tr>\n",
              "      <th>3</th>\n",
              "      <td>0.001968</td>\n",
              "      <td>101.000000</td>\n",
              "      <td>101.0</td>\n",
              "      <td>0.000000</td>\n",
              "      <td>0.0</td>\n",
              "      <td>0.0</td>\n",
              "      <td>0.0</td>\n",
              "      <td>0.0</td>\n",
              "      <td>0.0</td>\n",
              "      <td>0.0</td>\n",
              "      <td>0.0</td>\n",
              "      <td>0.0</td>\n",
              "      <td>1.0</td>\n",
              "      <td>0.0</td>\n",
              "      <td>0.0</td>\n",
              "      <td>1.0</td>\n",
              "      <td>0.0</td>\n",
              "    </tr>\n",
              "    <tr>\n",
              "      <th>4</th>\n",
              "      <td>0.007946</td>\n",
              "      <td>101.000000</td>\n",
              "      <td>101.0</td>\n",
              "      <td>0.000000</td>\n",
              "      <td>0.0</td>\n",
              "      <td>0.0</td>\n",
              "      <td>0.0</td>\n",
              "      <td>0.0</td>\n",
              "      <td>0.0</td>\n",
              "      <td>0.0</td>\n",
              "      <td>0.0</td>\n",
              "      <td>0.0</td>\n",
              "      <td>1.0</td>\n",
              "      <td>0.0</td>\n",
              "      <td>0.0</td>\n",
              "      <td>1.0</td>\n",
              "      <td>0.0</td>\n",
              "    </tr>\n",
              "    <tr>\n",
              "      <th>...</th>\n",
              "      <td>...</td>\n",
              "      <td>...</td>\n",
              "      <td>...</td>\n",
              "      <td>...</td>\n",
              "      <td>...</td>\n",
              "      <td>...</td>\n",
              "      <td>...</td>\n",
              "      <td>...</td>\n",
              "      <td>...</td>\n",
              "      <td>...</td>\n",
              "      <td>...</td>\n",
              "      <td>...</td>\n",
              "      <td>...</td>\n",
              "      <td>...</td>\n",
              "      <td>...</td>\n",
              "      <td>...</td>\n",
              "      <td>...</td>\n",
              "    </tr>\n",
              "    <tr>\n",
              "      <th>167</th>\n",
              "      <td>0.022330</td>\n",
              "      <td>92.500000</td>\n",
              "      <td>74.1</td>\n",
              "      <td>18.400000</td>\n",
              "      <td>0.0</td>\n",
              "      <td>0.0</td>\n",
              "      <td>1.0</td>\n",
              "      <td>0.0</td>\n",
              "      <td>0.0</td>\n",
              "      <td>0.0</td>\n",
              "      <td>0.0</td>\n",
              "      <td>0.0</td>\n",
              "      <td>0.0</td>\n",
              "      <td>0.0</td>\n",
              "      <td>0.0</td>\n",
              "      <td>0.0</td>\n",
              "      <td>1.0</td>\n",
              "    </tr>\n",
              "    <tr>\n",
              "      <th>168</th>\n",
              "      <td>0.031631</td>\n",
              "      <td>92.300000</td>\n",
              "      <td>76.9</td>\n",
              "      <td>15.400000</td>\n",
              "      <td>0.0</td>\n",
              "      <td>0.0</td>\n",
              "      <td>1.0</td>\n",
              "      <td>0.0</td>\n",
              "      <td>0.0</td>\n",
              "      <td>0.0</td>\n",
              "      <td>0.0</td>\n",
              "      <td>0.0</td>\n",
              "      <td>0.0</td>\n",
              "      <td>0.0</td>\n",
              "      <td>0.0</td>\n",
              "      <td>0.0</td>\n",
              "      <td>1.0</td>\n",
              "    </tr>\n",
              "    <tr>\n",
              "      <th>169</th>\n",
              "      <td>0.031631</td>\n",
              "      <td>92.300000</td>\n",
              "      <td>74.1</td>\n",
              "      <td>18.200000</td>\n",
              "      <td>0.0</td>\n",
              "      <td>0.0</td>\n",
              "      <td>1.0</td>\n",
              "      <td>0.0</td>\n",
              "      <td>0.0</td>\n",
              "      <td>0.0</td>\n",
              "      <td>0.0</td>\n",
              "      <td>0.0</td>\n",
              "      <td>0.0</td>\n",
              "      <td>0.0</td>\n",
              "      <td>0.0</td>\n",
              "      <td>0.0</td>\n",
              "      <td>1.0</td>\n",
              "    </tr>\n",
              "    <tr>\n",
              "      <th>170</th>\n",
              "      <td>0.031631</td>\n",
              "      <td>94.400000</td>\n",
              "      <td>74.1</td>\n",
              "      <td>20.300000</td>\n",
              "      <td>0.0</td>\n",
              "      <td>0.0</td>\n",
              "      <td>1.0</td>\n",
              "      <td>0.0</td>\n",
              "      <td>0.0</td>\n",
              "      <td>0.0</td>\n",
              "      <td>0.0</td>\n",
              "      <td>0.0</td>\n",
              "      <td>0.0</td>\n",
              "      <td>0.0</td>\n",
              "      <td>0.0</td>\n",
              "      <td>0.0</td>\n",
              "      <td>1.0</td>\n",
              "    </tr>\n",
              "    <tr>\n",
              "      <th>171</th>\n",
              "      <td>0.031631</td>\n",
              "      <td>94.400000</td>\n",
              "      <td>76.9</td>\n",
              "      <td>17.500000</td>\n",
              "      <td>0.0</td>\n",
              "      <td>0.0</td>\n",
              "      <td>1.0</td>\n",
              "      <td>0.0</td>\n",
              "      <td>0.0</td>\n",
              "      <td>0.0</td>\n",
              "      <td>0.0</td>\n",
              "      <td>0.0</td>\n",
              "      <td>0.0</td>\n",
              "      <td>0.0</td>\n",
              "      <td>0.0</td>\n",
              "      <td>0.0</td>\n",
              "      <td>1.0</td>\n",
              "    </tr>\n",
              "  </tbody>\n",
              "</table>\n",
              "<p>145 rows × 17 columns</p>\n",
              "</div>"
            ],
            "text/plain": [
              "     VolFrac_value    Tg_value  ...  PST_value_polystyrene  PST_value_nan\n",
              "0         0.001968  101.809195  ...                    1.0            0.0\n",
              "1         0.007946  102.995400  ...                    1.0            0.0\n",
              "2         0.020237  105.174710  ...                    1.0            0.0\n",
              "3         0.001968  101.000000  ...                    1.0            0.0\n",
              "4         0.007946  101.000000  ...                    1.0            0.0\n",
              "..             ...         ...  ...                    ...            ...\n",
              "167       0.022330   92.500000  ...                    0.0            1.0\n",
              "168       0.031631   92.300000  ...                    0.0            1.0\n",
              "169       0.031631   92.300000  ...                    0.0            1.0\n",
              "170       0.031631   94.400000  ...                    0.0            1.0\n",
              "171       0.031631   94.400000  ...                    0.0            1.0\n",
              "\n",
              "[145 rows x 17 columns]"
            ]
          },
          "metadata": {
            "tags": []
          }
        }
      ]
    },
    {
      "cell_type": "code",
      "metadata": {
        "id": "kGLVhPKo9tnv"
      },
      "source": [
        "def train():\n",
        "    # Specify the hyperparameter to be tuned along with\n",
        "    # an initial value\n",
        "    config_defaults = {\n",
        "        'C': 1,\n",
        "        'kernel': 'rbf',\n",
        "        'degree': 3\n",
        "    }\n",
        "\n",
        "    # Initialize wandb with a sample project name\n",
        "    wandb.init(config=config_defaults, resume=True)\n",
        "    wandb.mark_preempting()\n",
        "\n",
        "    # Load data and prepare\n",
        "    df = Q1.results_df.filter(regex='_value').drop([\"sample_value\", \"doi_value\"], axis=1)\n",
        "    \n",
        "    df = pd.get_dummies(data=df, dummy_na=True, columns=[\"matrix_value\", \"PST_value\"])\n",
        "    # feature_names = [\"VolFrac_value\", \"Tg_value\", \"controlTg_value\", \"PST_value\", \"matrix_value\", \"sample_value\", \"doi_value\"]\n",
        "    scaler = MinMaxScaler() \n",
        "    df.loc[:,:] = scaler.fit_transform(df)\n",
        "\n",
        "    label = \"deltaTg_value\"\n",
        "    \n",
        "    y = df[label]\n",
        "    X = df.drop(label, axis=1)\n",
        "    # display(X)\n",
        "    \n",
        "\n",
        "    X_train, X_test, y_train, y_test = train_test_split(X, y, \n",
        "                                                        test_size=0.2,\n",
        "                                                        random_state=42)\n",
        "\n",
        "    # initialize support vector classifier using configs\n",
        "    clf = SVR(C=wandb.config.C,\n",
        "                kernel=wandb.config.kernel,\n",
        "                degree=wandb.config.degree)\n",
        "      \n",
        "    # train and get predictions\n",
        "    clf.fit(X_train, y_train)\n",
        "    y_pred = clf.predict(X_test)\n",
        "    # y_probas = clf.predict_proba(X_test)\n",
        "    \n",
        "    # log metrics\n",
        "    wandb.log({'train_score': clf.score(X_train, y_train),\n",
        "              'test_score': clf.score(X_test, y_test)})"
      ],
      "execution_count": null,
      "outputs": []
    },
    {
      "cell_type": "code",
      "metadata": {
        "id": "F6_GjoV0OwbB"
      },
      "source": [
        "# df = Q1.results_df.filter(regex='_value')\n",
        "# df2 = pd.get_dummies(data=df, dummy_na=True)\n",
        "# df2"
      ],
      "execution_count": null,
      "outputs": []
    },
    {
      "cell_type": "code",
      "metadata": {
        "id": "gbGt9RgMFsYA"
      },
      "source": [
        "sweep_config = {\n",
        "  'method': 'random', \n",
        "  'metric': {\n",
        "      'name': 'test_score',\n",
        "      'goal': 'maximize'\n",
        "  },\n",
        "  'parameters': {\n",
        "      'C': {\n",
        "          'values': [0.2, 0.5, 1., 1.5, 2]\n",
        "      },\n",
        "      'kernel':{\n",
        "          'values': ['linear', 'poly', 'rbf', 'sigmoid']\n",
        "      },\n",
        "      'degree':{\n",
        "          'values': [2, 3, 5, 7, 9]\n",
        "      }\n",
        "  }\n",
        "}"
      ],
      "execution_count": null,
      "outputs": []
    },
    {
      "cell_type": "code",
      "metadata": {
        "colab": {
          "base_uri": "https://localhost:8080/"
        },
        "id": "Ho8wYutXGA6q",
        "outputId": "ad872a29-a5af-4001-f088-11c9b1ca8f44"
      },
      "source": [
        "sweep_id = wandb.sweep(sweep_config, project=\"my-scikit-sweep-random\")"
      ],
      "execution_count": null,
      "outputs": [
        {
          "output_type": "stream",
          "text": [
            "Create sweep with ID: tdfq09os\n",
            "Sweep URL: https://wandb.ai/nfinan/my-scikit-sweep-random/sweeps/tdfq09os\n"
          ],
          "name": "stdout"
        }
      ]
    },
    {
      "cell_type": "code",
      "metadata": {
        "colab": {
          "base_uri": "https://localhost:8080/",
          "height": 1000,
          "referenced_widgets": [
            "96ecafdf86bf49f0bf618c587f41e0f3",
            "ae4bd0608b8a4265a79b3d6f67c62742",
            "6b2384591c714ac49369bf24c1cdf549",
            "e28ef6af04144ab7a6f8273e596fe133",
            "5815338cfb4b4468932d4675960d4bd3",
            "c80f3e70ffc741eab7a4ef016a14f7fb",
            "08a0f5b574e84f5e9e4373f8d3c36f25",
            "b2ce457f38ce423ebcbc20cfba12489d",
            "e9feffaac6f74767a922c6547ab7ee24",
            "799bf18018c742faa3c44836437c782b",
            "3b95a3baee794bfd8a0c400cb645f923",
            "38d439f218f64c57a8739c9448a2b5a6",
            "b48300d9b3e8474b982ff269c5d666f5",
            "a6697fb2372240e288137d0190950641",
            "ecb548ac611143659f00bf03ee91aa26",
            "8e3c1e3476124422ab9a25c33dd6b834",
            "28f7c892815640da830b6fc281e1ed9d",
            "6652d19cf42348ea8d4e06f52667c168",
            "eccd12ff81e94c5e896f08ab7f3893ee",
            "f7858e890d7349ae8afff409aed7c11f",
            "4abb972ef1584ea880f029903b3d896e",
            "540cfcb09e58455a93a3a35757d9015f",
            "553667aee72b4e60a2f662576e65c7c8",
            "bda00aa65517421d8d8fdf076e0e41fe",
            "4f1efbb387a14f059fe4a1576b4112b0",
            "f5b738d7a53f4fa49dccc20d0801578d",
            "eab326fd3ce74502a26e7e7039deee74",
            "4b01fd4f51524f648c93fe96fbd8ce87",
            "558dfb6718264648a97e9cb8224dbb19",
            "ce488f2b83134ea2bd8862ca856f4b41",
            "29df76558f96403a8edaf73ff25c8e5f",
            "6916565ce1d341a4939a9c1180ba140f",
            "4c587f15ecbc487ba1015ed55af26600",
            "2f1ae7297c5d48549780b4dd98217fa3",
            "5b25e317b91c4fc9b39092e03c5bfaec",
            "a459c36db9994f548be3a12b676c70bb",
            "d6ce62bf42ce48f0a3744525549281be",
            "a880a30e502c4a8dbc5575a190d36862",
            "18df8638728a46acbf3ec78675ced961",
            "27e13e7f3ac8417990f8f1e3cf705511",
            "79c0916a1f404c6797c4b4cfa35f1529",
            "864914a2ad1045f6a0a5e1540140bf5f",
            "a563bd0425d247ce895c125ca8a5ce9a",
            "b32a5d00e989436bbbbf38dfd1d3310d",
            "9f443fc5b0fa4c8e98ef6e2d898fd295",
            "22360cdac7c7447c98fcf576f08273b1",
            "4f664c7955884d299dda7b33416cd4e9",
            "b09c056e622341fb80d281ce1ed2912f",
            "d95837685615465eb068b2e27206ee78",
            "4605b80a1d544097a89635667e085f81",
            "3a83cd4468a24da7a5dc0afeef2b157e",
            "f78bae9b57614a6083cb75cdc2d26173",
            "a79cecb412364ebe9aea5953728bc215",
            "079be5b7175f40f99e043dcf82964d7d",
            "6f93043401994b7a9787a6089cdc175e",
            "ec6c58103ea74734b522ac5f95565386",
            "ecb14f7f56ec4a26b085ea8498427ce9",
            "1c85ffef0300499781d7fcc0c8abe268",
            "794d5512b7bb4260b897097572799c76",
            "366e586843044a529dc8d1f2de2cdeb4",
            "5d8a407951c04b0fb269d5f11f9a7e82",
            "392fabcfe07042c3b1d39585fa2af33a",
            "36279686e3cb437f91ceb07bb11bf9e1",
            "fa391019f4654f63861f81eeb4cdfc7e",
            "65c1ef7107be47d7ba43cbbd4ba71255",
            "f75849e958354970a2aa676758e8f238",
            "40cf63b06ff545cdaaa8bcba10bd7a18",
            "8549f38d31b74865bf39cd49ca68c9b9",
            "fc418b1ba7c84f6b8f8494276259c832",
            "eef1ee157f4c4d0dad1e5aefd36b2be5",
            "8b412b95a80a4df59a678d097a6e0429",
            "2aad62577510493bbbb29d5f10159652",
            "748322621f3c40b1b751963243697a1d",
            "04866ad6b01d43008cff6c75231412be",
            "a40e675caec74368974cc9a69ccd99ec",
            "11c0fc671fdd431ca8338dc6ba2072f7",
            "b91ea453670048779146c36fcf6f458b",
            "4b92208ff70043209145432a75ea8049",
            "a9a62c4a42e3448dbeef80b4b63cd295",
            "df4f48716f674892b4d0aaf643650a6f"
          ]
        },
        "id": "P6RRx3RmGLNc",
        "outputId": "ca0dd8ea-a259-4a1f-b9b2-61b03a9dd08f"
      },
      "source": [
        "wandb.agent(sweep_id, count=10, function=train)"
      ],
      "execution_count": null,
      "outputs": [
        {
          "output_type": "stream",
          "text": [
            "\u001b[34m\u001b[1mwandb\u001b[0m: Agent Starting Run: x1bgcqfu with config:\n",
            "\u001b[34m\u001b[1mwandb\u001b[0m: \tC: 2\n",
            "\u001b[34m\u001b[1mwandb\u001b[0m: \tdegree: 7\n",
            "\u001b[34m\u001b[1mwandb\u001b[0m: \tkernel: linear\n"
          ],
          "name": "stderr"
        },
        {
          "output_type": "display_data",
          "data": {
            "text/html": [
              "\n",
              "                Tracking run with wandb version 0.10.31<br/>\n",
              "                Resuming run <strong style=\"color:#cdcd00\">whole-sweep-14</strong> to <a href=\"https://wandb.ai\" target=\"_blank\">Weights & Biases</a> <a href=\"https://docs.wandb.com/integrations/jupyter.html\" target=\"_blank\">(Documentation)</a>.<br/>\n",
              "                Project page: <a href=\"https://wandb.ai/nfinan/my-scikit-sweep-random\" target=\"_blank\">https://wandb.ai/nfinan/my-scikit-sweep-random</a><br/>\n",
              "                Sweep page: <a href=\"https://wandb.ai/nfinan/my-scikit-sweep-random/sweeps/tdfq09os\" target=\"_blank\">https://wandb.ai/nfinan/my-scikit-sweep-random/sweeps/tdfq09os</a><br/>\n",
              "Run page: <a href=\"https://wandb.ai/nfinan/my-scikit-sweep-random/runs/x1bgcqfu\" target=\"_blank\">https://wandb.ai/nfinan/my-scikit-sweep-random/runs/x1bgcqfu</a><br/>\n",
              "                Run data is saved locally in <code>/content/wandb/run-20210606_163951-x1bgcqfu</code><br/><br/>\n",
              "            "
            ],
            "text/plain": [
              "<IPython.core.display.HTML object>"
            ]
          },
          "metadata": {
            "tags": []
          }
        },
        {
          "output_type": "display_data",
          "data": {
            "text/html": [
              "<br/>Waiting for W&B process to finish, PID 705<br/>Program ended successfully."
            ],
            "text/plain": [
              "<IPython.core.display.HTML object>"
            ]
          },
          "metadata": {
            "tags": []
          }
        },
        {
          "output_type": "display_data",
          "data": {
            "application/vnd.jupyter.widget-view+json": {
              "model_id": "96ecafdf86bf49f0bf618c587f41e0f3",
              "version_minor": 0,
              "version_major": 2
            },
            "text/plain": [
              "VBox(children=(Label(value=' 0.00MB of 0.00MB uploaded (0.00MB deduped)\\r'), FloatProgress(value=1.0, max=1.0)…"
            ]
          },
          "metadata": {
            "tags": []
          }
        },
        {
          "output_type": "display_data",
          "data": {
            "text/html": [
              "Find user logs for this run at: <code>/content/wandb/run-20210606_163951-x1bgcqfu/logs/debug.log</code>"
            ],
            "text/plain": [
              "<IPython.core.display.HTML object>"
            ]
          },
          "metadata": {
            "tags": []
          }
        },
        {
          "output_type": "display_data",
          "data": {
            "text/html": [
              "Find internal logs for this run at: <code>/content/wandb/run-20210606_163951-x1bgcqfu/logs/debug-internal.log</code>"
            ],
            "text/plain": [
              "<IPython.core.display.HTML object>"
            ]
          },
          "metadata": {
            "tags": []
          }
        },
        {
          "output_type": "display_data",
          "data": {
            "text/html": [
              "<h3>Run summary:</h3><br/><style>\n",
              "    table.wandb td:nth-child(1) { padding: 0 10px; text-align: right }\n",
              "    </style><table class=\"wandb\">\n",
              "<tr><td>train_score</td><td>0.59775</td></tr><tr><td>test_score</td><td>0.66936</td></tr><tr><td>_runtime</td><td>2</td></tr><tr><td>_timestamp</td><td>1622997593</td></tr><tr><td>_step</td><td>0</td></tr></table>"
            ],
            "text/plain": [
              "<IPython.core.display.HTML object>"
            ]
          },
          "metadata": {
            "tags": []
          }
        },
        {
          "output_type": "display_data",
          "data": {
            "text/html": [
              "<h3>Run history:</h3><br/><style>\n",
              "    table.wandb td:nth-child(1) { padding: 0 10px; text-align: right }\n",
              "    </style><table class=\"wandb\">\n",
              "<tr><td>train_score</td><td>▁</td></tr><tr><td>test_score</td><td>▁</td></tr><tr><td>_runtime</td><td>▁</td></tr><tr><td>_timestamp</td><td>▁</td></tr><tr><td>_step</td><td>▁</td></tr></table><br/>"
            ],
            "text/plain": [
              "<IPython.core.display.HTML object>"
            ]
          },
          "metadata": {
            "tags": []
          }
        },
        {
          "output_type": "display_data",
          "data": {
            "text/html": [
              "Synced 4 W&B file(s), 0 media file(s), 0 artifact file(s) and 0 other file(s)"
            ],
            "text/plain": [
              "<IPython.core.display.HTML object>"
            ]
          },
          "metadata": {
            "tags": []
          }
        },
        {
          "output_type": "display_data",
          "data": {
            "text/html": [
              "\n",
              "                    <br/>Synced <strong style=\"color:#cdcd00\">whole-sweep-14</strong>: <a href=\"https://wandb.ai/nfinan/my-scikit-sweep-random/runs/x1bgcqfu\" target=\"_blank\">https://wandb.ai/nfinan/my-scikit-sweep-random/runs/x1bgcqfu</a><br/>\n",
              "                "
            ],
            "text/plain": [
              "<IPython.core.display.HTML object>"
            ]
          },
          "metadata": {
            "tags": []
          }
        },
        {
          "output_type": "stream",
          "text": [
            "\u001b[34m\u001b[1mwandb\u001b[0m: Agent Starting Run: xm2oali5 with config:\n",
            "\u001b[34m\u001b[1mwandb\u001b[0m: \tC: 0.5\n",
            "\u001b[34m\u001b[1mwandb\u001b[0m: \tdegree: 3\n",
            "\u001b[34m\u001b[1mwandb\u001b[0m: \tkernel: rbf\n"
          ],
          "name": "stderr"
        },
        {
          "output_type": "display_data",
          "data": {
            "text/html": [
              "\n",
              "                Tracking run with wandb version 0.10.31<br/>\n",
              "                Resuming run <strong style=\"color:#cdcd00\">silver-sweep-15</strong> to <a href=\"https://wandb.ai\" target=\"_blank\">Weights & Biases</a> <a href=\"https://docs.wandb.com/integrations/jupyter.html\" target=\"_blank\">(Documentation)</a>.<br/>\n",
              "                Project page: <a href=\"https://wandb.ai/nfinan/my-scikit-sweep-random\" target=\"_blank\">https://wandb.ai/nfinan/my-scikit-sweep-random</a><br/>\n",
              "                Sweep page: <a href=\"https://wandb.ai/nfinan/my-scikit-sweep-random/sweeps/tdfq09os\" target=\"_blank\">https://wandb.ai/nfinan/my-scikit-sweep-random/sweeps/tdfq09os</a><br/>\n",
              "Run page: <a href=\"https://wandb.ai/nfinan/my-scikit-sweep-random/runs/xm2oali5\" target=\"_blank\">https://wandb.ai/nfinan/my-scikit-sweep-random/runs/xm2oali5</a><br/>\n",
              "                Run data is saved locally in <code>/content/wandb/run-20210606_163958-xm2oali5</code><br/><br/>\n",
              "            "
            ],
            "text/plain": [
              "<IPython.core.display.HTML object>"
            ]
          },
          "metadata": {
            "tags": []
          }
        },
        {
          "output_type": "display_data",
          "data": {
            "text/html": [
              "<br/>Waiting for W&B process to finish, PID 741<br/>Program ended successfully."
            ],
            "text/plain": [
              "<IPython.core.display.HTML object>"
            ]
          },
          "metadata": {
            "tags": []
          }
        },
        {
          "output_type": "display_data",
          "data": {
            "application/vnd.jupyter.widget-view+json": {
              "model_id": "e9feffaac6f74767a922c6547ab7ee24",
              "version_minor": 0,
              "version_major": 2
            },
            "text/plain": [
              "VBox(children=(Label(value=' 0.00MB of 0.00MB uploaded (0.00MB deduped)\\r'), FloatProgress(value=1.0, max=1.0)…"
            ]
          },
          "metadata": {
            "tags": []
          }
        },
        {
          "output_type": "display_data",
          "data": {
            "text/html": [
              "Find user logs for this run at: <code>/content/wandb/run-20210606_163958-xm2oali5/logs/debug.log</code>"
            ],
            "text/plain": [
              "<IPython.core.display.HTML object>"
            ]
          },
          "metadata": {
            "tags": []
          }
        },
        {
          "output_type": "display_data",
          "data": {
            "text/html": [
              "Find internal logs for this run at: <code>/content/wandb/run-20210606_163958-xm2oali5/logs/debug-internal.log</code>"
            ],
            "text/plain": [
              "<IPython.core.display.HTML object>"
            ]
          },
          "metadata": {
            "tags": []
          }
        },
        {
          "output_type": "display_data",
          "data": {
            "text/html": [
              "<h3>Run summary:</h3><br/><style>\n",
              "    table.wandb td:nth-child(1) { padding: 0 10px; text-align: right }\n",
              "    </style><table class=\"wandb\">\n",
              "<tr><td>train_score</td><td>0.58486</td></tr><tr><td>test_score</td><td>0.63712</td></tr><tr><td>_runtime</td><td>2</td></tr><tr><td>_timestamp</td><td>1622997600</td></tr><tr><td>_step</td><td>0</td></tr></table>"
            ],
            "text/plain": [
              "<IPython.core.display.HTML object>"
            ]
          },
          "metadata": {
            "tags": []
          }
        },
        {
          "output_type": "display_data",
          "data": {
            "text/html": [
              "<h3>Run history:</h3><br/><style>\n",
              "    table.wandb td:nth-child(1) { padding: 0 10px; text-align: right }\n",
              "    </style><table class=\"wandb\">\n",
              "<tr><td>train_score</td><td>▁</td></tr><tr><td>test_score</td><td>▁</td></tr><tr><td>_runtime</td><td>▁</td></tr><tr><td>_timestamp</td><td>▁</td></tr><tr><td>_step</td><td>▁</td></tr></table><br/>"
            ],
            "text/plain": [
              "<IPython.core.display.HTML object>"
            ]
          },
          "metadata": {
            "tags": []
          }
        },
        {
          "output_type": "display_data",
          "data": {
            "text/html": [
              "Synced 4 W&B file(s), 0 media file(s), 0 artifact file(s) and 0 other file(s)"
            ],
            "text/plain": [
              "<IPython.core.display.HTML object>"
            ]
          },
          "metadata": {
            "tags": []
          }
        },
        {
          "output_type": "display_data",
          "data": {
            "text/html": [
              "\n",
              "                    <br/>Synced <strong style=\"color:#cdcd00\">silver-sweep-15</strong>: <a href=\"https://wandb.ai/nfinan/my-scikit-sweep-random/runs/xm2oali5\" target=\"_blank\">https://wandb.ai/nfinan/my-scikit-sweep-random/runs/xm2oali5</a><br/>\n",
              "                "
            ],
            "text/plain": [
              "<IPython.core.display.HTML object>"
            ]
          },
          "metadata": {
            "tags": []
          }
        },
        {
          "output_type": "stream",
          "text": [
            "\u001b[34m\u001b[1mwandb\u001b[0m: Agent Starting Run: 08b5z7gf with config:\n",
            "\u001b[34m\u001b[1mwandb\u001b[0m: \tC: 0.2\n",
            "\u001b[34m\u001b[1mwandb\u001b[0m: \tdegree: 2\n",
            "\u001b[34m\u001b[1mwandb\u001b[0m: \tkernel: rbf\n"
          ],
          "name": "stderr"
        },
        {
          "output_type": "display_data",
          "data": {
            "text/html": [
              "\n",
              "                Tracking run with wandb version 0.10.31<br/>\n",
              "                Resuming run <strong style=\"color:#cdcd00\">light-sweep-16</strong> to <a href=\"https://wandb.ai\" target=\"_blank\">Weights & Biases</a> <a href=\"https://docs.wandb.com/integrations/jupyter.html\" target=\"_blank\">(Documentation)</a>.<br/>\n",
              "                Project page: <a href=\"https://wandb.ai/nfinan/my-scikit-sweep-random\" target=\"_blank\">https://wandb.ai/nfinan/my-scikit-sweep-random</a><br/>\n",
              "                Sweep page: <a href=\"https://wandb.ai/nfinan/my-scikit-sweep-random/sweeps/tdfq09os\" target=\"_blank\">https://wandb.ai/nfinan/my-scikit-sweep-random/sweeps/tdfq09os</a><br/>\n",
              "Run page: <a href=\"https://wandb.ai/nfinan/my-scikit-sweep-random/runs/08b5z7gf\" target=\"_blank\">https://wandb.ai/nfinan/my-scikit-sweep-random/runs/08b5z7gf</a><br/>\n",
              "                Run data is saved locally in <code>/content/wandb/run-20210606_164005-08b5z7gf</code><br/><br/>\n",
              "            "
            ],
            "text/plain": [
              "<IPython.core.display.HTML object>"
            ]
          },
          "metadata": {
            "tags": []
          }
        },
        {
          "output_type": "display_data",
          "data": {
            "text/html": [
              "<br/>Waiting for W&B process to finish, PID 777<br/>Program ended successfully."
            ],
            "text/plain": [
              "<IPython.core.display.HTML object>"
            ]
          },
          "metadata": {
            "tags": []
          }
        },
        {
          "output_type": "display_data",
          "data": {
            "application/vnd.jupyter.widget-view+json": {
              "model_id": "28f7c892815640da830b6fc281e1ed9d",
              "version_minor": 0,
              "version_major": 2
            },
            "text/plain": [
              "VBox(children=(Label(value=' 0.00MB of 0.00MB uploaded (0.00MB deduped)\\r'), FloatProgress(value=1.0, max=1.0)…"
            ]
          },
          "metadata": {
            "tags": []
          }
        },
        {
          "output_type": "display_data",
          "data": {
            "text/html": [
              "Find user logs for this run at: <code>/content/wandb/run-20210606_164005-08b5z7gf/logs/debug.log</code>"
            ],
            "text/plain": [
              "<IPython.core.display.HTML object>"
            ]
          },
          "metadata": {
            "tags": []
          }
        },
        {
          "output_type": "display_data",
          "data": {
            "text/html": [
              "Find internal logs for this run at: <code>/content/wandb/run-20210606_164005-08b5z7gf/logs/debug-internal.log</code>"
            ],
            "text/plain": [
              "<IPython.core.display.HTML object>"
            ]
          },
          "metadata": {
            "tags": []
          }
        },
        {
          "output_type": "display_data",
          "data": {
            "text/html": [
              "<h3>Run summary:</h3><br/><style>\n",
              "    table.wandb td:nth-child(1) { padding: 0 10px; text-align: right }\n",
              "    </style><table class=\"wandb\">\n",
              "<tr><td>train_score</td><td>0.52374</td></tr><tr><td>test_score</td><td>0.54781</td></tr><tr><td>_runtime</td><td>2</td></tr><tr><td>_timestamp</td><td>1622997607</td></tr><tr><td>_step</td><td>0</td></tr></table>"
            ],
            "text/plain": [
              "<IPython.core.display.HTML object>"
            ]
          },
          "metadata": {
            "tags": []
          }
        },
        {
          "output_type": "display_data",
          "data": {
            "text/html": [
              "<h3>Run history:</h3><br/><style>\n",
              "    table.wandb td:nth-child(1) { padding: 0 10px; text-align: right }\n",
              "    </style><table class=\"wandb\">\n",
              "<tr><td>train_score</td><td>▁</td></tr><tr><td>test_score</td><td>▁</td></tr><tr><td>_runtime</td><td>▁</td></tr><tr><td>_timestamp</td><td>▁</td></tr><tr><td>_step</td><td>▁</td></tr></table><br/>"
            ],
            "text/plain": [
              "<IPython.core.display.HTML object>"
            ]
          },
          "metadata": {
            "tags": []
          }
        },
        {
          "output_type": "display_data",
          "data": {
            "text/html": [
              "Synced 4 W&B file(s), 0 media file(s), 0 artifact file(s) and 0 other file(s)"
            ],
            "text/plain": [
              "<IPython.core.display.HTML object>"
            ]
          },
          "metadata": {
            "tags": []
          }
        },
        {
          "output_type": "display_data",
          "data": {
            "text/html": [
              "\n",
              "                    <br/>Synced <strong style=\"color:#cdcd00\">light-sweep-16</strong>: <a href=\"https://wandb.ai/nfinan/my-scikit-sweep-random/runs/08b5z7gf\" target=\"_blank\">https://wandb.ai/nfinan/my-scikit-sweep-random/runs/08b5z7gf</a><br/>\n",
              "                "
            ],
            "text/plain": [
              "<IPython.core.display.HTML object>"
            ]
          },
          "metadata": {
            "tags": []
          }
        },
        {
          "output_type": "stream",
          "text": [
            "\u001b[34m\u001b[1mwandb\u001b[0m: Agent Starting Run: 4at4rhne with config:\n",
            "\u001b[34m\u001b[1mwandb\u001b[0m: \tC: 1\n",
            "\u001b[34m\u001b[1mwandb\u001b[0m: \tdegree: 3\n",
            "\u001b[34m\u001b[1mwandb\u001b[0m: \tkernel: rbf\n"
          ],
          "name": "stderr"
        },
        {
          "output_type": "display_data",
          "data": {
            "text/html": [
              "\n",
              "                Tracking run with wandb version 0.10.31<br/>\n",
              "                Resuming run <strong style=\"color:#cdcd00\">lilac-sweep-17</strong> to <a href=\"https://wandb.ai\" target=\"_blank\">Weights & Biases</a> <a href=\"https://docs.wandb.com/integrations/jupyter.html\" target=\"_blank\">(Documentation)</a>.<br/>\n",
              "                Project page: <a href=\"https://wandb.ai/nfinan/my-scikit-sweep-random\" target=\"_blank\">https://wandb.ai/nfinan/my-scikit-sweep-random</a><br/>\n",
              "                Sweep page: <a href=\"https://wandb.ai/nfinan/my-scikit-sweep-random/sweeps/tdfq09os\" target=\"_blank\">https://wandb.ai/nfinan/my-scikit-sweep-random/sweeps/tdfq09os</a><br/>\n",
              "Run page: <a href=\"https://wandb.ai/nfinan/my-scikit-sweep-random/runs/4at4rhne\" target=\"_blank\">https://wandb.ai/nfinan/my-scikit-sweep-random/runs/4at4rhne</a><br/>\n",
              "                Run data is saved locally in <code>/content/wandb/run-20210606_164012-4at4rhne</code><br/><br/>\n",
              "            "
            ],
            "text/plain": [
              "<IPython.core.display.HTML object>"
            ]
          },
          "metadata": {
            "tags": []
          }
        },
        {
          "output_type": "display_data",
          "data": {
            "text/html": [
              "<br/>Waiting for W&B process to finish, PID 811<br/>Program ended successfully."
            ],
            "text/plain": [
              "<IPython.core.display.HTML object>"
            ]
          },
          "metadata": {
            "tags": []
          }
        },
        {
          "output_type": "display_data",
          "data": {
            "application/vnd.jupyter.widget-view+json": {
              "model_id": "4f1efbb387a14f059fe4a1576b4112b0",
              "version_minor": 0,
              "version_major": 2
            },
            "text/plain": [
              "VBox(children=(Label(value=' 0.00MB of 0.00MB uploaded (0.00MB deduped)\\r'), FloatProgress(value=1.0, max=1.0)…"
            ]
          },
          "metadata": {
            "tags": []
          }
        },
        {
          "output_type": "display_data",
          "data": {
            "text/html": [
              "Find user logs for this run at: <code>/content/wandb/run-20210606_164012-4at4rhne/logs/debug.log</code>"
            ],
            "text/plain": [
              "<IPython.core.display.HTML object>"
            ]
          },
          "metadata": {
            "tags": []
          }
        },
        {
          "output_type": "display_data",
          "data": {
            "text/html": [
              "Find internal logs for this run at: <code>/content/wandb/run-20210606_164012-4at4rhne/logs/debug-internal.log</code>"
            ],
            "text/plain": [
              "<IPython.core.display.HTML object>"
            ]
          },
          "metadata": {
            "tags": []
          }
        },
        {
          "output_type": "display_data",
          "data": {
            "text/html": [
              "<h3>Run summary:</h3><br/><style>\n",
              "    table.wandb td:nth-child(1) { padding: 0 10px; text-align: right }\n",
              "    </style><table class=\"wandb\">\n",
              "<tr><td>train_score</td><td>0.61551</td></tr><tr><td>test_score</td><td>0.67907</td></tr><tr><td>_runtime</td><td>2</td></tr><tr><td>_timestamp</td><td>1622997614</td></tr><tr><td>_step</td><td>0</td></tr></table>"
            ],
            "text/plain": [
              "<IPython.core.display.HTML object>"
            ]
          },
          "metadata": {
            "tags": []
          }
        },
        {
          "output_type": "display_data",
          "data": {
            "text/html": [
              "<h3>Run history:</h3><br/><style>\n",
              "    table.wandb td:nth-child(1) { padding: 0 10px; text-align: right }\n",
              "    </style><table class=\"wandb\">\n",
              "<tr><td>train_score</td><td>▁</td></tr><tr><td>test_score</td><td>▁</td></tr><tr><td>_runtime</td><td>▁</td></tr><tr><td>_timestamp</td><td>▁</td></tr><tr><td>_step</td><td>▁</td></tr></table><br/>"
            ],
            "text/plain": [
              "<IPython.core.display.HTML object>"
            ]
          },
          "metadata": {
            "tags": []
          }
        },
        {
          "output_type": "display_data",
          "data": {
            "text/html": [
              "Synced 4 W&B file(s), 0 media file(s), 0 artifact file(s) and 0 other file(s)"
            ],
            "text/plain": [
              "<IPython.core.display.HTML object>"
            ]
          },
          "metadata": {
            "tags": []
          }
        },
        {
          "output_type": "display_data",
          "data": {
            "text/html": [
              "\n",
              "                    <br/>Synced <strong style=\"color:#cdcd00\">lilac-sweep-17</strong>: <a href=\"https://wandb.ai/nfinan/my-scikit-sweep-random/runs/4at4rhne\" target=\"_blank\">https://wandb.ai/nfinan/my-scikit-sweep-random/runs/4at4rhne</a><br/>\n",
              "                "
            ],
            "text/plain": [
              "<IPython.core.display.HTML object>"
            ]
          },
          "metadata": {
            "tags": []
          }
        },
        {
          "output_type": "stream",
          "text": [
            "\u001b[34m\u001b[1mwandb\u001b[0m: Agent Starting Run: 8a6rxyu2 with config:\n",
            "\u001b[34m\u001b[1mwandb\u001b[0m: \tC: 2\n",
            "\u001b[34m\u001b[1mwandb\u001b[0m: \tdegree: 9\n",
            "\u001b[34m\u001b[1mwandb\u001b[0m: \tkernel: rbf\n"
          ],
          "name": "stderr"
        },
        {
          "output_type": "display_data",
          "data": {
            "text/html": [
              "\n",
              "                Tracking run with wandb version 0.10.31<br/>\n",
              "                Resuming run <strong style=\"color:#cdcd00\">prime-sweep-18</strong> to <a href=\"https://wandb.ai\" target=\"_blank\">Weights & Biases</a> <a href=\"https://docs.wandb.com/integrations/jupyter.html\" target=\"_blank\">(Documentation)</a>.<br/>\n",
              "                Project page: <a href=\"https://wandb.ai/nfinan/my-scikit-sweep-random\" target=\"_blank\">https://wandb.ai/nfinan/my-scikit-sweep-random</a><br/>\n",
              "                Sweep page: <a href=\"https://wandb.ai/nfinan/my-scikit-sweep-random/sweeps/tdfq09os\" target=\"_blank\">https://wandb.ai/nfinan/my-scikit-sweep-random/sweeps/tdfq09os</a><br/>\n",
              "Run page: <a href=\"https://wandb.ai/nfinan/my-scikit-sweep-random/runs/8a6rxyu2\" target=\"_blank\">https://wandb.ai/nfinan/my-scikit-sweep-random/runs/8a6rxyu2</a><br/>\n",
              "                Run data is saved locally in <code>/content/wandb/run-20210606_164019-8a6rxyu2</code><br/><br/>\n",
              "            "
            ],
            "text/plain": [
              "<IPython.core.display.HTML object>"
            ]
          },
          "metadata": {
            "tags": []
          }
        },
        {
          "output_type": "display_data",
          "data": {
            "text/html": [
              "<br/>Waiting for W&B process to finish, PID 847<br/>Program ended successfully."
            ],
            "text/plain": [
              "<IPython.core.display.HTML object>"
            ]
          },
          "metadata": {
            "tags": []
          }
        },
        {
          "output_type": "display_data",
          "data": {
            "application/vnd.jupyter.widget-view+json": {
              "model_id": "4c587f15ecbc487ba1015ed55af26600",
              "version_minor": 0,
              "version_major": 2
            },
            "text/plain": [
              "VBox(children=(Label(value=' 0.00MB of 0.00MB uploaded (0.00MB deduped)\\r'), FloatProgress(value=1.0, max=1.0)…"
            ]
          },
          "metadata": {
            "tags": []
          }
        },
        {
          "output_type": "display_data",
          "data": {
            "text/html": [
              "Find user logs for this run at: <code>/content/wandb/run-20210606_164019-8a6rxyu2/logs/debug.log</code>"
            ],
            "text/plain": [
              "<IPython.core.display.HTML object>"
            ]
          },
          "metadata": {
            "tags": []
          }
        },
        {
          "output_type": "display_data",
          "data": {
            "text/html": [
              "Find internal logs for this run at: <code>/content/wandb/run-20210606_164019-8a6rxyu2/logs/debug-internal.log</code>"
            ],
            "text/plain": [
              "<IPython.core.display.HTML object>"
            ]
          },
          "metadata": {
            "tags": []
          }
        },
        {
          "output_type": "display_data",
          "data": {
            "text/html": [
              "<h3>Run summary:</h3><br/><style>\n",
              "    table.wandb td:nth-child(1) { padding: 0 10px; text-align: right }\n",
              "    </style><table class=\"wandb\">\n",
              "<tr><td>train_score</td><td>0.67555</td></tr><tr><td>test_score</td><td>0.74053</td></tr><tr><td>_runtime</td><td>2</td></tr><tr><td>_timestamp</td><td>1622997621</td></tr><tr><td>_step</td><td>0</td></tr></table>"
            ],
            "text/plain": [
              "<IPython.core.display.HTML object>"
            ]
          },
          "metadata": {
            "tags": []
          }
        },
        {
          "output_type": "display_data",
          "data": {
            "text/html": [
              "<h3>Run history:</h3><br/><style>\n",
              "    table.wandb td:nth-child(1) { padding: 0 10px; text-align: right }\n",
              "    </style><table class=\"wandb\">\n",
              "<tr><td>train_score</td><td>▁</td></tr><tr><td>test_score</td><td>▁</td></tr><tr><td>_runtime</td><td>▁</td></tr><tr><td>_timestamp</td><td>▁</td></tr><tr><td>_step</td><td>▁</td></tr></table><br/>"
            ],
            "text/plain": [
              "<IPython.core.display.HTML object>"
            ]
          },
          "metadata": {
            "tags": []
          }
        },
        {
          "output_type": "display_data",
          "data": {
            "text/html": [
              "Synced 4 W&B file(s), 0 media file(s), 0 artifact file(s) and 0 other file(s)"
            ],
            "text/plain": [
              "<IPython.core.display.HTML object>"
            ]
          },
          "metadata": {
            "tags": []
          }
        },
        {
          "output_type": "display_data",
          "data": {
            "text/html": [
              "\n",
              "                    <br/>Synced <strong style=\"color:#cdcd00\">prime-sweep-18</strong>: <a href=\"https://wandb.ai/nfinan/my-scikit-sweep-random/runs/8a6rxyu2\" target=\"_blank\">https://wandb.ai/nfinan/my-scikit-sweep-random/runs/8a6rxyu2</a><br/>\n",
              "                "
            ],
            "text/plain": [
              "<IPython.core.display.HTML object>"
            ]
          },
          "metadata": {
            "tags": []
          }
        },
        {
          "output_type": "stream",
          "text": [
            "\u001b[34m\u001b[1mwandb\u001b[0m: Agent Starting Run: 9z05ilqf with config:\n",
            "\u001b[34m\u001b[1mwandb\u001b[0m: \tC: 1\n",
            "\u001b[34m\u001b[1mwandb\u001b[0m: \tdegree: 9\n",
            "\u001b[34m\u001b[1mwandb\u001b[0m: \tkernel: sigmoid\n"
          ],
          "name": "stderr"
        },
        {
          "output_type": "display_data",
          "data": {
            "text/html": [
              "\n",
              "                Tracking run with wandb version 0.10.31<br/>\n",
              "                Resuming run <strong style=\"color:#cdcd00\">jolly-sweep-19</strong> to <a href=\"https://wandb.ai\" target=\"_blank\">Weights & Biases</a> <a href=\"https://docs.wandb.com/integrations/jupyter.html\" target=\"_blank\">(Documentation)</a>.<br/>\n",
              "                Project page: <a href=\"https://wandb.ai/nfinan/my-scikit-sweep-random\" target=\"_blank\">https://wandb.ai/nfinan/my-scikit-sweep-random</a><br/>\n",
              "                Sweep page: <a href=\"https://wandb.ai/nfinan/my-scikit-sweep-random/sweeps/tdfq09os\" target=\"_blank\">https://wandb.ai/nfinan/my-scikit-sweep-random/sweeps/tdfq09os</a><br/>\n",
              "Run page: <a href=\"https://wandb.ai/nfinan/my-scikit-sweep-random/runs/9z05ilqf\" target=\"_blank\">https://wandb.ai/nfinan/my-scikit-sweep-random/runs/9z05ilqf</a><br/>\n",
              "                Run data is saved locally in <code>/content/wandb/run-20210606_164026-9z05ilqf</code><br/><br/>\n",
              "            "
            ],
            "text/plain": [
              "<IPython.core.display.HTML object>"
            ]
          },
          "metadata": {
            "tags": []
          }
        },
        {
          "output_type": "display_data",
          "data": {
            "text/html": [
              "<br/>Waiting for W&B process to finish, PID 883<br/>Program ended successfully."
            ],
            "text/plain": [
              "<IPython.core.display.HTML object>"
            ]
          },
          "metadata": {
            "tags": []
          }
        },
        {
          "output_type": "display_data",
          "data": {
            "application/vnd.jupyter.widget-view+json": {
              "model_id": "79c0916a1f404c6797c4b4cfa35f1529",
              "version_minor": 0,
              "version_major": 2
            },
            "text/plain": [
              "VBox(children=(Label(value=' 0.00MB of 0.00MB uploaded (0.00MB deduped)\\r'), FloatProgress(value=1.0, max=1.0)…"
            ]
          },
          "metadata": {
            "tags": []
          }
        },
        {
          "output_type": "display_data",
          "data": {
            "text/html": [
              "Find user logs for this run at: <code>/content/wandb/run-20210606_164026-9z05ilqf/logs/debug.log</code>"
            ],
            "text/plain": [
              "<IPython.core.display.HTML object>"
            ]
          },
          "metadata": {
            "tags": []
          }
        },
        {
          "output_type": "display_data",
          "data": {
            "text/html": [
              "Find internal logs for this run at: <code>/content/wandb/run-20210606_164026-9z05ilqf/logs/debug-internal.log</code>"
            ],
            "text/plain": [
              "<IPython.core.display.HTML object>"
            ]
          },
          "metadata": {
            "tags": []
          }
        },
        {
          "output_type": "display_data",
          "data": {
            "text/html": [
              "<h3>Run summary:</h3><br/><style>\n",
              "    table.wandb td:nth-child(1) { padding: 0 10px; text-align: right }\n",
              "    </style><table class=\"wandb\">\n",
              "<tr><td>train_score</td><td>0.39033</td></tr><tr><td>test_score</td><td>0.53841</td></tr><tr><td>_runtime</td><td>3</td></tr><tr><td>_timestamp</td><td>1622997629</td></tr><tr><td>_step</td><td>0</td></tr></table>"
            ],
            "text/plain": [
              "<IPython.core.display.HTML object>"
            ]
          },
          "metadata": {
            "tags": []
          }
        },
        {
          "output_type": "display_data",
          "data": {
            "text/html": [
              "<h3>Run history:</h3><br/><style>\n",
              "    table.wandb td:nth-child(1) { padding: 0 10px; text-align: right }\n",
              "    </style><table class=\"wandb\">\n",
              "<tr><td>train_score</td><td>▁</td></tr><tr><td>test_score</td><td>▁</td></tr><tr><td>_runtime</td><td>▁</td></tr><tr><td>_timestamp</td><td>▁</td></tr><tr><td>_step</td><td>▁</td></tr></table><br/>"
            ],
            "text/plain": [
              "<IPython.core.display.HTML object>"
            ]
          },
          "metadata": {
            "tags": []
          }
        },
        {
          "output_type": "display_data",
          "data": {
            "text/html": [
              "Synced 4 W&B file(s), 0 media file(s), 0 artifact file(s) and 0 other file(s)"
            ],
            "text/plain": [
              "<IPython.core.display.HTML object>"
            ]
          },
          "metadata": {
            "tags": []
          }
        },
        {
          "output_type": "display_data",
          "data": {
            "text/html": [
              "\n",
              "                    <br/>Synced <strong style=\"color:#cdcd00\">jolly-sweep-19</strong>: <a href=\"https://wandb.ai/nfinan/my-scikit-sweep-random/runs/9z05ilqf\" target=\"_blank\">https://wandb.ai/nfinan/my-scikit-sweep-random/runs/9z05ilqf</a><br/>\n",
              "                "
            ],
            "text/plain": [
              "<IPython.core.display.HTML object>"
            ]
          },
          "metadata": {
            "tags": []
          }
        },
        {
          "output_type": "stream",
          "text": [
            "\u001b[34m\u001b[1mwandb\u001b[0m: Agent Starting Run: ed9dprza with config:\n",
            "\u001b[34m\u001b[1mwandb\u001b[0m: \tC: 1.5\n",
            "\u001b[34m\u001b[1mwandb\u001b[0m: \tdegree: 3\n",
            "\u001b[34m\u001b[1mwandb\u001b[0m: \tkernel: sigmoid\n"
          ],
          "name": "stderr"
        },
        {
          "output_type": "display_data",
          "data": {
            "text/html": [
              "\n",
              "                Tracking run with wandb version 0.10.31<br/>\n",
              "                Resuming run <strong style=\"color:#cdcd00\">jolly-sweep-20</strong> to <a href=\"https://wandb.ai\" target=\"_blank\">Weights & Biases</a> <a href=\"https://docs.wandb.com/integrations/jupyter.html\" target=\"_blank\">(Documentation)</a>.<br/>\n",
              "                Project page: <a href=\"https://wandb.ai/nfinan/my-scikit-sweep-random\" target=\"_blank\">https://wandb.ai/nfinan/my-scikit-sweep-random</a><br/>\n",
              "                Sweep page: <a href=\"https://wandb.ai/nfinan/my-scikit-sweep-random/sweeps/tdfq09os\" target=\"_blank\">https://wandb.ai/nfinan/my-scikit-sweep-random/sweeps/tdfq09os</a><br/>\n",
              "Run page: <a href=\"https://wandb.ai/nfinan/my-scikit-sweep-random/runs/ed9dprza\" target=\"_blank\">https://wandb.ai/nfinan/my-scikit-sweep-random/runs/ed9dprza</a><br/>\n",
              "                Run data is saved locally in <code>/content/wandb/run-20210606_164033-ed9dprza</code><br/><br/>\n",
              "            "
            ],
            "text/plain": [
              "<IPython.core.display.HTML object>"
            ]
          },
          "metadata": {
            "tags": []
          }
        },
        {
          "output_type": "display_data",
          "data": {
            "text/html": [
              "<br/>Waiting for W&B process to finish, PID 917<br/>Program ended successfully."
            ],
            "text/plain": [
              "<IPython.core.display.HTML object>"
            ]
          },
          "metadata": {
            "tags": []
          }
        },
        {
          "output_type": "display_data",
          "data": {
            "application/vnd.jupyter.widget-view+json": {
              "model_id": "d95837685615465eb068b2e27206ee78",
              "version_minor": 0,
              "version_major": 2
            },
            "text/plain": [
              "VBox(children=(Label(value=' 0.00MB of 0.00MB uploaded (0.00MB deduped)\\r'), FloatProgress(value=1.0, max=1.0)…"
            ]
          },
          "metadata": {
            "tags": []
          }
        },
        {
          "output_type": "display_data",
          "data": {
            "text/html": [
              "Find user logs for this run at: <code>/content/wandb/run-20210606_164033-ed9dprza/logs/debug.log</code>"
            ],
            "text/plain": [
              "<IPython.core.display.HTML object>"
            ]
          },
          "metadata": {
            "tags": []
          }
        },
        {
          "output_type": "display_data",
          "data": {
            "text/html": [
              "Find internal logs for this run at: <code>/content/wandb/run-20210606_164033-ed9dprza/logs/debug-internal.log</code>"
            ],
            "text/plain": [
              "<IPython.core.display.HTML object>"
            ]
          },
          "metadata": {
            "tags": []
          }
        },
        {
          "output_type": "display_data",
          "data": {
            "text/html": [
              "<h3>Run summary:</h3><br/><style>\n",
              "    table.wandb td:nth-child(1) { padding: 0 10px; text-align: right }\n",
              "    </style><table class=\"wandb\">\n",
              "<tr><td>train_score</td><td>0.26467</td></tr><tr><td>test_score</td><td>0.48935</td></tr><tr><td>_runtime</td><td>3</td></tr><tr><td>_timestamp</td><td>1622997636</td></tr><tr><td>_step</td><td>0</td></tr></table>"
            ],
            "text/plain": [
              "<IPython.core.display.HTML object>"
            ]
          },
          "metadata": {
            "tags": []
          }
        },
        {
          "output_type": "display_data",
          "data": {
            "text/html": [
              "<h3>Run history:</h3><br/><style>\n",
              "    table.wandb td:nth-child(1) { padding: 0 10px; text-align: right }\n",
              "    </style><table class=\"wandb\">\n",
              "<tr><td>train_score</td><td>▁</td></tr><tr><td>test_score</td><td>▁</td></tr><tr><td>_runtime</td><td>▁</td></tr><tr><td>_timestamp</td><td>▁</td></tr><tr><td>_step</td><td>▁</td></tr></table><br/>"
            ],
            "text/plain": [
              "<IPython.core.display.HTML object>"
            ]
          },
          "metadata": {
            "tags": []
          }
        },
        {
          "output_type": "display_data",
          "data": {
            "text/html": [
              "Synced 4 W&B file(s), 0 media file(s), 0 artifact file(s) and 0 other file(s)"
            ],
            "text/plain": [
              "<IPython.core.display.HTML object>"
            ]
          },
          "metadata": {
            "tags": []
          }
        },
        {
          "output_type": "display_data",
          "data": {
            "text/html": [
              "\n",
              "                    <br/>Synced <strong style=\"color:#cdcd00\">jolly-sweep-20</strong>: <a href=\"https://wandb.ai/nfinan/my-scikit-sweep-random/runs/ed9dprza\" target=\"_blank\">https://wandb.ai/nfinan/my-scikit-sweep-random/runs/ed9dprza</a><br/>\n",
              "                "
            ],
            "text/plain": [
              "<IPython.core.display.HTML object>"
            ]
          },
          "metadata": {
            "tags": []
          }
        },
        {
          "output_type": "stream",
          "text": [
            "\u001b[34m\u001b[1mwandb\u001b[0m: Agent Starting Run: ai5594hc with config:\n",
            "\u001b[34m\u001b[1mwandb\u001b[0m: \tC: 0.5\n",
            "\u001b[34m\u001b[1mwandb\u001b[0m: \tdegree: 7\n",
            "\u001b[34m\u001b[1mwandb\u001b[0m: \tkernel: poly\n"
          ],
          "name": "stderr"
        },
        {
          "output_type": "display_data",
          "data": {
            "text/html": [
              "\n",
              "                Tracking run with wandb version 0.10.31<br/>\n",
              "                Resuming run <strong style=\"color:#cdcd00\">daily-sweep-21</strong> to <a href=\"https://wandb.ai\" target=\"_blank\">Weights & Biases</a> <a href=\"https://docs.wandb.com/integrations/jupyter.html\" target=\"_blank\">(Documentation)</a>.<br/>\n",
              "                Project page: <a href=\"https://wandb.ai/nfinan/my-scikit-sweep-random\" target=\"_blank\">https://wandb.ai/nfinan/my-scikit-sweep-random</a><br/>\n",
              "                Sweep page: <a href=\"https://wandb.ai/nfinan/my-scikit-sweep-random/sweeps/tdfq09os\" target=\"_blank\">https://wandb.ai/nfinan/my-scikit-sweep-random/sweeps/tdfq09os</a><br/>\n",
              "Run page: <a href=\"https://wandb.ai/nfinan/my-scikit-sweep-random/runs/ai5594hc\" target=\"_blank\">https://wandb.ai/nfinan/my-scikit-sweep-random/runs/ai5594hc</a><br/>\n",
              "                Run data is saved locally in <code>/content/wandb/run-20210606_164040-ai5594hc</code><br/><br/>\n",
              "            "
            ],
            "text/plain": [
              "<IPython.core.display.HTML object>"
            ]
          },
          "metadata": {
            "tags": []
          }
        },
        {
          "output_type": "display_data",
          "data": {
            "text/html": [
              "<br/>Waiting for W&B process to finish, PID 953<br/>Program ended successfully."
            ],
            "text/plain": [
              "<IPython.core.display.HTML object>"
            ]
          },
          "metadata": {
            "tags": []
          }
        },
        {
          "output_type": "display_data",
          "data": {
            "application/vnd.jupyter.widget-view+json": {
              "model_id": "ecb14f7f56ec4a26b085ea8498427ce9",
              "version_minor": 0,
              "version_major": 2
            },
            "text/plain": [
              "VBox(children=(Label(value=' 0.00MB of 0.00MB uploaded (0.00MB deduped)\\r'), FloatProgress(value=1.0, max=1.0)…"
            ]
          },
          "metadata": {
            "tags": []
          }
        },
        {
          "output_type": "display_data",
          "data": {
            "text/html": [
              "Find user logs for this run at: <code>/content/wandb/run-20210606_164040-ai5594hc/logs/debug.log</code>"
            ],
            "text/plain": [
              "<IPython.core.display.HTML object>"
            ]
          },
          "metadata": {
            "tags": []
          }
        },
        {
          "output_type": "display_data",
          "data": {
            "text/html": [
              "Find internal logs for this run at: <code>/content/wandb/run-20210606_164040-ai5594hc/logs/debug-internal.log</code>"
            ],
            "text/plain": [
              "<IPython.core.display.HTML object>"
            ]
          },
          "metadata": {
            "tags": []
          }
        },
        {
          "output_type": "display_data",
          "data": {
            "text/html": [
              "<h3>Run summary:</h3><br/><style>\n",
              "    table.wandb td:nth-child(1) { padding: 0 10px; text-align: right }\n",
              "    </style><table class=\"wandb\">\n",
              "<tr><td>train_score</td><td>0.76541</td></tr><tr><td>test_score</td><td>0.74805</td></tr><tr><td>_runtime</td><td>3</td></tr><tr><td>_timestamp</td><td>1622997643</td></tr><tr><td>_step</td><td>0</td></tr></table>"
            ],
            "text/plain": [
              "<IPython.core.display.HTML object>"
            ]
          },
          "metadata": {
            "tags": []
          }
        },
        {
          "output_type": "display_data",
          "data": {
            "text/html": [
              "<h3>Run history:</h3><br/><style>\n",
              "    table.wandb td:nth-child(1) { padding: 0 10px; text-align: right }\n",
              "    </style><table class=\"wandb\">\n",
              "<tr><td>train_score</td><td>▁</td></tr><tr><td>test_score</td><td>▁</td></tr><tr><td>_runtime</td><td>▁</td></tr><tr><td>_timestamp</td><td>▁</td></tr><tr><td>_step</td><td>▁</td></tr></table><br/>"
            ],
            "text/plain": [
              "<IPython.core.display.HTML object>"
            ]
          },
          "metadata": {
            "tags": []
          }
        },
        {
          "output_type": "display_data",
          "data": {
            "text/html": [
              "Synced 4 W&B file(s), 0 media file(s), 0 artifact file(s) and 0 other file(s)"
            ],
            "text/plain": [
              "<IPython.core.display.HTML object>"
            ]
          },
          "metadata": {
            "tags": []
          }
        },
        {
          "output_type": "display_data",
          "data": {
            "text/html": [
              "\n",
              "                    <br/>Synced <strong style=\"color:#cdcd00\">daily-sweep-21</strong>: <a href=\"https://wandb.ai/nfinan/my-scikit-sweep-random/runs/ai5594hc\" target=\"_blank\">https://wandb.ai/nfinan/my-scikit-sweep-random/runs/ai5594hc</a><br/>\n",
              "                "
            ],
            "text/plain": [
              "<IPython.core.display.HTML object>"
            ]
          },
          "metadata": {
            "tags": []
          }
        },
        {
          "output_type": "stream",
          "text": [
            "\u001b[34m\u001b[1mwandb\u001b[0m: Agent Starting Run: hmov0yce with config:\n",
            "\u001b[34m\u001b[1mwandb\u001b[0m: \tC: 1\n",
            "\u001b[34m\u001b[1mwandb\u001b[0m: \tdegree: 2\n",
            "\u001b[34m\u001b[1mwandb\u001b[0m: \tkernel: poly\n"
          ],
          "name": "stderr"
        },
        {
          "output_type": "display_data",
          "data": {
            "text/html": [
              "\n",
              "                Tracking run with wandb version 0.10.31<br/>\n",
              "                Resuming run <strong style=\"color:#cdcd00\">efficient-sweep-22</strong> to <a href=\"https://wandb.ai\" target=\"_blank\">Weights & Biases</a> <a href=\"https://docs.wandb.com/integrations/jupyter.html\" target=\"_blank\">(Documentation)</a>.<br/>\n",
              "                Project page: <a href=\"https://wandb.ai/nfinan/my-scikit-sweep-random\" target=\"_blank\">https://wandb.ai/nfinan/my-scikit-sweep-random</a><br/>\n",
              "                Sweep page: <a href=\"https://wandb.ai/nfinan/my-scikit-sweep-random/sweeps/tdfq09os\" target=\"_blank\">https://wandb.ai/nfinan/my-scikit-sweep-random/sweeps/tdfq09os</a><br/>\n",
              "Run page: <a href=\"https://wandb.ai/nfinan/my-scikit-sweep-random/runs/hmov0yce\" target=\"_blank\">https://wandb.ai/nfinan/my-scikit-sweep-random/runs/hmov0yce</a><br/>\n",
              "                Run data is saved locally in <code>/content/wandb/run-20210606_164048-hmov0yce</code><br/><br/>\n",
              "            "
            ],
            "text/plain": [
              "<IPython.core.display.HTML object>"
            ]
          },
          "metadata": {
            "tags": []
          }
        },
        {
          "output_type": "display_data",
          "data": {
            "text/html": [
              "<br/>Waiting for W&B process to finish, PID 989<br/>Program ended successfully."
            ],
            "text/plain": [
              "<IPython.core.display.HTML object>"
            ]
          },
          "metadata": {
            "tags": []
          }
        },
        {
          "output_type": "display_data",
          "data": {
            "application/vnd.jupyter.widget-view+json": {
              "model_id": "65c1ef7107be47d7ba43cbbd4ba71255",
              "version_minor": 0,
              "version_major": 2
            },
            "text/plain": [
              "VBox(children=(Label(value=' 0.00MB of 0.00MB uploaded (0.00MB deduped)\\r'), FloatProgress(value=1.0, max=1.0)…"
            ]
          },
          "metadata": {
            "tags": []
          }
        },
        {
          "output_type": "display_data",
          "data": {
            "text/html": [
              "Find user logs for this run at: <code>/content/wandb/run-20210606_164048-hmov0yce/logs/debug.log</code>"
            ],
            "text/plain": [
              "<IPython.core.display.HTML object>"
            ]
          },
          "metadata": {
            "tags": []
          }
        },
        {
          "output_type": "display_data",
          "data": {
            "text/html": [
              "Find internal logs for this run at: <code>/content/wandb/run-20210606_164048-hmov0yce/logs/debug-internal.log</code>"
            ],
            "text/plain": [
              "<IPython.core.display.HTML object>"
            ]
          },
          "metadata": {
            "tags": []
          }
        },
        {
          "output_type": "display_data",
          "data": {
            "text/html": [
              "<h3>Run summary:</h3><br/><style>\n",
              "    table.wandb td:nth-child(1) { padding: 0 10px; text-align: right }\n",
              "    </style><table class=\"wandb\">\n",
              "<tr><td>train_score</td><td>0.6408</td></tr><tr><td>test_score</td><td>0.68364</td></tr><tr><td>_runtime</td><td>2</td></tr><tr><td>_timestamp</td><td>1622997650</td></tr><tr><td>_step</td><td>0</td></tr></table>"
            ],
            "text/plain": [
              "<IPython.core.display.HTML object>"
            ]
          },
          "metadata": {
            "tags": []
          }
        },
        {
          "output_type": "display_data",
          "data": {
            "text/html": [
              "<h3>Run history:</h3><br/><style>\n",
              "    table.wandb td:nth-child(1) { padding: 0 10px; text-align: right }\n",
              "    </style><table class=\"wandb\">\n",
              "<tr><td>train_score</td><td>▁</td></tr><tr><td>test_score</td><td>▁</td></tr><tr><td>_runtime</td><td>▁</td></tr><tr><td>_timestamp</td><td>▁</td></tr><tr><td>_step</td><td>▁</td></tr></table><br/>"
            ],
            "text/plain": [
              "<IPython.core.display.HTML object>"
            ]
          },
          "metadata": {
            "tags": []
          }
        },
        {
          "output_type": "display_data",
          "data": {
            "text/html": [
              "Synced 4 W&B file(s), 0 media file(s), 0 artifact file(s) and 0 other file(s)"
            ],
            "text/plain": [
              "<IPython.core.display.HTML object>"
            ]
          },
          "metadata": {
            "tags": []
          }
        },
        {
          "output_type": "display_data",
          "data": {
            "text/html": [
              "\n",
              "                    <br/>Synced <strong style=\"color:#cdcd00\">efficient-sweep-22</strong>: <a href=\"https://wandb.ai/nfinan/my-scikit-sweep-random/runs/hmov0yce\" target=\"_blank\">https://wandb.ai/nfinan/my-scikit-sweep-random/runs/hmov0yce</a><br/>\n",
              "                "
            ],
            "text/plain": [
              "<IPython.core.display.HTML object>"
            ]
          },
          "metadata": {
            "tags": []
          }
        },
        {
          "output_type": "stream",
          "text": [
            "\u001b[34m\u001b[1mwandb\u001b[0m: Agent Starting Run: sknfv5do with config:\n",
            "\u001b[34m\u001b[1mwandb\u001b[0m: \tC: 1\n",
            "\u001b[34m\u001b[1mwandb\u001b[0m: \tdegree: 3\n",
            "\u001b[34m\u001b[1mwandb\u001b[0m: \tkernel: sigmoid\n"
          ],
          "name": "stderr"
        },
        {
          "output_type": "display_data",
          "data": {
            "text/html": [
              "\n",
              "                Tracking run with wandb version 0.10.31<br/>\n",
              "                Resuming run <strong style=\"color:#cdcd00\">dark-sweep-23</strong> to <a href=\"https://wandb.ai\" target=\"_blank\">Weights & Biases</a> <a href=\"https://docs.wandb.com/integrations/jupyter.html\" target=\"_blank\">(Documentation)</a>.<br/>\n",
              "                Project page: <a href=\"https://wandb.ai/nfinan/my-scikit-sweep-random\" target=\"_blank\">https://wandb.ai/nfinan/my-scikit-sweep-random</a><br/>\n",
              "                Sweep page: <a href=\"https://wandb.ai/nfinan/my-scikit-sweep-random/sweeps/tdfq09os\" target=\"_blank\">https://wandb.ai/nfinan/my-scikit-sweep-random/sweeps/tdfq09os</a><br/>\n",
              "Run page: <a href=\"https://wandb.ai/nfinan/my-scikit-sweep-random/runs/sknfv5do\" target=\"_blank\">https://wandb.ai/nfinan/my-scikit-sweep-random/runs/sknfv5do</a><br/>\n",
              "                Run data is saved locally in <code>/content/wandb/run-20210606_164055-sknfv5do</code><br/><br/>\n",
              "            "
            ],
            "text/plain": [
              "<IPython.core.display.HTML object>"
            ]
          },
          "metadata": {
            "tags": []
          }
        },
        {
          "output_type": "display_data",
          "data": {
            "text/html": [
              "<br/>Waiting for W&B process to finish, PID 1025<br/>Program ended successfully."
            ],
            "text/plain": [
              "<IPython.core.display.HTML object>"
            ]
          },
          "metadata": {
            "tags": []
          }
        },
        {
          "output_type": "display_data",
          "data": {
            "application/vnd.jupyter.widget-view+json": {
              "model_id": "748322621f3c40b1b751963243697a1d",
              "version_minor": 0,
              "version_major": 2
            },
            "text/plain": [
              "VBox(children=(Label(value=' 0.00MB of 0.00MB uploaded (0.00MB deduped)\\r'), FloatProgress(value=1.0, max=1.0)…"
            ]
          },
          "metadata": {
            "tags": []
          }
        },
        {
          "output_type": "display_data",
          "data": {
            "text/html": [
              "Find user logs for this run at: <code>/content/wandb/run-20210606_164055-sknfv5do/logs/debug.log</code>"
            ],
            "text/plain": [
              "<IPython.core.display.HTML object>"
            ]
          },
          "metadata": {
            "tags": []
          }
        },
        {
          "output_type": "display_data",
          "data": {
            "text/html": [
              "Find internal logs for this run at: <code>/content/wandb/run-20210606_164055-sknfv5do/logs/debug-internal.log</code>"
            ],
            "text/plain": [
              "<IPython.core.display.HTML object>"
            ]
          },
          "metadata": {
            "tags": []
          }
        },
        {
          "output_type": "display_data",
          "data": {
            "text/html": [
              "<h3>Run summary:</h3><br/><style>\n",
              "    table.wandb td:nth-child(1) { padding: 0 10px; text-align: right }\n",
              "    </style><table class=\"wandb\">\n",
              "<tr><td>train_score</td><td>0.39033</td></tr><tr><td>test_score</td><td>0.53841</td></tr><tr><td>_runtime</td><td>2</td></tr><tr><td>_timestamp</td><td>1622997657</td></tr><tr><td>_step</td><td>0</td></tr></table>"
            ],
            "text/plain": [
              "<IPython.core.display.HTML object>"
            ]
          },
          "metadata": {
            "tags": []
          }
        },
        {
          "output_type": "display_data",
          "data": {
            "text/html": [
              "<h3>Run history:</h3><br/><style>\n",
              "    table.wandb td:nth-child(1) { padding: 0 10px; text-align: right }\n",
              "    </style><table class=\"wandb\">\n",
              "<tr><td>train_score</td><td>▁</td></tr><tr><td>test_score</td><td>▁</td></tr><tr><td>_runtime</td><td>▁</td></tr><tr><td>_timestamp</td><td>▁</td></tr><tr><td>_step</td><td>▁</td></tr></table><br/>"
            ],
            "text/plain": [
              "<IPython.core.display.HTML object>"
            ]
          },
          "metadata": {
            "tags": []
          }
        },
        {
          "output_type": "display_data",
          "data": {
            "text/html": [
              "Synced 4 W&B file(s), 0 media file(s), 0 artifact file(s) and 0 other file(s)"
            ],
            "text/plain": [
              "<IPython.core.display.HTML object>"
            ]
          },
          "metadata": {
            "tags": []
          }
        },
        {
          "output_type": "display_data",
          "data": {
            "text/html": [
              "\n",
              "                    <br/>Synced <strong style=\"color:#cdcd00\">dark-sweep-23</strong>: <a href=\"https://wandb.ai/nfinan/my-scikit-sweep-random/runs/sknfv5do\" target=\"_blank\">https://wandb.ai/nfinan/my-scikit-sweep-random/runs/sknfv5do</a><br/>\n",
              "                "
            ],
            "text/plain": [
              "<IPython.core.display.HTML object>"
            ]
          },
          "metadata": {
            "tags": []
          }
        }
      ]
    },
    {
      "cell_type": "code",
      "metadata": {
        "id": "ZrUBg1Z1GWT6"
      },
      "source": [
        ""
      ],
      "execution_count": null,
      "outputs": []
    }
  ]
}